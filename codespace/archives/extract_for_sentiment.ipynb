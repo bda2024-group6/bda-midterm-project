{
 "cells": [
  {
   "cell_type": "code",
   "execution_count": 8,
   "metadata": {},
   "outputs": [
    {
     "name": "stderr",
     "output_type": "stream",
     "text": [
      "/Library/Frameworks/Python.framework/Versions/3.9/lib/python3.9/site-packages/ckiptagger/model_ws.py:106: UserWarning: `tf.nn.rnn_cell.LSTMCell` is deprecated and will be removed in a future version. This class is equivalent as `tf.keras.layers.LSTMCell`, and will be replaced by that in Tensorflow 2.0.\n",
      "  cell = tf.compat.v1.nn.rnn_cell.LSTMCell(hidden_d, name=name)\n",
      "/Library/Frameworks/Python.framework/Versions/3.9/lib/python3.9/site-packages/ckiptagger/model_pos.py:56: UserWarning: `tf.nn.rnn_cell.LSTMCell` is deprecated and will be removed in a future version. This class is equivalent as `tf.keras.layers.LSTMCell`, and will be replaced by that in Tensorflow 2.0.\n",
      "  cell = tf.compat.v1.nn.rnn_cell.LSTMCell(hidden_d, name=name)\n",
      "/Library/Frameworks/Python.framework/Versions/3.9/lib/python3.9/site-packages/ckiptagger/model_ner.py:57: UserWarning: `tf.nn.rnn_cell.LSTMCell` is deprecated and will be removed in a future version. This class is equivalent as `tf.keras.layers.LSTMCell`, and will be replaced by that in Tensorflow 2.0.\n",
      "  cell = tf.compat.v1.nn.rnn_cell.LSTMCell(hidden_d, name=name)\n"
     ]
    }
   ],
   "source": [
    "import pandas as pd\n",
    "import numpy as np\n",
    "from ckiptagger import data_utils, construct_dictionary, WS, POS, NER\n",
    "ws = WS(\"./data_ckip\")\n",
    "pos = POS(\"./data_ckip\")\n",
    "ner = NER(\"./data_ckip\")"
   ]
  },
  {
   "cell_type": "code",
   "execution_count": 9,
   "metadata": {},
   "outputs": [],
   "source": [
    "def word_pos_sentence(word_sentence, pos_sentence):\n",
    "    result = ''\n",
    "    assert len(word_sentence) == len(pos_sentence)\n",
    "    for word, pos in zip(word_sentence, pos_sentence):\n",
    "        # Ignore whitespace\n",
    "        if pos != 'WHITESPACE' and pos != \"FW\":\n",
    "            result += '{}({}) '.format(word, pos)\n",
    "    result = result[:-1]\n",
    "    return result"
   ]
  },
  {
   "cell_type": "code",
   "execution_count": 11,
   "metadata": {},
   "outputs": [],
   "source": [
    "# Split the data into training and testing sets\n",
    "datas = {\n",
    "    'ptt': pd.read_csv('../data/ptt_cleaned.csv'),\n",
    "    'dcard': pd.read_csv('../data/dcard_cleaned.csv'),\n",
    "    'news': pd.read_csv('../data/news_cleaned.csv'),\n",
    "}\n",
    "\n",
    "for name, data in datas.items():\n",
    "    # substitude the nan value with empty string\n",
    "    data['content_cleaned'] = data['content_cleaned'].replace(np.nan, '', regex=True)\n",
    "    word_sentence_list = ws(\n",
    "        data['content_cleaned'],\n",
    "        sentence_segmentation=True, # To consider delimiters\n",
    "        segment_delimiter_set={'?', '？', '!', '！', '。', ',','，', ';', ':', '、', ' '})\n",
    "    pos_sentence_list_19 = pos(word_sentence_list)\n",
    "    count = 0 \n",
    "    for sentence in zip(word_sentence_list, pos_sentence_list_19):\n",
    "        count += 1\n",
    "        with open(f'../data/pos_tagged_data/{name}/{count}.txt', 'w') as f:\n",
    "            f.write(word_pos_sentence(sentence[0], sentence[1]) + '\\n')"
   ]
  },
  {
   "cell_type": "code",
   "execution_count": 7,
   "metadata": {},
   "outputs": [],
   "source": [
    "# 生成 lst 檔案\n",
    "for name, data in datas.items():\n",
    "    # num is the number of rows\n",
    "    num = len(data)\n",
    "    with open(f'../data/pos_tagged_data/{name}.lst', 'w') as f:\n",
    "        for i in range(1, num+1):\n",
    "            input_filename = f\"{i}.txt\"\n",
    "            output_filename = str(i)\n",
    "            f.write(f\"./{name}/{input_filename} {output_filename}\\n\")\n"
   ]
  }
 ],
 "metadata": {
  "kernelspec": {
   "display_name": "Python 3",
   "language": "python",
   "name": "python3"
  },
  "language_info": {
   "codemirror_mode": {
    "name": "ipython",
    "version": 3
   },
   "file_extension": ".py",
   "mimetype": "text/x-python",
   "name": "python",
   "nbconvert_exporter": "python",
   "pygments_lexer": "ipython3",
   "version": "3.9.13"
  }
 },
 "nbformat": 4,
 "nbformat_minor": 2
}
