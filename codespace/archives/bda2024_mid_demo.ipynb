{
 "cells": [
  {
   "cell_type": "markdown",
   "id": "74d5c339-21b3-4405-a4db-874895664cff",
   "metadata": {},
   "source": [
    "## Import Packages"
   ]
  },
  {
   "cell_type": "code",
   "execution_count": 38,
   "id": "12a7e634-55b6-4887-a165-18c54e75b29f",
   "metadata": {},
   "outputs": [
    {
     "name": "stdout",
     "output_type": "stream",
     "text": [
      "View all datasets:\n",
      "bda2024_202203-202402_討論數據_dcard.csv\n",
      "bda2024_202203-202402_內容數據_新聞3.csv\n",
      "bda2024_微股力_籌碼數據-2年.csv\n",
      "bda2024_202203-202402_內容數據_新聞2.csv\n",
      "bda2024_微股力_社群PKTD-2年.csv\n",
      "bda2024_202203-202402_內容數據_新聞1.csv\n",
      "bda2024_202203-202402_討論數據_ptt.csv\n",
      "bda2024_微股力_財報數據-2年.csv\n",
      "bda2024_微股力_個股交易數據-2年.csv\n",
      "bda2024_202203-202402_討論數據_mobile01-1.csv\n",
      "bda2024_202203-202402_討論數據_mobile01-2.csv\n"
     ]
    }
   ],
   "source": [
    "import os\n",
    "import pickle\n",
    "import matplotlib.pyplot as plt\n",
    "from datetime import datetime, timedelta\n",
    "from collections import Counter\n",
    "from tqdm import tqdm\n",
    "\n",
    "import numpy as np\n",
    "import pandas as pd\n",
    "import seaborn as sns\n",
    "\n",
    "from sklearn.neighbors import KNeighborsClassifier\n",
    "from sklearn.neural_network import MLPClassifier\n",
    "from sklearn.metrics import accuracy_score, balanced_accuracy_score, confusion_matrix\n",
    "\n",
    "data_dir = \"../bda2024_mid_dataset\"\n",
    "%cd -q ../bda2024_mid_dataset\n",
    "\n",
    "files = os.listdir(data_dir)\n",
    "print(\"View all datasets:\")\n",
    "for f in files:\n",
    "    print(f)"
   ]
  },
  {
   "cell_type": "markdown",
   "id": "5bd3e251-46a4-4314-9ea3-af7a1345bad0",
   "metadata": {},
   "source": [
    "## 資料前處理"
   ]
  },
  {
   "cell_type": "code",
   "execution_count": 2,
   "id": "db121217-2754-4f31-8d90-f9a92e5b14e0",
   "metadata": {},
   "outputs": [],
   "source": [
    "def load_df(filepath, preview=True):\n",
    "    print(f\"\\n----- Loading {filepath}... -----\")\n",
    "    df = pd.read_csv(filepath)\n",
    "    print(f\"Size of dataframe: {df.shape}\")\n",
    "    print(f\"Columns: {list(df.columns)}\")\n",
    "    if preview:\n",
    "        print(df.head())\n",
    "    return df"
   ]
  },
  {
   "cell_type": "code",
   "execution_count": 3,
   "id": "f13abea3-0d5b-449a-84e0-006335cc1946",
   "metadata": {},
   "outputs": [
    {
     "name": "stdout",
     "output_type": "stream",
     "text": [
      "\n",
      "----- Loading bda2024_202203-202402_內容數據_新聞1.csv... -----\n",
      "Size of dataframe: (179449, 9)\n",
      "Columns: ['id', 'p_type', 's_name', 's_area_name', 'post_time', 'title', 'author', 'content', 'page_url']\n",
      "\n",
      "----- Loading bda2024_202203-202402_內容數據_新聞2.csv... -----\n",
      "Size of dataframe: (15114, 9)\n",
      "Columns: ['id', 'p_type', 's_name', 's_area_name', 'post_time', 'title', 'author', 'content', 'page_url']\n",
      "\n",
      "----- Loading bda2024_202203-202402_內容數據_新聞3.csv... -----\n",
      "Size of dataframe: (290929, 9)\n",
      "Columns: ['id', 'p_type', 's_name', 's_area_name', 'post_time', 'title', 'author', 'content', 'page_url']\n",
      "\n",
      "----- Loading bda2024_202203-202402_討論數據_dcard.csv... -----\n",
      "Size of dataframe: (231320, 10)\n",
      "Columns: ['id', 'forum', 's_name', 's_area_name', 'post_time', 'title', 'author', 'content', 'page_url', 'content_type']\n",
      "\n",
      "----- Loading bda2024_202203-202402_討論數據_mobile01-1.csv... -----\n",
      "Size of dataframe: (48725, 10)\n",
      "Columns: ['id', 'p_type', 's_name', 's_area_name', 'post_time', 'title', 'author', 'content', 'page_url', 'content_type']\n",
      "\n",
      "----- Loading bda2024_202203-202402_討論數據_mobile01-2.csv... -----\n",
      "Size of dataframe: (157939, 10)\n",
      "Columns: ['id', 'p_type', 's_name', 's_area_name', 'post_time', 'title', 'author', 'content', 'page_url', 'content_type']\n",
      "\n",
      "----- Loading bda2024_202203-202402_討論數據_ptt.csv... -----\n",
      "Size of dataframe: (50805, 9)\n",
      "Columns: ['id', 'p_type', 's_name', 's_area_name', 'post_time', 'title', 'author', 'content', 'page_url']\n",
      "\n",
      "----- Loading bda2024_微股力_個股交易數據-2年.csv... -----\n"
     ]
    },
    {
     "name": "stderr",
     "output_type": "stream",
     "text": [
      "/var/folders/sr/p865qt7903n0vsc4f6bc11qr0000gn/T/ipykernel_23346/550884886.py:3: DtypeWarning: Columns (1) have mixed types. Specify dtype option on import or set low_memory=False.\n",
      "  df = pd.read_csv(filepath)\n"
     ]
    },
    {
     "name": "stdout",
     "output_type": "stream",
     "text": [
      "Size of dataframe: (1154225, 8)\n",
      "Columns: ['stock_name', 'stock_symbol', 'open', 'high', 'low', 'close', 'volume', 'date']\n",
      "  stock_name stock_symbol   open   high    low  close  volume  \\\n",
      "0         日馳         1526  47.55  48.45  47.55  48.30     138   \n",
      "1         日馳         1526  48.30  48.30  47.40  47.95     153   \n",
      "2         日馳         1526  48.45  48.70  47.80  48.10     120   \n",
      "3         日馳         1526  47.95  47.95  47.55  47.60     165   \n",
      "4         日馳         1526  47.65  47.65  45.30  45.65     514   \n",
      "\n",
      "                  date  \n",
      "0  2022-03-01 00:00:00  \n",
      "1  2022-03-02 00:00:00  \n",
      "2  2022-03-03 00:00:00  \n",
      "3  2022-03-04 00:00:00  \n",
      "4  2022-03-07 00:00:00  \n",
      "\n",
      "----- Loading bda2024_微股力_財報數據-2年.csv... -----\n",
      "Size of dataframe: (16482, 16)\n",
      "Columns: ['stock_name', 'stock_symbol', 'period', 'gross_profit_margin', 'operating_profit_margin', 'net_profit_margin', 'return_on_equity', 'debt_ratio', 'interest_coverage', 'current_ratio', 'quick_ratio', 'accounts_turnover', 'inventory_turnover', 'eps', 'book_value_per_share', 'date']\n",
      "  stock_name  stock_symbol period  gross_profit_margin  \\\n",
      "0         福壽          1219      Q                 8.80   \n",
      "1        福懋油          1225      Q                 5.96   \n",
      "2         福壽          1219      Q                 6.58   \n",
      "3         福壽          1219      Q                 5.12   \n",
      "4         福壽          1219      Q                 9.96   \n",
      "\n",
      "   operating_profit_margin  net_profit_margin  return_on_equity  debt_ratio  \\\n",
      "0                     1.94               1.50              1.42       52.58   \n",
      "1                     1.98               1.64              1.60       54.00   \n",
      "2                     0.14               0.30              0.30       56.85   \n",
      "3                    -1.50              -0.83             -0.78       57.37   \n",
      "4                     3.21               3.13              2.93       56.61   \n",
      "\n",
      "   interest_coverage  current_ratio  quick_ratio  accounts_turnover  \\\n",
      "0               4.54         159.74        81.54               2.30   \n",
      "1               4.82         157.96        97.87               1.96   \n",
      "2               2.15         149.43        79.16               2.25   \n",
      "3              -1.93         156.40        73.49               2.21   \n",
      "4              12.68         152.37        73.20               2.31   \n",
      "\n",
      "   inventory_turnover   eps  book_value_per_share                 date  \n",
      "0                1.60  0.19                 13.83  2023-03-01 00:00:00  \n",
      "1                1.89  0.30                 16.18  2023-03-01 00:00:00  \n",
      "2                1.47  0.05                 13.63  2022-12-01 00:00:00  \n",
      "3                1.36 -0.10                 13.57  2022-09-01 00:00:00  \n",
      "4                1.62  0.42                 13.67  2022-06-01 00:00:00  \n",
      "\n",
      "----- Loading bda2024_微股力_籌碼數據-2年.csv... -----\n"
     ]
    },
    {
     "name": "stderr",
     "output_type": "stream",
     "text": [
      "/var/folders/sr/p865qt7903n0vsc4f6bc11qr0000gn/T/ipykernel_23346/550884886.py:3: DtypeWarning: Columns (1) have mixed types. Specify dtype option on import or set low_memory=False.\n",
      "  df = pd.read_csv(filepath)\n"
     ]
    },
    {
     "name": "stdout",
     "output_type": "stream",
     "text": [
      "Size of dataframe: (998031, 9)\n",
      "Columns: ['stock_name', 'stock_symbol', 'foreign_investor_bought', 'foreign_investor_sold', 'investment_trust_bought', 'investment_trust_sold', 'dealer_bought', 'dealer_sold', 'date']\n",
      "  stock_name stock_symbol  foreign_investor_bought  foreign_investor_sold  \\\n",
      "0         信大         1109                     2000                   3000   \n",
      "1         信大         1109                        0                  11000   \n",
      "2         信大         1109                    11000                  21000   \n",
      "3         信大         1109                    13000                   4000   \n",
      "4         信大         1109                    68000                  17000   \n",
      "\n",
      "   investment_trust_bought  investment_trust_sold  dealer_bought  dealer_sold  \\\n",
      "0                        0                      0           6000            0   \n",
      "1                        0                      0           1000            0   \n",
      "2                        0                      0              0            0   \n",
      "3                        0                      0           3000           94   \n",
      "4                        0                      0              0            7   \n",
      "\n",
      "                  date  \n",
      "0  2023-06-29 00:00:00  \n",
      "1  2023-06-28 00:00:00  \n",
      "2  2023-06-27 00:00:00  \n",
      "3  2023-06-26 00:00:00  \n",
      "4  2023-06-21 00:00:00  \n",
      "\n",
      "----- Loading bda2024_微股力_社群PKTD-2年.csv... -----\n",
      "Size of dataframe: (10436775, 6)\n",
      "Columns: ['date', 'stock_symbol', 'actionP', 'actionK', 'actionT', 'actionD']\n",
      "               date stock_symbol  actionP  actionK  actionT  actionD\n",
      "0  2022-01-01 00:02         2884        0      123        0        0\n",
      "1  2022-01-01 00:05         5457        0      123        0        0\n",
      "2  2022-01-01 00:06         2002        0      123        0        0\n",
      "3  2022-01-01 00:09         3374        0      123        0        0\n",
      "4  2022-01-01 00:17          TSE        0      123        0        0\n",
      "\n",
      "news_df\n",
      "Size of dataframe: (485492, 9)\n",
      "Columns: ['id', 'p_type', 's_name', 's_area_name', 'post_time', 'title', 'author', 'content', 'page_url']\n",
      "                  id p_type                   s_name s_area_name  \\\n",
      "0  1646075372873_N01   news  Yahoo股市(收錄2022/12/1前資料)        財經新聞   \n",
      "1  1646075374896_N01   news  Yahoo股市(收錄2022/12/1前資料)        財經新聞   \n",
      "2  1646075377238_N01   news  Yahoo股市(收錄2022/12/1前資料)        財經新聞   \n",
      "3  1646084374652_N01   news  Yahoo股市(收錄2022/12/1前資料)        財經新聞   \n",
      "4  1646084376722_N01   news  Yahoo股市(收錄2022/12/1前資料)        財經新聞   \n",
      "\n",
      "                 post_time                   title author  \\\n",
      "0  2022-03-01 02:54:41.000     桃園幼兒園群聚擴大 觀音國小預防性隔離    NaN   \n",
      "1  2022-03-01 02:56:10.000    台股週報》外資賣超破紀錄 緊盯兩大關鍵點    NaN   \n",
      "2  2022-03-01 02:59:00.000  滙豐美金活存加碼2% 台幣跨行50次免手續費    NaN   \n",
      "3  2022-03-01 04:10:00.000                 今日股市備忘錄    NaN   \n",
      "4  2022-03-01 04:10:00.000  去年EPS 4.14元 花仙子 擬配3元股息    NaN   \n",
      "\n",
      "                                             content  \\\n",
      "0  記者 段楚禎 報導由於桃園多所國小班級感染新冠肺炎，228連假過後還要再進行隔離，以防疫情再...   \n",
      "1  記者 陳鑫 報導 受到俄烏開戰衝擊，台股上週萬八失守收在17652.18點，週線重挫約580...   \n",
      "2  記者 段楚禎 報導通膨時代來襲，理財尤其不能馬虎。總部設於英國倫敦、歐系最大規模銀行、已有超...   \n",
      "3  ＊股東臨時會：聚紡、興采＊新股掛牌：廣閎科＊競拍開標：綠界科技＊注意股票：精材、大宇資、金益...   \n",
      "4  家用清潔用品大廠花仙子（1730）去年營收31.38億元、年增2.6％，稅後淨利2.89億元...   \n",
      "\n",
      "                                            page_url  \n",
      "0  https://tw.stock.yahoo.com/news/%E6%A1%83%E5%9...  \n",
      "1  https://tw.stock.yahoo.com/news/%E5%8F%B0%E8%8...  \n",
      "2  https://tw.stock.yahoo.com/news/%E6%BB%99%E8%B...  \n",
      "3  https://tw.stock.yahoo.com/news/%E4%BB%8A%E6%9...  \n",
      "4  https://tw.stock.yahoo.com/news/%E5%8E%BB%E5%B...  \n",
      "\n",
      "disc_df\n",
      "Size of dataframe: (488789, 10)\n",
      "Columns: ['id', 'p_type', 's_name', 's_area_name', 'post_time', 'title', 'author', 'content', 'page_url', 'content_type']\n",
      "                    id p_type      s_name s_area_name  \\\n",
      "0  1646109801927_F0DCU  forum  校園聊天-Dcard          股票   \n",
      "1  1646109801940_F0DCU  forum  校園聊天-Dcard          股票   \n",
      "2  1646115341451_F0DCU  forum  校園聊天-Dcard          股票   \n",
      "3  1646113689192_F0DCU  forum  校園聊天-Dcard          股票   \n",
      "4  1646068286032_F0DCU  forum  校園聊天-Dcard          股票   \n",
      "\n",
      "                 post_time                 title      author  \\\n",
      "0  2022-03-01 00:00:18.000        #分享 投資股票個人經驗分享      靜宜大學/F   \n",
      "1  2022-03-01 00:00:22.000        #分享 投資股票個人經驗分享      銘傳大學/F   \n",
      "2  2022-03-01 00:07:48.000  #標的 請問現在 台積電 是時候買入嗎？  國立臺灣藝術大學/F   \n",
      "3  2022-03-01 00:14:04.000         #分享 明天燦坤有機會漲停      大葉大學/M   \n",
      "4  2022-03-01 00:17:39.000        #分享 當沖 六個月的心情😂      大葉大學/M   \n",
      "\n",
      "                              content  \\\n",
      "0            定股美股ETF長期去抓報酬也是適合的投資工具方式   \n",
      "1                  最近剛申辦覺得定期定額投資美股很方便   \n",
      "2                          我三百買的 給你參考   \n",
      "3                                 中鋼呢   \n",
      "4  有100時候怎麼沒有選擇減碼落袋為安\\n現在用什麼心態在做當沖呢？？   \n",
      "\n",
      "                                   page_url content_type  \n",
      "0  https://www.dcard.tw/f/stock/p/238234580        reply  \n",
      "1  https://www.dcard.tw/f/stock/p/238234580        reply  \n",
      "2  https://www.dcard.tw/f/stock/p/238223315        reply  \n",
      "3  https://www.dcard.tw/f/stock/p/238235656        reply  \n",
      "4  https://www.dcard.tw/f/stock/p/238226002        reply  \n"
     ]
    }
   ],
   "source": [
    "news1_df = load_df(\"bda2024_202203-202402_內容數據_新聞1.csv\", preview=False)\n",
    "news2_df = load_df(\"bda2024_202203-202402_內容數據_新聞2.csv\", preview=False)\n",
    "news3_df = load_df(\"bda2024_202203-202402_內容數據_新聞3.csv\", preview=False)\n",
    "news_df = pd.concat([news1_df, news2_df, news3_df], ignore_index=True)\n",
    "\n",
    "disc_dcard_df = load_df(\"bda2024_202203-202402_討論數據_dcard.csv\", preview=False)\n",
    "disc_dcard_df.rename(columns={'forum': 'p_type'}, inplace=True)    # Repair column name typo in data\n",
    "disc_m1_df = load_df(\"bda2024_202203-202402_討論數據_mobile01-1.csv\", preview=False)\n",
    "disc_m2_df = load_df(\"bda2024_202203-202402_討論數據_mobile01-2.csv\", preview=False)\n",
    "disc_ptt_df = load_df(\"bda2024_202203-202402_討論數據_ptt.csv\", preview=False)\n",
    "disc_df = pd.concat([disc_dcard_df, disc_m1_df, disc_m2_df, disc_ptt_df], ignore_index=True)\n",
    "\n",
    "transaction_df = load_df(\"bda2024_微股力_個股交易數據-2年.csv\")\n",
    "report_df = load_df(\"bda2024_微股力_財報數據-2年.csv\")\n",
    "chip_df = load_df(\"bda2024_微股力_籌碼數據-2年.csv\")\n",
    "social_df = load_df(\"bda2024_微股力_社群PKTD-2年.csv\")\n",
    "transaction_df['stock_symbol'] = transaction_df['stock_symbol'].astype(str)\n",
    "chip_df['stock_symbol'] = chip_df['stock_symbol'].astype(str)    # Repair mixed data types\n",
    "\n",
    "print(f\"\\nnews_df\\nSize of dataframe: {news_df.shape}\\nColumns: {list(news_df.columns)}\")\n",
    "print(news_df.head())\n",
    "print(f\"\\ndisc_df\\nSize of dataframe: {disc_df.shape}\\nColumns: {list(disc_df.columns)}\")\n",
    "print(disc_df.head())"
   ]
  },
  {
   "cell_type": "markdown",
   "id": "dc8cc4d9-1407-448c-93f3-901dd96e3c53",
   "metadata": {},
   "source": [
    "## 1. 看漲文章、看跌文章\n",
    "以 2023 年 1 月至 3 月、2023 年 4 月緯創和聯電的新聞分別做為訓練資料和測試資料。"
   ]
  },
  {
   "cell_type": "markdown",
   "id": "8fc5f4c9",
   "metadata": {},
   "source": [
    "### a. 處理股價資訊\n",
    "\n",
    "1. 透過個股交易數據計算 label，處理資料時需注意股票開休市日期。\\\n",
    "舉例：[1, 2, 7, 9, 13, 14, 17]，Day 8 的新聞會用 Day 9 - 14 的漲跌資訊標記。\n",
    "\n",
    "2. 需注意設定股價變化的 threshold，太高會使 y 中有許多數值為 0、太低則可能需要頻繁地交易，扣除手續費後便無利可圖。"
   ]
  },
  {
   "cell_type": "code",
   "execution_count": 4,
   "id": "49a67108",
   "metadata": {},
   "outputs": [],
   "source": [
    "stock_names = [\"緯創\", \"聯電\"]\n",
    "dates_train = (datetime(2023, 1, 1).date(), datetime(2023, 3, 31).date())\n",
    "dates_test = (datetime(2023, 4, 1).date(), datetime(2023, 4, 30).date())"
   ]
  },
  {
   "cell_type": "code",
   "execution_count": 29,
   "id": "68d05541",
   "metadata": {},
   "outputs": [],
   "source": [
    "%cd -q ../bda2024_mid_demo\n",
    "transaction_df['date'] = pd.to_datetime(transaction_df['date']).dt.date\n",
    "news_df['post_time'] = pd.to_datetime(news_df['post_time'])\n",
    "news_df['post_time'] = news_df['post_time'].dt.date\n",
    "\n",
    "def get_next_date(input_date, dates_list):\n",
    "    index = sum(1 for d in dates_list if d < input_date)\n",
    "    return index, dates_list[index]\n",
    "\n",
    "def check_contained_option(title, options):\n",
    "    for option in options:\n",
    "        if option in title:\n",
    "            return option\n",
    "    return None\n",
    "\n",
    "def print_logs(func):\n",
    "    def wrapper(*args, **kwargs):\n",
    "        print(f\"Executing {func.__name__} ......\")\n",
    "        return func(*args, **kwargs)\n",
    "    return wrapper\n",
    "\n",
    "def load_news_embeddings():\n",
    "    with open('embedding_dict_train.pkl', 'rb') as f:\n",
    "        embedding_dict_train = pickle.load(f)\n",
    "    with open('embedding_dict_test.pkl', 'rb') as f:\n",
    "        embedding_dict_test = pickle.load(f)\n",
    "    print(f\"Size of <embedding_dict_train>: {len(embedding_dict_train)}\")\n",
    "    print(f\"Size of <embedding_dict_test>: {len(embedding_dict_test)}\")\n",
    "    return embedding_dict_train, embedding_dict_test\n",
    "\n",
    "class NewsPriceDataset:\n",
    "    \"\"\"\n",
    "    Description\n",
    "        Prepare training and testing dataset for stock trading.\n",
    "        X: News embeddings, y: Change in stock price\n",
    "    \n",
    "    Strategies\n",
    "        1. y discrete, news categorized as decrease (-1; sell), stable (0; hold), increase (+1; buy) sets.\n",
    "        # 2. y continuous, trade if predicted price change is greater than given threshold.\n",
    "\n",
    "    Parameters\n",
    "        stock_names: Name of the stocks to trade.\n",
    "        dates_train: (start_date, end_date), dates covered in the training set.\n",
    "        dates_test:  (start_date, end_date), dates covered in the testing set.\n",
    "        n_days_after, threshold: If the predicted price change in <n_days_after> days is greater than <threshold>, make a transaction.\n",
    "    \"\"\"\n",
    "    def __init__(self, stock_names, dates_train, dates_test, n_days_after, threshold):\n",
    "        self.stock_names = stock_names\n",
    "        self.dates_train_start, self.dates_train_end = dates_train\n",
    "        self.dates_test_start, self.dates_test_end = dates_test\n",
    "        self.dates_list = sorted(transaction_df.loc[(transaction_df['stock_name']==self.stock_names[0])]['date'])\n",
    "\n",
    "        self.n_days_after = n_days_after\n",
    "        self.threshold = threshold\n",
    "        self.answers = self.get_answers()\n",
    "        self.news_by_date = {}\n",
    "\n",
    "        self.embedding_dict = {}\n",
    "        self.X_train, self.y_train = [], []\n",
    "        self.X_test, self.y_test = [], []\n",
    "    \n",
    "    def __str__(self):\n",
    "        return f\"NewsPriceDataset for {self.stock_names} (n_days_after={self.n_days_after}, threshold={self.threshold})\\n\\\n",
    "                 X_train: {np.shape(self.X_train)}, y_train: {np.shape(self.y_train)}\\n\\\n",
    "                 X_test: {np.shape(self.X_test)}, y_test: {np.shape(self.y_test)}\" \n",
    "\n",
    "    def get_answer(self, stock_name, input_date):\n",
    "        i, _ = get_next_date(input_date, self.dates_list)\n",
    "        open_date, close_date = self.dates_list[i], self.dates_list[i + self.n_days_after]\n",
    "        \n",
    "        open_price = transaction_df.loc[(transaction_df['date']==open_date) &\n",
    "                                        (transaction_df['stock_name']==stock_name)]['open'].iloc[0]\n",
    "        close_price = transaction_df.loc[(transaction_df['date']==close_date) & \n",
    "                                        (transaction_df['stock_name']==stock_name)]['close'].iloc[0]\n",
    "        price_change = (close_price - open_price) / open_price\n",
    "        print(f\"{stock_name:5} | {price_change:5.2f} (Open: {open_date}, {open_price} | Close: {close_date}, {close_price})\")\n",
    "\n",
    "        if price_change >= self.threshold:\n",
    "            return 1     # buy\n",
    "        elif price_change <= -self.threshold:\n",
    "            return -1    # sell\n",
    "        else:\n",
    "            return 0     # hold\n",
    "    \n",
    "    @print_logs\n",
    "    def get_answers(self):\n",
    "        if os.path.exists(\"answers.pkl\"):\n",
    "            with open('answers.pkl', 'rb') as f:\n",
    "                answers = pickle.load(f)\n",
    "        else:\n",
    "            answers = {}\n",
    "            final_day = self.dates_test_end + timedelta(days=30)\n",
    "            dates_used = [date for date in self.dates_list if self.dates_train_start <= date <= final_day]\n",
    "            for d in dates_used:\n",
    "                for n in self.stock_names:\n",
    "                    answers[(n, d)] = self.get_answer(n, d)\n",
    "            with open('answers.pkl', 'wb') as f:\n",
    "                pickle.dump(answers, f)\n",
    "        return answers\n",
    "    \n",
    "    def export_news_csv(self):\n",
    "        news_df['stock_name'] = news_df['title'].apply(check_contained_option, options=self.stock_names)\n",
    "\n",
    "        news_df_train = news_df[(news_df['post_time'] >= self.dates_train_start) &\n",
    "                                (news_df['post_time'] <= self.dates_train_end) &\n",
    "                                (news_df['stock_name'].notna())]\n",
    "        news_df_test = news_df[(news_df['post_time'] >= self.dates_test_start) &\n",
    "                               (news_df['post_time'] <= self.dates_test_end) &\n",
    "                               (news_df['stock_name'].notna())]\n",
    "        print(f\"Size of <news_df_train>: {news_df_train.shape}\")\n",
    "        print(f\"Size of <news_df_test>: {news_df_test.shape}\")\n",
    "        news_df_train.to_csv(\"news_training.csv\", index=False)\n",
    "        news_df_test.to_csv(\"news_testing.csv\", index=False)\n",
    "    \n",
    "    def prepare_dataset(self, embedding_dict):\n",
    "        X = np.atleast_2d(list(embedding_dict.values()))\n",
    "        y = []\n",
    "        for key in tqdm(embedding_dict):\n",
    "            input_date = next(iter(news_df.loc[news_df['id']==key, 'post_time']))\n",
    "            stock_name = next(iter(news_df.loc[news_df['id']==key, 'stock_name']))\n",
    "            _, next_date = get_next_date(input_date, self.dates_list)\n",
    "            y.append(self.answers[(stock_name, next_date)])\n",
    "        y = np.array(y)\n",
    "        return X, y\n",
    "\n",
    "    def prepare_main(self):\n",
    "        embedding_dict_train, embedding_dict_test = load_news_embeddings()\n",
    "        self.X_train, self.y_train = self.prepare_dataset(embedding_dict_train)\n",
    "        self.X_test, self.y_test = self.prepare_dataset(embedding_dict_test)\n",
    "\n",
    "        self.embedding_dict = {**embedding_dict_train, **embedding_dict_test}\n",
    "        self.update_news_by_date(self.embedding_dict)\n",
    "    \n",
    "    @print_logs\n",
    "    def update_news_by_date(self, embedding_dict):\n",
    "        for key in tqdm(embedding_dict):\n",
    "            input_date = next(iter(news_df.loc[news_df['id']==key, 'post_time']))\n",
    "            if input_date in self.news_by_date:\n",
    "                self.news_by_date[input_date].append(key)\n",
    "            else:\n",
    "                self.news_by_date[input_date] = [key]\n",
    "        return self.news_by_date\n",
    "    \n",
    "    def get_test_batch(self, stock_name, input_date, n_days=2):\n",
    "        \"\"\"\n",
    "            Predict the price change with news in the timespan (input_date - n_days, input_date)\n",
    "        \"\"\"\n",
    "        i, _ = get_next_date(input_date, self.dates_list)\n",
    "        news_id_list = []\n",
    "        for k in range(n_days + 1):\n",
    "            for news_id in self.news_by_date[self.dates_list[i - k]]:                               # given date range\n",
    "                if next(iter(news_df.loc[news_df['id']==news_id, 'stock_name']))==stock_name:       # given stock\n",
    "                    news_id_list.append(news_id)\n",
    "        \n",
    "        if len(news_id_list)==0:\n",
    "            return None\n",
    "        else:\n",
    "            sub_dict = {key: self.embedding_dict[key] for key in news_id_list if key in self.embedding_dict}\n",
    "            return self.prepare_dataset(sub_dict)\n",
    "    \n",
    "    def backtest(self, model):\n",
    "        \"\"\"\n",
    "            For data in the test date range, predict the price change with the given model.\n",
    "        \"\"\"\n",
    "        i, _ = get_next_date(self.dates_test_start, self.dates_list)\n",
    "        z_test, z_test_pred = [], []\n",
    "        while self.dates_list[i] <= self.dates_test_end:\n",
    "            d = self.dates_list[i]\n",
    "            for n in self.stock_names:\n",
    "                if self.get_test_batch(n, d) is None:\n",
    "                    continue\n",
    "                else:\n",
    "                    X_test, y_test = self.get_test_batch(n, d)\n",
    "                    y_test_pred = model.predict(X_test)\n",
    "                    price_change_pred = 1 if sum(y_test_pred) > 0 else 0 if sum(y_test_pred) == 0 else -1\n",
    "                    price_change_true = self.answers[(n, d)]\n",
    "                    \n",
    "                    z_test.append(price_change_true)\n",
    "                    z_test_pred.append(price_change_pred)\n",
    "                    print(f\"{d}, {n:5} | Ground Truth: {price_change_true}, Prediction: {price_change_pred}\")\n",
    "            i += 1\n",
    "        return z_test, z_test_pred"
   ]
  },
  {
   "cell_type": "markdown",
   "id": "74950b13",
   "metadata": {},
   "source": [
    "### b. 準備訓練及測試資料\n",
    "X: 新聞, y: 股價變化（-1: 下跌, 0: 持平, 1: 上漲）"
   ]
  },
  {
   "cell_type": "code",
   "execution_count": 30,
   "id": "744dd86e-554f-418b-ae49-156a847ddfbf",
   "metadata": {},
   "outputs": [
    {
     "name": "stdout",
     "output_type": "stream",
     "text": [
      "Executing get_answers ......\n",
      "緯創    |  0.03 (Open: 2023-01-03, 29.3 | Close: 2023-01-10, 30.15)\n",
      "聯電    |  0.11 (Open: 2023-01-03, 40.45 | Close: 2023-01-10, 45.0)\n",
      "緯創    |  0.04 (Open: 2023-01-04, 29.2 | Close: 2023-01-11, 30.3)\n",
      "聯電    |  0.09 (Open: 2023-01-04, 41.25 | Close: 2023-01-11, 45.15)\n",
      "緯創    |  0.02 (Open: 2023-01-05, 29.45 | Close: 2023-01-12, 30.1)\n",
      "聯電    |  0.08 (Open: 2023-01-05, 41.8 | Close: 2023-01-12, 45.15)\n",
      "緯創    |  0.02 (Open: 2023-01-06, 29.5 | Close: 2023-01-13, 30.2)\n",
      "聯電    |  0.10 (Open: 2023-01-06, 41.3 | Close: 2023-01-13, 45.4)\n",
      "緯創    |  0.01 (Open: 2023-01-09, 29.7 | Close: 2023-01-16, 30.1)\n",
      "聯電    |  0.03 (Open: 2023-01-09, 43.6 | Close: 2023-01-16, 44.9)\n",
      "緯創    |  0.00 (Open: 2023-01-10, 30.15 | Close: 2023-01-17, 30.2)\n",
      "聯電    |  0.03 (Open: 2023-01-10, 44.5 | Close: 2023-01-17, 45.95)\n",
      "緯創    |  0.03 (Open: 2023-01-11, 30.15 | Close: 2023-01-30, 31.2)\n",
      "聯電    |  0.08 (Open: 2023-01-11, 45.3 | Close: 2023-01-30, 48.8)\n",
      "緯創    |  0.04 (Open: 2023-01-12, 30.3 | Close: 2023-01-31, 31.5)\n",
      "聯電    |  0.08 (Open: 2023-01-12, 45.35 | Close: 2023-01-31, 48.8)\n",
      "緯創    |  0.04 (Open: 2023-01-13, 30.15 | Close: 2023-02-01, 31.4)\n",
      "聯電    |  0.08 (Open: 2023-01-13, 45.7 | Close: 2023-02-01, 49.25)\n",
      "緯創    |  0.05 (Open: 2023-01-16, 30.2 | Close: 2023-02-02, 31.8)\n",
      "聯電    |  0.11 (Open: 2023-01-16, 45.25 | Close: 2023-02-02, 50.4)\n",
      "緯創    |  0.06 (Open: 2023-01-17, 30.1 | Close: 2023-02-03, 31.95)\n",
      "聯電    |  0.11 (Open: 2023-01-17, 44.95 | Close: 2023-02-03, 50.1)\n",
      "緯創    |  0.04 (Open: 2023-01-30, 30.6 | Close: 2023-02-06, 31.95)\n",
      "聯電    |  0.02 (Open: 2023-01-30, 47.95 | Close: 2023-02-06, 49.05)\n",
      "緯創    |  0.02 (Open: 2023-01-31, 31.2 | Close: 2023-02-07, 31.95)\n",
      "聯電    |  0.02 (Open: 2023-01-31, 48.3 | Close: 2023-02-07, 49.15)\n",
      "緯創    |  0.01 (Open: 2023-02-01, 31.5 | Close: 2023-02-08, 31.9)\n",
      "聯電    |  0.02 (Open: 2023-02-01, 49.5 | Close: 2023-02-08, 50.5)\n",
      "緯創    |  0.01 (Open: 2023-02-02, 31.5 | Close: 2023-02-09, 31.8)\n",
      "聯電    |  0.01 (Open: 2023-02-02, 50.0 | Close: 2023-02-09, 50.5)\n",
      "緯創    | -0.02 (Open: 2023-02-03, 31.9 | Close: 2023-02-10, 31.2)\n",
      "聯電    |  0.01 (Open: 2023-02-03, 50.2 | Close: 2023-02-10, 50.8)\n",
      "緯創    | -0.00 (Open: 2023-02-06, 31.75 | Close: 2023-02-13, 31.7)\n",
      "聯電    |  0.00 (Open: 2023-02-06, 49.7 | Close: 2023-02-13, 49.75)\n",
      "緯創    | -0.01 (Open: 2023-02-07, 31.95 | Close: 2023-02-14, 31.75)\n",
      "聯電    |  0.04 (Open: 2023-02-07, 48.55 | Close: 2023-02-14, 50.4)\n",
      "緯創    | -0.00 (Open: 2023-02-08, 31.95 | Close: 2023-02-15, 31.8)\n",
      "聯電    |  0.00 (Open: 2023-02-08, 49.8 | Close: 2023-02-15, 49.9)\n",
      "緯創    |  0.00 (Open: 2023-02-09, 31.5 | Close: 2023-02-16, 31.5)\n",
      "聯電    |  0.01 (Open: 2023-02-09, 49.85 | Close: 2023-02-16, 50.1)\n",
      "緯創    | -0.00 (Open: 2023-02-10, 31.75 | Close: 2023-02-17, 31.65)\n",
      "聯電    | -0.01 (Open: 2023-02-10, 50.5 | Close: 2023-02-17, 50.0)\n",
      "緯創    |  0.02 (Open: 2023-02-13, 31.2 | Close: 2023-02-20, 31.7)\n",
      "聯電    |  0.01 (Open: 2023-02-13, 50.2 | Close: 2023-02-20, 50.5)\n",
      "緯創    | -0.00 (Open: 2023-02-14, 31.85 | Close: 2023-02-21, 31.75)\n",
      "聯電    |  0.01 (Open: 2023-02-14, 50.2 | Close: 2023-02-21, 50.6)\n",
      "緯創    | -0.00 (Open: 2023-02-15, 31.8 | Close: 2023-02-22, 31.75)\n",
      "聯電    | -0.01 (Open: 2023-02-15, 49.9 | Close: 2023-02-22, 49.55)\n",
      "緯創    |  0.01 (Open: 2023-02-16, 31.8 | Close: 2023-02-23, 32.2)\n",
      "聯電    | -0.00 (Open: 2023-02-16, 50.4 | Close: 2023-02-23, 50.2)\n",
      "緯創    |  0.05 (Open: 2023-02-17, 31.5 | Close: 2023-02-24, 33.15)\n",
      "聯電    |  0.01 (Open: 2023-02-17, 49.65 | Close: 2023-02-24, 49.95)\n",
      "緯創    |  0.03 (Open: 2023-02-20, 31.7 | Close: 2023-03-01, 32.55)\n",
      "聯電    |  0.03 (Open: 2023-02-20, 50.0 | Close: 2023-03-01, 51.3)\n",
      "緯創    |  0.02 (Open: 2023-02-21, 31.7 | Close: 2023-03-02, 32.35)\n",
      "聯電    |  0.01 (Open: 2023-02-21, 50.4 | Close: 2023-03-02, 50.7)\n",
      "緯創    |  0.03 (Open: 2023-02-22, 31.55 | Close: 2023-03-03, 32.65)\n",
      "聯電    |  0.04 (Open: 2023-02-22, 49.5 | Close: 2023-03-03, 51.3)\n",
      "緯創    |  0.03 (Open: 2023-02-23, 31.75 | Close: 2023-03-06, 32.85)\n",
      "聯電    |  0.04 (Open: 2023-02-23, 49.9 | Close: 2023-03-06, 51.9)\n",
      "緯創    |  0.03 (Open: 2023-02-24, 32.3 | Close: 2023-03-07, 33.15)\n",
      "聯電    |  0.02 (Open: 2023-02-24, 50.7 | Close: 2023-03-07, 51.6)\n",
      "緯創    |  0.05 (Open: 2023-03-01, 32.3 | Close: 2023-03-08, 33.8)\n",
      "聯電    |  0.06 (Open: 2023-03-01, 49.0 | Close: 2023-03-08, 52.1)\n",
      "緯創    |  0.04 (Open: 2023-03-02, 32.5 | Close: 2023-03-09, 33.95)\n",
      "聯電    |  0.03 (Open: 2023-03-02, 51.1 | Close: 2023-03-09, 52.5)\n",
      "緯創    |  0.03 (Open: 2023-03-03, 32.5 | Close: 2023-03-10, 33.6)\n",
      "聯電    |  0.01 (Open: 2023-03-03, 51.3 | Close: 2023-03-10, 52.0)\n",
      "緯創    |  0.03 (Open: 2023-03-06, 32.7 | Close: 2023-03-13, 33.65)\n",
      "聯電    |  0.01 (Open: 2023-03-06, 52.0 | Close: 2023-03-13, 52.5)\n",
      "緯創    |  0.02 (Open: 2023-03-07, 32.9 | Close: 2023-03-14, 33.55)\n",
      "聯電    | -0.02 (Open: 2023-03-07, 51.5 | Close: 2023-03-14, 50.7)\n",
      "緯創    |  0.04 (Open: 2023-03-08, 33.15 | Close: 2023-03-15, 34.5)\n",
      "聯電    |  0.01 (Open: 2023-03-08, 51.4 | Close: 2023-03-15, 51.7)\n",
      "緯創    |  0.02 (Open: 2023-03-09, 33.8 | Close: 2023-03-16, 34.55)\n",
      "聯電    | -0.01 (Open: 2023-03-09, 52.5 | Close: 2023-03-16, 52.0)\n",
      "緯創    |  0.04 (Open: 2023-03-10, 33.55 | Close: 2023-03-17, 34.95)\n",
      "聯電    |  0.02 (Open: 2023-03-10, 52.0 | Close: 2023-03-17, 53.2)\n",
      "緯創    |  0.07 (Open: 2023-03-13, 33.4 | Close: 2023-03-20, 35.9)\n",
      "聯電    |  0.03 (Open: 2023-03-13, 51.8 | Close: 2023-03-20, 53.2)\n",
      "緯創    |  0.12 (Open: 2023-03-14, 33.6 | Close: 2023-03-21, 37.55)\n",
      "聯電    |  0.03 (Open: 2023-03-14, 51.5 | Close: 2023-03-21, 52.8)\n",
      "緯創    |  0.12 (Open: 2023-03-15, 34.0 | Close: 2023-03-22, 38.2)\n",
      "聯電    |  0.04 (Open: 2023-03-15, 51.5 | Close: 2023-03-22, 53.5)\n",
      "緯創    |  0.15 (Open: 2023-03-16, 34.6 | Close: 2023-03-23, 39.65)\n",
      "聯電    |  0.03 (Open: 2023-03-16, 51.7 | Close: 2023-03-23, 53.3)\n",
      "緯創    |  0.15 (Open: 2023-03-17, 34.8 | Close: 2023-03-24, 40.0)\n",
      "聯電    |  0.00 (Open: 2023-03-17, 53.0 | Close: 2023-03-24, 53.1)\n",
      "緯創    |  0.18 (Open: 2023-03-20, 35.0 | Close: 2023-03-27, 41.2)\n",
      "聯電    | -0.01 (Open: 2023-03-20, 53.4 | Close: 2023-03-27, 53.0)\n",
      "緯創    |  0.06 (Open: 2023-03-21, 37.0 | Close: 2023-03-28, 39.4)\n",
      "聯電    | -0.02 (Open: 2023-03-21, 53.5 | Close: 2023-03-28, 52.2)\n",
      "緯創    |  0.03 (Open: 2023-03-22, 38.45 | Close: 2023-03-29, 39.55)\n",
      "聯電    | -0.03 (Open: 2023-03-22, 53.2 | Close: 2023-03-29, 51.5)\n",
      "緯創    |  0.09 (Open: 2023-03-23, 38.2 | Close: 2023-03-30, 41.6)\n",
      "聯電    | -0.02 (Open: 2023-03-23, 53.0 | Close: 2023-03-30, 52.1)\n",
      "緯創    |  0.04 (Open: 2023-03-24, 40.2 | Close: 2023-03-31, 41.85)\n",
      "聯電    | -0.01 (Open: 2023-03-24, 53.4 | Close: 2023-03-31, 52.9)\n",
      "緯創    |  0.03 (Open: 2023-03-27, 40.0 | Close: 2023-04-06, 41.4)\n",
      "聯電    |  0.00 (Open: 2023-03-27, 52.8 | Close: 2023-04-06, 52.8)\n",
      "緯創    |  0.00 (Open: 2023-03-28, 40.5 | Close: 2023-04-07, 40.6)\n",
      "聯電    | -0.01 (Open: 2023-03-28, 52.7 | Close: 2023-04-07, 52.4)\n",
      "緯創    |  0.09 (Open: 2023-03-29, 39.9 | Close: 2023-04-10, 43.4)\n",
      "聯電    |  0.00 (Open: 2023-03-29, 52.1 | Close: 2023-04-10, 52.1)\n",
      "緯創    |  0.08 (Open: 2023-03-30, 40.3 | Close: 2023-04-11, 43.45)\n",
      "聯電    | -0.01 (Open: 2023-03-30, 52.0 | Close: 2023-04-11, 51.6)\n",
      "緯創    |  0.09 (Open: 2023-03-31, 41.4 | Close: 2023-04-12, 45.15)\n",
      "聯電    | -0.01 (Open: 2023-03-31, 52.5 | Close: 2023-04-12, 52.1)\n",
      "緯創    |  0.07 (Open: 2023-04-06, 41.4 | Close: 2023-04-13, 44.45)\n",
      "聯電    | -0.02 (Open: 2023-04-06, 52.6 | Close: 2023-04-13, 51.6)\n",
      "緯創    |  0.06 (Open: 2023-04-07, 41.5 | Close: 2023-04-14, 43.95)\n",
      "聯電    | -0.03 (Open: 2023-04-07, 52.8 | Close: 2023-04-14, 51.3)\n",
      "緯創    |  0.07 (Open: 2023-04-10, 41.3 | Close: 2023-04-17, 44.2)\n",
      "聯電    | -0.01 (Open: 2023-04-10, 52.5 | Close: 2023-04-17, 52.0)\n",
      "緯創    | -0.00 (Open: 2023-04-11, 43.55 | Close: 2023-04-18, 43.45)\n",
      "聯電    |  0.01 (Open: 2023-04-11, 51.7 | Close: 2023-04-18, 52.1)\n",
      "緯創    |  0.04 (Open: 2023-04-12, 43.8 | Close: 2023-04-19, 45.65)\n",
      "聯電    | -0.01 (Open: 2023-04-12, 51.7 | Close: 2023-04-19, 51.2)\n",
      "緯創    |  0.01 (Open: 2023-04-13, 45.25 | Close: 2023-04-20, 45.8)\n",
      "聯電    | -0.02 (Open: 2023-04-13, 51.8 | Close: 2023-04-20, 50.7)\n",
      "緯創    | -0.01 (Open: 2023-04-14, 44.8 | Close: 2023-04-21, 44.5)\n",
      "聯電    | -0.03 (Open: 2023-04-14, 51.8 | Close: 2023-04-21, 50.1)\n",
      "緯創    |  0.04 (Open: 2023-04-17, 44.25 | Close: 2023-04-24, 46.2)\n",
      "聯電    | -0.04 (Open: 2023-04-17, 51.6 | Close: 2023-04-24, 49.6)\n",
      "緯創    | -0.02 (Open: 2023-04-18, 44.65 | Close: 2023-04-25, 43.7)\n",
      "聯電    | -0.07 (Open: 2023-04-18, 52.1 | Close: 2023-04-25, 48.5)\n",
      "緯創    |  0.02 (Open: 2023-04-19, 44.3 | Close: 2023-04-26, 45.0)\n",
      "聯電    | -0.08 (Open: 2023-04-19, 52.4 | Close: 2023-04-26, 48.4)\n",
      "緯創    |  0.01 (Open: 2023-04-20, 45.75 | Close: 2023-04-27, 46.0)\n",
      "聯電    | -0.05 (Open: 2023-04-20, 51.3 | Close: 2023-04-27, 48.85)\n",
      "緯創    |  0.04 (Open: 2023-04-21, 44.85 | Close: 2023-04-28, 46.5)\n",
      "聯電    | -0.04 (Open: 2023-04-21, 51.0 | Close: 2023-04-28, 49.1)\n",
      "緯創    |  0.12 (Open: 2023-04-24, 44.6 | Close: 2023-05-02, 50.1)\n",
      "聯電    | -0.00 (Open: 2023-04-24, 50.0 | Close: 2023-05-02, 49.85)\n",
      "緯創    |  0.07 (Open: 2023-04-25, 45.6 | Close: 2023-05-03, 48.95)\n",
      "聯電    |  0.01 (Open: 2023-04-25, 49.6 | Close: 2023-05-03, 49.95)\n",
      "緯創    |  0.13 (Open: 2023-04-26, 43.85 | Close: 2023-05-04, 49.55)\n",
      "聯電    |  0.03 (Open: 2023-04-26, 48.05 | Close: 2023-05-04, 49.65)\n",
      "緯創    |  0.09 (Open: 2023-04-27, 45.0 | Close: 2023-05-05, 49.15)\n",
      "聯電    |  0.02 (Open: 2023-04-27, 48.5 | Close: 2023-05-05, 49.6)\n",
      "緯創    |  0.08 (Open: 2023-04-28, 46.4 | Close: 2023-05-08, 49.9)\n",
      "聯電    |  0.01 (Open: 2023-04-28, 49.45 | Close: 2023-05-08, 50.0)\n",
      "緯創    |  0.06 (Open: 2023-05-02, 47.0 | Close: 2023-05-09, 50.0)\n",
      "聯電    |  0.01 (Open: 2023-05-02, 49.5 | Close: 2023-05-09, 49.95)\n",
      "緯創    | -0.03 (Open: 2023-05-03, 49.5 | Close: 2023-05-10, 48.1)\n",
      "聯電    | -0.01 (Open: 2023-05-03, 49.9 | Close: 2023-05-10, 49.45)\n",
      "緯創    | -0.01 (Open: 2023-05-04, 48.2 | Close: 2023-05-11, 47.5)\n",
      "聯電    | -0.01 (Open: 2023-05-04, 49.8 | Close: 2023-05-11, 49.2)\n",
      "緯創    |  0.01 (Open: 2023-05-05, 49.55 | Close: 2023-05-12, 50.1)\n",
      "聯電    | -0.02 (Open: 2023-05-05, 49.7 | Close: 2023-05-12, 48.7)\n",
      "緯創    | -0.03 (Open: 2023-05-08, 49.9 | Close: 2023-05-15, 48.5)\n",
      "聯電    | -0.04 (Open: 2023-05-08, 50.1 | Close: 2023-05-15, 48.1)\n",
      "緯創    | -0.00 (Open: 2023-05-09, 48.65 | Close: 2023-05-16, 48.45)\n",
      "聯電    | -0.03 (Open: 2023-05-09, 50.1 | Close: 2023-05-16, 48.8)\n",
      "緯創    |  0.01 (Open: 2023-05-10, 49.0 | Close: 2023-05-17, 49.45)\n",
      "聯電    | -0.01 (Open: 2023-05-10, 49.8 | Close: 2023-05-17, 49.25)\n",
      "緯創    |  0.05 (Open: 2023-05-11, 48.0 | Close: 2023-05-18, 50.6)\n",
      "聯電    |  0.01 (Open: 2023-05-11, 49.75 | Close: 2023-05-18, 50.2)\n",
      "緯創    |  0.16 (Open: 2023-05-12, 46.0 | Close: 2023-05-19, 53.2)\n",
      "聯電    |  0.02 (Open: 2023-05-12, 48.8 | Close: 2023-05-19, 50.0)\n",
      "緯創    |  0.06 (Open: 2023-05-15, 49.7 | Close: 2023-05-22, 52.7)\n",
      "聯電    |  0.00 (Open: 2023-05-15, 48.7 | Close: 2023-05-22, 48.9)\n",
      "緯創    |  0.09 (Open: 2023-05-16, 49.0 | Close: 2023-05-23, 53.6)\n",
      "聯電    |  0.01 (Open: 2023-05-16, 48.45 | Close: 2023-05-23, 48.9)\n",
      "緯創    |  0.14 (Open: 2023-05-17, 49.05 | Close: 2023-05-24, 56.1)\n",
      "聯電    |  0.01 (Open: 2023-05-17, 48.9 | Close: 2023-05-24, 49.15)\n",
      "緯創    |  0.23 (Open: 2023-05-18, 50.2 | Close: 2023-05-25, 61.7)\n",
      "聯電    | -0.02 (Open: 2023-05-18, 49.95 | Close: 2023-05-25, 48.9)\n",
      "緯創    |  0.27 (Open: 2023-05-19, 51.0 | Close: 2023-05-26, 65.0)\n",
      "聯電    | -0.00 (Open: 2023-05-19, 50.5 | Close: 2023-05-26, 50.4)\n",
      "緯創    |  0.29 (Open: 2023-05-22, 52.8 | Close: 2023-05-29, 68.0)\n",
      "聯電    |  0.03 (Open: 2023-05-22, 49.5 | Close: 2023-05-29, 51.2)\n",
      "緯創    |  0.26 (Open: 2023-05-23, 52.7 | Close: 2023-05-30, 66.3)\n",
      "聯電    |  0.06 (Open: 2023-05-23, 48.85 | Close: 2023-05-30, 51.6)\n",
      "緯創    |  0.23 (Open: 2023-05-24, 54.1 | Close: 2023-05-31, 66.7)\n",
      "聯電    |  0.06 (Open: 2023-05-24, 48.8 | Close: 2023-05-31, 51.8)\n",
      "緯創    |  0.16 (Open: 2023-05-25, 59.8 | Close: 2023-06-01, 69.4)\n",
      "聯電    |  0.03 (Open: 2023-05-25, 49.3 | Close: 2023-06-01, 50.8)\n",
      "緯創    |  0.14 (Open: 2023-05-26, 62.6 | Close: 2023-06-02, 71.1)\n",
      "聯電    |  0.05 (Open: 2023-05-26, 49.05 | Close: 2023-06-02, 51.4)\n",
      "緯創    |  0.08 (Open: 2023-05-29, 66.0 | Close: 2023-06-05, 71.0)\n",
      "聯電    | -0.03 (Open: 2023-05-29, 52.3 | Close: 2023-06-05, 50.9)\n",
      "緯創    |  0.02 (Open: 2023-05-30, 68.9 | Close: 2023-06-06, 70.6)\n",
      "聯電    | -0.01 (Open: 2023-05-30, 51.2 | Close: 2023-06-06, 50.5)\n"
     ]
    }
   ],
   "source": [
    "dataset = NewsPriceDataset(stock_names, dates_train, dates_test, 5, 0.03)\n",
    "dataset.export_news_csv()"
   ]
  },
  {
   "cell_type": "markdown",
   "id": "83b2e309",
   "metadata": {},
   "source": [
    "在 [Google Colab](https://colab.research.google.com/drive/1dFeoGUoa0xgbRA7TsLwkg54tYguhlN4k?usp=sharing) 上使用現有的預訓練模型進行 inference，取得新聞標題的 embedding。（這裡以 `bert-base-chinese` 為例）"
   ]
  },
  {
   "cell_type": "code",
   "execution_count": 31,
   "id": "ddfd9b76-1abd-4372-ae18-8a24f7503d25",
   "metadata": {},
   "outputs": [
    {
     "name": "stdout",
     "output_type": "stream",
     "text": [
      "Size of <embedding_dict_train>: 313\n",
      "Size of <embedding_dict_test>: 134\n"
     ]
    },
    {
     "name": "stderr",
     "output_type": "stream",
     "text": [
      "100%|██████████| 313/313 [00:16<00:00, 18.65it/s]\n",
      "100%|██████████| 134/134 [00:06<00:00, 19.36it/s]\n"
     ]
    },
    {
     "name": "stdout",
     "output_type": "stream",
     "text": [
      "Executing update_news_by_date ......\n"
     ]
    },
    {
     "name": "stderr",
     "output_type": "stream",
     "text": [
      "100%|██████████| 447/447 [00:12<00:00, 36.66it/s]"
     ]
    },
    {
     "name": "stdout",
     "output_type": "stream",
     "text": [
      "NewsPriceDataset for ['緯創', '聯電'] (n_days_after=5, threshold=0.03)\n",
      "                 X_train: (313, 768), y_train: (313,)\n",
      "                 X_test: (134, 768), y_test: (134,)\n"
     ]
    },
    {
     "name": "stderr",
     "output_type": "stream",
     "text": [
      "\n"
     ]
    }
   ],
   "source": [
    "dataset.prepare_main()\n",
    "print(dataset)"
   ]
  },
  {
   "cell_type": "code",
   "execution_count": 32,
   "id": "9fb3d2a5",
   "metadata": {},
   "outputs": [
    {
     "name": "stdout",
     "output_type": "stream",
     "text": [
      "  0: 77\n",
      "  1: 41\n",
      " -1: 16\n"
     ]
    }
   ],
   "source": [
    "X_train, y_train = dataset.X_train, dataset.y_train\n",
    "X_test, y_test = dataset.X_test, dataset.y_test\n",
    "\n",
    "counts = Counter(y_test)\n",
    "for value, count in counts.items():\n",
    "    print(f\"{str(value).rjust(3)}: {count}\")"
   ]
  },
  {
   "cell_type": "markdown",
   "id": "2852ab12",
   "metadata": {},
   "source": [
    "### c. 訓練模型"
   ]
  },
  {
   "cell_type": "code",
   "execution_count": 40,
   "id": "c042fc0a",
   "metadata": {},
   "outputs": [
    {
     "name": "stdout",
     "output_type": "stream",
     "text": [
      "Accuracy: 0.5373\n"
     ]
    }
   ],
   "source": [
    "model = MLPClassifier(hidden_layer_sizes=(180, 36), max_iter=300)\n",
    "model.fit(X_train, y_train)\n",
    "y_test_pred = model.predict(X_test)\n",
    "\n",
    "accuracy = accuracy_score(y_test, y_test_pred)\n",
    "print(f\"Accuracy: {accuracy:.4f}\")"
   ]
  },
  {
   "cell_type": "code",
   "execution_count": 41,
   "id": "42d86028",
   "metadata": {},
   "outputs": [
    {
     "data": {
      "image/png": "[encoded data removed]",
      "text/plain": [
       "<Figure size 500x500 with 1 Axes>"
      ]
     },
     "metadata": {},
     "output_type": "display_data"
    }
   ],
   "source": [
    "cm = confusion_matrix(y_test, y_test_pred)\n",
    "class_labels = ['-1', '0', '+1']\n",
    "\n",
    "plt.figure(figsize=(5, 5))\n",
    "sns.heatmap(cm, annot=True, fmt='g', cmap=\"crest\", cbar=False,\n",
    "            xticklabels=class_labels, yticklabels=class_labels)\n",
    "plt.xlabel(\"Predicted labels\")\n",
    "plt.ylabel(\"True labels\")\n",
    "plt.title(\"Confusion Matrix\")\n",
    "plt.show()"
   ]
  },
  {
   "cell_type": "markdown",
   "id": "16dd9e3e",
   "metadata": {},
   "source": [
    "### d. 預測：根據模型的預測結果決定是否買進或賣出。"
   ]
  },
  {
   "cell_type": "code",
   "execution_count": 27,
   "id": "9d1a511c",
   "metadata": {},
   "outputs": [
    {
     "name": "stderr",
     "output_type": "stream",
     "text": [
      "100%|██████████| 7/7 [00:00<00:00, 19.20it/s]\n",
      "100%|██████████| 7/7 [00:00<00:00, 19.23it/s]\n"
     ]
    },
    {
     "name": "stdout",
     "output_type": "stream",
     "text": [
      "2023-04-06, 緯創    | Ground Truth: 1, Prediction: 1\n"
     ]
    },
    {
     "name": "stderr",
     "output_type": "stream",
     "text": [
      "100%|██████████| 15/15 [00:00<00:00, 17.99it/s]\n",
      "100%|██████████| 15/15 [00:01<00:00, 13.63it/s]\n"
     ]
    },
    {
     "name": "stdout",
     "output_type": "stream",
     "text": [
      "2023-04-06, 聯電    | Ground Truth: 0, Prediction: 0\n"
     ]
    },
    {
     "name": "stderr",
     "output_type": "stream",
     "text": [
      "100%|██████████| 11/11 [00:00<00:00, 16.87it/s]\n",
      "100%|██████████| 11/11 [00:00<00:00, 19.21it/s]\n"
     ]
    },
    {
     "name": "stdout",
     "output_type": "stream",
     "text": [
      "2023-04-07, 緯創    | Ground Truth: 1, Prediction: 1\n"
     ]
    },
    {
     "name": "stderr",
     "output_type": "stream",
     "text": [
      "100%|██████████| 17/17 [00:00<00:00, 18.40it/s]\n",
      "100%|██████████| 17/17 [00:00<00:00, 19.27it/s]\n"
     ]
    },
    {
     "name": "stdout",
     "output_type": "stream",
     "text": [
      "2023-04-07, 聯電    | Ground Truth: 0, Prediction: 0\n"
     ]
    },
    {
     "name": "stderr",
     "output_type": "stream",
     "text": [
      "100%|██████████| 10/10 [00:00<00:00, 19.32it/s]\n",
      "100%|██████████| 10/10 [00:00<00:00, 19.21it/s]\n"
     ]
    },
    {
     "name": "stdout",
     "output_type": "stream",
     "text": [
      "2023-04-10, 緯創    | Ground Truth: 1, Prediction: 1\n"
     ]
    },
    {
     "name": "stderr",
     "output_type": "stream",
     "text": [
      "100%|██████████| 21/21 [00:01<00:00, 19.38it/s]\n",
      "100%|██████████| 21/21 [00:01<00:00, 19.38it/s]\n"
     ]
    },
    {
     "name": "stdout",
     "output_type": "stream",
     "text": [
      "2023-04-10, 聯電    | Ground Truth: 0, Prediction: 1\n"
     ]
    },
    {
     "name": "stderr",
     "output_type": "stream",
     "text": [
      "100%|██████████| 10/10 [00:00<00:00, 19.33it/s]\n",
      "100%|██████████| 10/10 [00:00<00:00, 19.33it/s]\n"
     ]
    },
    {
     "name": "stdout",
     "output_type": "stream",
     "text": [
      "2023-04-11, 緯創    | Ground Truth: 0, Prediction: 1\n"
     ]
    },
    {
     "name": "stderr",
     "output_type": "stream",
     "text": [
      "100%|██████████| 21/21 [00:01<00:00, 19.30it/s]\n",
      "100%|██████████| 21/21 [00:01<00:00, 19.36it/s]\n"
     ]
    },
    {
     "name": "stdout",
     "output_type": "stream",
     "text": [
      "2023-04-11, 聯電    | Ground Truth: 0, Prediction: 1\n"
     ]
    },
    {
     "name": "stderr",
     "output_type": "stream",
     "text": [
      "100%|██████████| 11/11 [00:00<00:00, 19.33it/s]\n",
      "100%|██████████| 11/11 [00:00<00:00, 19.33it/s]\n"
     ]
    },
    {
     "name": "stdout",
     "output_type": "stream",
     "text": [
      "2023-04-12, 緯創    | Ground Truth: 1, Prediction: 1\n"
     ]
    },
    {
     "name": "stderr",
     "output_type": "stream",
     "text": [
      "100%|██████████| 23/23 [00:01<00:00, 15.27it/s]\n",
      "100%|██████████| 23/23 [00:01<00:00, 19.14it/s]\n"
     ]
    },
    {
     "name": "stdout",
     "output_type": "stream",
     "text": [
      "2023-04-12, 聯電    | Ground Truth: 0, Prediction: 1\n"
     ]
    },
    {
     "name": "stderr",
     "output_type": "stream",
     "text": [
      "100%|██████████| 9/9 [00:00<00:00, 18.97it/s]\n",
      "100%|██████████| 9/9 [00:00<00:00, 18.51it/s]\n"
     ]
    },
    {
     "name": "stdout",
     "output_type": "stream",
     "text": [
      "2023-04-13, 緯創    | Ground Truth: 0, Prediction: 1\n"
     ]
    },
    {
     "name": "stderr",
     "output_type": "stream",
     "text": [
      "100%|██████████| 20/20 [00:01<00:00, 19.37it/s]\n",
      "100%|██████████| 20/20 [00:01<00:00, 19.37it/s]\n"
     ]
    },
    {
     "name": "stdout",
     "output_type": "stream",
     "text": [
      "2023-04-13, 聯電    | Ground Truth: 0, Prediction: 1\n"
     ]
    },
    {
     "name": "stderr",
     "output_type": "stream",
     "text": [
      "100%|██████████| 6/6 [00:00<00:00, 19.34it/s]\n",
      "100%|██████████| 6/6 [00:00<00:00, 19.30it/s]\n"
     ]
    },
    {
     "name": "stdout",
     "output_type": "stream",
     "text": [
      "2023-04-14, 緯創    | Ground Truth: 0, Prediction: 1\n"
     ]
    },
    {
     "name": "stderr",
     "output_type": "stream",
     "text": [
      "100%|██████████| 14/14 [00:00<00:00, 19.34it/s]\n",
      "100%|██████████| 14/14 [00:00<00:00, 19.34it/s]\n"
     ]
    },
    {
     "name": "stdout",
     "output_type": "stream",
     "text": [
      "2023-04-14, 聯電    | Ground Truth: -1, Prediction: 1\n"
     ]
    },
    {
     "name": "stderr",
     "output_type": "stream",
     "text": [
      "100%|██████████| 3/3 [00:00<00:00, 19.31it/s]\n",
      "100%|██████████| 3/3 [00:00<00:00, 19.35it/s]\n"
     ]
    },
    {
     "name": "stdout",
     "output_type": "stream",
     "text": [
      "2023-04-17, 緯創    | Ground Truth: 1, Prediction: 1\n"
     ]
    },
    {
     "name": "stderr",
     "output_type": "stream",
     "text": [
      "100%|██████████| 12/12 [00:00<00:00, 19.35it/s]\n",
      "100%|██████████| 12/12 [00:00<00:00, 19.28it/s]\n"
     ]
    },
    {
     "name": "stdout",
     "output_type": "stream",
     "text": [
      "2023-04-17, 聯電    | Ground Truth: -1, Prediction: 1\n"
     ]
    },
    {
     "name": "stderr",
     "output_type": "stream",
     "text": [
      "100%|██████████| 5/5 [00:00<00:00, 19.31it/s]\n",
      "100%|██████████| 5/5 [00:00<00:00, 19.36it/s]\n"
     ]
    },
    {
     "name": "stdout",
     "output_type": "stream",
     "text": [
      "2023-04-18, 緯創    | Ground Truth: 0, Prediction: 1\n"
     ]
    },
    {
     "name": "stderr",
     "output_type": "stream",
     "text": [
      "100%|██████████| 8/8 [00:00<00:00, 16.34it/s]\n",
      "100%|██████████| 8/8 [00:00<00:00, 13.08it/s]\n"
     ]
    },
    {
     "name": "stdout",
     "output_type": "stream",
     "text": [
      "2023-04-18, 聯電    | Ground Truth: -1, Prediction: 1\n"
     ]
    },
    {
     "name": "stderr",
     "output_type": "stream",
     "text": [
      "100%|██████████| 7/7 [00:00<00:00, 19.32it/s]\n",
      "100%|██████████| 7/7 [00:00<00:00, 19.33it/s]\n"
     ]
    },
    {
     "name": "stdout",
     "output_type": "stream",
     "text": [
      "2023-04-19, 緯創    | Ground Truth: 0, Prediction: 1\n"
     ]
    },
    {
     "name": "stderr",
     "output_type": "stream",
     "text": [
      "100%|██████████| 7/7 [00:00<00:00, 19.32it/s]\n",
      "100%|██████████| 7/7 [00:00<00:00, 19.32it/s]\n"
     ]
    },
    {
     "name": "stdout",
     "output_type": "stream",
     "text": [
      "2023-04-19, 聯電    | Ground Truth: -1, Prediction: 1\n"
     ]
    },
    {
     "name": "stderr",
     "output_type": "stream",
     "text": [
      "100%|██████████| 11/11 [00:00<00:00, 19.33it/s]\n",
      "100%|██████████| 11/11 [00:00<00:00, 19.35it/s]\n"
     ]
    },
    {
     "name": "stdout",
     "output_type": "stream",
     "text": [
      "2023-04-20, 緯創    | Ground Truth: 0, Prediction: 1\n"
     ]
    },
    {
     "name": "stderr",
     "output_type": "stream",
     "text": [
      "100%|██████████| 7/7 [00:00<00:00, 19.34it/s]\n",
      "100%|██████████| 7/7 [00:00<00:00, 19.25it/s]\n"
     ]
    },
    {
     "name": "stdout",
     "output_type": "stream",
     "text": [
      "2023-04-20, 聯電    | Ground Truth: -1, Prediction: 1\n"
     ]
    },
    {
     "name": "stderr",
     "output_type": "stream",
     "text": [
      "100%|██████████| 15/15 [00:00<00:00, 19.35it/s]\n",
      "100%|██████████| 15/15 [00:00<00:00, 19.33it/s]\n"
     ]
    },
    {
     "name": "stdout",
     "output_type": "stream",
     "text": [
      "2023-04-21, 緯創    | Ground Truth: 1, Prediction: 1\n"
     ]
    },
    {
     "name": "stderr",
     "output_type": "stream",
     "text": [
      "100%|██████████| 10/10 [00:00<00:00, 19.07it/s]\n",
      "100%|██████████| 10/10 [00:00<00:00, 19.30it/s]\n"
     ]
    },
    {
     "name": "stdout",
     "output_type": "stream",
     "text": [
      "2023-04-21, 聯電    | Ground Truth: -1, Prediction: 1\n"
     ]
    },
    {
     "name": "stderr",
     "output_type": "stream",
     "text": [
      "100%|██████████| 15/15 [00:00<00:00, 19.35it/s]\n",
      "100%|██████████| 15/15 [00:00<00:00, 19.36it/s]\n"
     ]
    },
    {
     "name": "stdout",
     "output_type": "stream",
     "text": [
      "2023-04-24, 緯創    | Ground Truth: 1, Prediction: 1\n"
     ]
    },
    {
     "name": "stderr",
     "output_type": "stream",
     "text": [
      "100%|██████████| 10/10 [00:00<00:00, 19.33it/s]\n",
      "100%|██████████| 10/10 [00:00<00:00, 19.32it/s]\n"
     ]
    },
    {
     "name": "stdout",
     "output_type": "stream",
     "text": [
      "2023-04-24, 聯電    | Ground Truth: 0, Prediction: 1\n"
     ]
    },
    {
     "name": "stderr",
     "output_type": "stream",
     "text": [
      "100%|██████████| 14/14 [00:01<00:00, 12.76it/s]\n",
      "100%|██████████| 14/14 [00:00<00:00, 19.07it/s]\n"
     ]
    },
    {
     "name": "stdout",
     "output_type": "stream",
     "text": [
      "2023-04-25, 緯創    | Ground Truth: 1, Prediction: 1\n"
     ]
    },
    {
     "name": "stderr",
     "output_type": "stream",
     "text": [
      "100%|██████████| 12/12 [00:00<00:00, 19.16it/s]\n",
      "100%|██████████| 12/12 [00:00<00:00, 18.57it/s]\n"
     ]
    },
    {
     "name": "stdout",
     "output_type": "stream",
     "text": [
      "2023-04-25, 聯電    | Ground Truth: 0, Prediction: 0\n"
     ]
    },
    {
     "name": "stderr",
     "output_type": "stream",
     "text": [
      "100%|██████████| 10/10 [00:00<00:00, 19.02it/s]\n",
      "100%|██████████| 10/10 [00:00<00:00, 13.11it/s]\n"
     ]
    },
    {
     "name": "stdout",
     "output_type": "stream",
     "text": [
      "2023-04-26, 緯創    | Ground Truth: 1, Prediction: 1\n"
     ]
    },
    {
     "name": "stderr",
     "output_type": "stream",
     "text": [
      "100%|██████████| 21/21 [00:01<00:00, 19.09it/s]\n",
      "100%|██████████| 21/21 [00:01<00:00, 19.31it/s]\n"
     ]
    },
    {
     "name": "stdout",
     "output_type": "stream",
     "text": [
      "2023-04-26, 聯電    | Ground Truth: 1, Prediction: 1\n"
     ]
    },
    {
     "name": "stderr",
     "output_type": "stream",
     "text": [
      "100%|██████████| 9/9 [00:00<00:00, 19.31it/s]\n",
      "100%|██████████| 9/9 [00:00<00:00, 19.30it/s]\n"
     ]
    },
    {
     "name": "stdout",
     "output_type": "stream",
     "text": [
      "2023-04-27, 緯創    | Ground Truth: 1, Prediction: 1\n"
     ]
    },
    {
     "name": "stderr",
     "output_type": "stream",
     "text": [
      "100%|██████████| 26/26 [00:01<00:00, 19.46it/s]\n",
      "100%|██████████| 26/26 [00:01<00:00, 19.45it/s]\n"
     ]
    },
    {
     "name": "stdout",
     "output_type": "stream",
     "text": [
      "2023-04-27, 聯電    | Ground Truth: 0, Prediction: 1\n"
     ]
    },
    {
     "name": "stderr",
     "output_type": "stream",
     "text": [
      "100%|██████████| 8/8 [00:00<00:00, 19.29it/s]\n",
      "100%|██████████| 8/8 [00:00<00:00, 19.31it/s]\n"
     ]
    },
    {
     "name": "stdout",
     "output_type": "stream",
     "text": [
      "2023-04-28, 緯創    | Ground Truth: 1, Prediction: 1\n"
     ]
    },
    {
     "name": "stderr",
     "output_type": "stream",
     "text": [
      "100%|██████████| 31/31 [00:01<00:00, 18.82it/s]\n",
      "100%|██████████| 31/31 [00:01<00:00, 19.32it/s]"
     ]
    },
    {
     "name": "stdout",
     "output_type": "stream",
     "text": [
      "2023-04-28, 聯電    | Ground Truth: 0, Prediction: 1\n"
     ]
    },
    {
     "name": "stderr",
     "output_type": "stream",
     "text": [
      "\n"
     ]
    }
   ],
   "source": [
    "z_test, z_test_pred = dataset.backtest(model)"
   ]
  },
  {
   "cell_type": "code",
   "execution_count": 28,
   "id": "787d1147",
   "metadata": {},
   "outputs": [
    {
     "name": "stdout",
     "output_type": "stream",
     "text": [
      "Balanced accuracy: 0.3958\n"
     ]
    },
    {
     "data": {
      "image/png": "[encoded data removed]",
      "text/plain": [
       "<Figure size 500x500 with 1 Axes>"
      ]
     },
     "metadata": {},
     "output_type": "display_data"
    }
   ],
   "source": [
    "accuracy = balanced_accuracy_score(z_test, z_test_pred)\n",
    "print(f\"Balanced accuracy: {accuracy:.4f}\")\n",
    "\n",
    "cm = confusion_matrix(z_test, z_test_pred)\n",
    "class_labels = ['-1', '0', '+1']\n",
    "\n",
    "plt.figure(figsize=(5, 5))\n",
    "sns.heatmap(cm, annot=True, fmt='g', cmap=\"crest\", cbar=False,\n",
    "            xticklabels=class_labels, yticklabels=class_labels)\n",
    "plt.xlabel(\"Predicted price change\")\n",
    "plt.ylabel(\"True price change\")\n",
    "plt.title(\"Confusion Matrix\")\n",
    "plt.show()"
   ]
  },
  {
   "cell_type": "markdown",
   "id": "f29e70cd",
   "metadata": {},
   "source": [
    "## 2. 其他參考方向\n",
    "\n",
    "- 文章分類規則、同時使用新聞及社群討論資訊\n",
    "\n",
    "- 以股價資訊、交易量、技術指標 (TA-Lib) 預測未來價格走勢\n",
    "\n",
    "- 使用籌碼面資訊（e.g., 外資連買）、財報資訊（e.g., 長期而言，EPS 和股價呈正相關）進行綜合評估"
   ]
  },
  {
   "cell_type": "markdown",
   "id": "84a87074-077d-4644-ae0a-dc8dd0c03e67",
   "metadata": {
    "jp-MarkdownHeadingCollapsed": true
   },
   "source": [
    "## Playground"
   ]
  },
  {
   "cell_type": "code",
   "execution_count": null,
   "id": "18a2cc7b-f679-47a4-87b2-203e1b28e5f7",
   "metadata": {},
   "outputs": [
    {
     "name": "stdout",
     "output_type": "stream",
     "text": [
      "[1526, 1526, 1526, 1526, 1526, 1526, 1526, 1526, 1526, 1526, 1526, 1526, 1526, 1526, 1526, 1526, 1526, 1526, 1526, 1526, 1526, 1526, 1526, 1526, 1526, 1526, 1526, 1526, 1526, 1526, 1526, 1526, 1526, 1526, 1526, 1526, 1526, 1526, 1526, 1526, 1526, 1526, 1526, 1526, 1526, 1526, 1526, 1526, 1526, 1526, 1526, 1526, 1526, 1526, 1526, 1526, 1526, 1526, 1526, 1526, 1526, 1526, 1526, 1526, 1526, 1526, 1526, 1526, 1526, 1526, 1526, 1526, 1526, 1526, 1526, 1526, 1526, 1526, 1526, 1526, 1526, 1526, 1526, 1526, 1526, 1526, 1526, 1526, 1526, 1526, 1526, 1526, 1526, 1526, 1526, 1526, 1526, 1526, 1526, 1526]\n"
     ]
    }
   ],
   "source": [
    "print(list(transaction_df['stock_symbol'])[:100])"
   ]
  },
  {
   "cell_type": "code",
   "execution_count": null,
   "id": "c1b18193-a2fe-4235-8220-b9574af6b85b",
   "metadata": {},
   "outputs": [
    {
     "name": "stdout",
     "output_type": "stream",
     "text": [
      "['id', 'p_type', 's_name', 's_area_name', 'post_time', 'title', 'author', 'content', 'page_url', 'content_type']\n",
      "\n",
      " p_type\n",
      "forum    437984\n",
      "bbs       50805\n",
      "Name: count, dtype: int64\n",
      "\n",
      " s_name\n",
      "校園聊天-Dcard                     231320\n",
      "Mobile01                       157939\n",
      "Ptt                             50805\n",
      "Mobile01 (收錄 2022/10/1 前資料)     48725\n",
      "Name: count, dtype: int64\n",
      "\n",
      " content_type\n",
      "reply      341834\n",
      "r_reply     63681\n",
      "main        32469\n",
      "Name: count, dtype: int64\n"
     ]
    }
   ],
   "source": [
    "print(list(disc_df.columns))\n",
    "print('\\n', disc_df[\"p_type\"].value_counts())\n",
    "print('\\n', disc_df[\"s_name\"].value_counts())\n",
    "print('\\n', disc_df[\"content_type\"].value_counts())"
   ]
  },
  {
   "cell_type": "code",
   "execution_count": null,
   "id": "79c6cf99-a7aa-43bc-be1b-49915924140c",
   "metadata": {},
   "outputs": [
    {
     "name": "stdout",
     "output_type": "stream",
     "text": [
      "id                                           1646066143199_PTT02R\n",
      "p_type                                                        bbs\n",
      "s_name                                                        Ptt\n",
      "s_area_name                                                 Stock\n",
      "post_time                                 2022-03-01 00:29:21.000\n",
      "title                                     [新聞] 瑞士總統宣布「放棄中立」：加入制裁俄\n",
      "author                                                     empliu\n",
      "content         原文標題：\\n\\n快訊／瑞士總統宣布「放棄中立」：加入制裁俄羅斯　凍結普丁資產\\n\\n原文連...\n",
      "page_url        http://www.ptt.cc/bbs/Stock/M.1646065764.A.E54...\n",
      "content_type                                                  NaN\n",
      "Name: 437984, dtype: object\n"
     ]
    }
   ],
   "source": [
    "print(disc_df.loc[disc_df['s_name']==\"Ptt\"].iloc[0])"
   ]
  },
  {
   "cell_type": "code",
   "execution_count": null,
   "id": "fca2bfff-fd6c-49bd-9747-30f305d30e68",
   "metadata": {},
   "outputs": [],
   "source": []
  }
 ],
 "metadata": {
  "kernelspec": {
   "display_name": "Python 3 (ipykernel)",
   "language": "python",
   "name": "python3"
  },
  "language_info": {
   "codemirror_mode": {
    "name": "ipython",
    "version": 3
   },
   "file_extension": ".py",
   "mimetype": "text/x-python",
   "name": "python",
   "nbconvert_exporter": "python",
   "pygments_lexer": "ipython3",
   "version": "3.9.0"
  }
 },
 "nbformat": 4,
 "nbformat_minor": 5
}
