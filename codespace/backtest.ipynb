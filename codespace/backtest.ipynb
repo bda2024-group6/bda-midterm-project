{
  "nbformat": 4,
  "nbformat_minor": 0,
  "metadata": {
    "colab": {
      "provenance": []
    },
    "kernelspec": {
      "name": "python3",
      "display_name": "Python 3"
    },
    "language_info": {
      "name": "python"
    }
  },
  "cells": [
    {
      "cell_type": "code",
      "source": [
        "pip install ckiptagger"
      ],
      "metadata": {
        "colab": {
          "base_uri": "https://localhost:8080/"
        },
        "id": "pQksXBunpeYs",
        "outputId": "5f9cd942-8c5d-4ddd-f04c-3d03e573e755"
      },
      "execution_count": null,
      "outputs": [
        {
          "output_type": "stream",
          "name": "stdout",
          "text": [
            "Requirement already satisfied: ckiptagger in /usr/local/lib/python3.10/dist-packages (0.2.1)\n"
          ]
        }
      ]
    },
    {
      "cell_type": "code",
      "execution_count": null,
      "metadata": {
        "colab": {
          "base_uri": "https://localhost:8080/"
        },
        "id": "pmlbHEQDpB7e",
        "outputId": "eba0fd1a-e12a-401a-fc96-301d2f383841"
      },
      "outputs": [
        {
          "output_type": "stream",
          "name": "stdout",
          "text": [
            "Drive already mounted at /content/drive; to attempt to forcibly remount, call drive.mount(\"/content/drive\", force_remount=True).\n"
          ]
        }
      ],
      "source": [
        "# imports\n",
        "from ckiptagger import data_utils, construct_dictionary, WS, POS, NER\n",
        "import pandas as pd\n",
        "from sklearn.feature_extraction.text import TfidfVectorizer\n",
        "from sklearn.feature_selection import SelectKBest, chi2\n",
        "from scipy import sparse\n",
        "import pandas as pd\n",
        "from sklearn.model_selection import train_test_split\n",
        "from sklearn.metrics import confusion_matrix, accuracy_score\n",
        "import xgboost as xgb\n",
        "import numpy as np\n",
        "import pickle\n",
        "from tqdm import tqdm\n",
        "from sklearn.ensemble import StackingClassifier, RandomForestClassifier\n",
        "from sklearn.linear_model import LogisticRegression\n",
        "from xgboost import XGBClassifier\n",
        "from sklearn.svm import SVC\n",
        "from sklearn.naive_bayes import GaussianNB\n",
        "from sklearn.metrics import accuracy_score, classification_report\n",
        "\n",
        "from google.colab import drive\n",
        "drive.mount('/content/drive')"
      ]
    },
    {
      "cell_type": "code",
      "source": [
        "# 先把我們需要的函數載入\n",
        "ws = WS(\"/content/drive/MyDrive/大學報告/大數據與商業分析/期中專案/資料集/data (2)/data\") # 斷詞\n",
        "pos = POS(\"/content/drive/MyDrive/大學報告/大數據與商業分析/期中專案/資料集/data (2)/data\") # 詞性標注\n",
        "ner = NER(\"/content/drive/MyDrive/大學報告/大數據與商業分析/期中專案/資料集/data (2)/data\") # 命名實體識別\n",
        "\n",
        "def word_segmentation(contents, ws):\n",
        "    word_sentence_list = ws(contents,\n",
        "                        sentence_segmentation=True,\n",
        "                        segment_delimiter_set={'?', '？', '!', '！', '。', ',','，', ';', ':', '、', ' ', '.'})\n",
        "    # 標點符號\n",
        "    punc = ['，', '。', '、', '：', '；', '？', '！', '「', '」', '（', '）', '『', '』', '—', '－', '～', '…', '‧', '《', '》', '〈', '〉', '﹏﹏']\n",
        "    eng_punc = [',', '.', ':', ';', '?', '!', '(', ')', '[', ']', '&', '@', '#', '$', '%', '-', '_', '*', '/', '\\\\', '+', '=', '>', '<', '\"', \"'\", '’', '‘', '“', '”', ' ']\n",
        "    # 停用詞\n",
        "    stop_words = ['全文', '日', '月', '年', 'br', '中央社', '公司', '上午', '下午', '日期']\n",
        "\n",
        "    word_sentence_list = [[word for word in sentence if not any(char.isdigit() for char in word)] for sentence in word_sentence_list]\n",
        "    word_sentence_list = [[word for word in sentence if word not in punc] for sentence in word_sentence_list]\n",
        "    word_sentence_list = [[word for word in sentence if word not in eng_punc] for sentence in word_sentence_list]\n",
        "    word_sentence_list = [[word for word in sentence if word not in stop_words] for sentence in word_sentence_list]\n",
        "\n",
        "    return word_sentence_list\n",
        "\n",
        "def preprocessing(df, days, ws):\n",
        "    #df = df[df['label_day' + str(days)] != -1] # 把標籤為 -1 的 row 全部移除\n",
        "    Y = lambda df, days: df['label_day' + str(days)].tolist() # 提取標籤\n",
        "    contents = df['content'].tolist() # 提取正文內容\n",
        "    # 對正文內容進行斷詞\n",
        "    word_sentence_list = word_segmentation(contents, ws)\n",
        "    # 取得 1-gram - 3-gram 的 tf-idf 特徵\n",
        "    tv = TfidfVectorizer(ngram_range=(1, 3))\n",
        "    tfidf = tv.fit_transform([' '.join(sentence) for sentence in word_sentence_list])\n",
        "    # 取得前 1000 個特徵\n",
        "    ch2 = SelectKBest(chi2, k=1000)\n",
        "    X = ch2.fit_transform(tfidf, Y(df, days))\n",
        "    # 將 foreign_investor_surplus, investment_trust_surplus, dealer_surplus 加入到 X\n",
        "    X = sparse.hstack((X, sparse.csr_matrix(df[['foreign_investor_surplus', 'investment_trust_surplus', 'dealer_surplus']])))\n",
        "    X = X.toarray()\n",
        "    Y = np.ravel(np.array(Y(df,days)))\n",
        "\n",
        "    return X, Y"
      ],
      "metadata": {
        "colab": {
          "base_uri": "https://localhost:8080/"
        },
        "id": "i9xJEbzJppjg",
        "outputId": "e5d0d80e-4462-4026-ddaf-0a138a00eae9"
      },
      "execution_count": null,
      "outputs": [
        {
          "output_type": "stream",
          "name": "stderr",
          "text": [
            "/usr/local/lib/python3.10/dist-packages/ckiptagger/model_ws.py:106: UserWarning: `tf.nn.rnn_cell.LSTMCell` is deprecated and will be removed in a future version. This class is equivalent as `tf.keras.layers.LSTMCell`, and will be replaced by that in Tensorflow 2.0.\n",
            "  cell = tf.compat.v1.nn.rnn_cell.LSTMCell(hidden_d, name=name)\n",
            "/usr/local/lib/python3.10/dist-packages/ckiptagger/model_pos.py:56: UserWarning: `tf.nn.rnn_cell.LSTMCell` is deprecated and will be removed in a future version. This class is equivalent as `tf.keras.layers.LSTMCell`, and will be replaced by that in Tensorflow 2.0.\n",
            "  cell = tf.compat.v1.nn.rnn_cell.LSTMCell(hidden_d, name=name)\n",
            "/usr/local/lib/python3.10/dist-packages/ckiptagger/model_ner.py:57: UserWarning: `tf.nn.rnn_cell.LSTMCell` is deprecated and will be removed in a future version. This class is equivalent as `tf.keras.layers.LSTMCell`, and will be replaced by that in Tensorflow 2.0.\n",
            "  cell = tf.compat.v1.nn.rnn_cell.LSTMCell(hidden_d, name=name)\n"
          ]
        }
      ]
    },
    {
      "cell_type": "code",
      "source": [
        "# 创建模型实例\n",
        "xgb_model = XGBClassifier(\n",
        "    learning_rate=0.2,\n",
        "    max_depth=4,\n",
        "    n_estimators=300,\n",
        "    subsample=1.0\n",
        ")\n",
        "\n",
        "svm_model = SVC(\n",
        "    kernel='rbf',\n",
        "    gamma='scale',\n",
        "    C=10\n",
        ")\n",
        "\n",
        "rf_model = RandomForestClassifier(\n",
        "    n_estimators=100,\n",
        "    min_samples_split=5,\n",
        "    min_samples_leaf=1,\n",
        "    max_depth=None\n",
        ")\n",
        "\n",
        "# 定义Stacking模型\n",
        "stacked_model = StackingClassifier(\n",
        "    estimators=[\n",
        "        ('xgboost', xgb_model),\n",
        "        ('svm', svm_model),\n",
        "        ('random_forest', rf_model)\n",
        "    ],\n",
        "    final_estimator=XGBClassifier()\n",
        ")"
      ],
      "metadata": {
        "id": "UDyeMR76tYkY"
      },
      "execution_count": null,
      "outputs": []
    },
    {
      "cell_type": "code",
      "source": [
        "train_start_date_list = ['2022-03-01 00:00:00','2022-04-01 00:00:00','2022-05-01 00:00:00','2022-06-01 00:00:00','2022-07-01 00:00:00','2022-08-01 00:00:00','2022-09-01 00:00:00','2022-10-01 00:00:00','2022-11-01 00:00:00','2022-12-01 00:00:00','2023-01-01 00:00:00','2023-02-01 00:00:00','2023-03-01 00:00:00','2023-04-01 00:00:00','2023-05-01 00:00:00','2023-06-01 00:00:00','2023-07-01 00:00:00','2023-08-01 00:00:00','2023-09-01 00:00:00','2023-10-01 00:00:00','2023-11-01 00:00:00']\n",
        "train_end_date_list = ['2022-05-31 00:00:00','2022-06-30 00:00:00','2022-07-31 00:00:00','2022-08-31 00:00:00','2022-09-30 00:00:00','2022-10-31 00:00:00','2022-11-30 00:00:00','2022-12-31 00:00:00','2023-01-31 00:00:00','2023-02-28 00:00:00','2023-03-31 00:00:00','2023-04-30 00:00:00','2023-05-31 00:00:00','2023-06-30 00:00:00','2023-07-31 00:00:00','2023-08-31 00:00:00','2023-09-30 00:00:00','2023-10-31 00:00:00','2023-11-30 00:00:00','2023-12-31 00:00:00','2024-01-31 00:00:00']\n",
        "\n",
        "test_start_date_list = ['2022-06-01 00:00:00','2022-07-01 00:00:00','2022-08-01 00:00:00','2022-09-01 00:00:00','2022-10-01 00:00:00','2022-11-01 00:00:00','2022-12-01 00:00:00','2023-01-01 00:00:00','2023-02-01 00:00:00','2023-03-01 00:00:00','2023-04-01 00:00:00','2023-05-01 00:00:00','2023-06-01 00:00:00','2023-07-01 00:00:00','2023-08-01 00:00:00','2023-09-01 00:00:00','2023-10-01 00:00:00','2023-11-01 00:00:00','2023-12-01 00:00:00','2024-01-01 00:00:00','2024-02-01 00:00:00']\n",
        "test_end_date_list = ['2022-06-30 00:00:00','2022-07-31 00:00:00','2022-08-31 00:00:00','2022-09-30 00:00:00','2022-10-31 00:00:00','2022-11-30 00:00:00','2022-12-31 00:00:00','2023-01-31 00:00:00','2023-02-28 00:00:00','2023-03-31 00:00:00','2023-04-30 00:00:00','2023-05-31 00:00:00','2023-06-30 00:00:00','2023-07-31 00:00:00','2023-08-31 00:00:00','2023-09-30 00:00:00','2023-10-31 00:00:00','2023-11-30 00:00:00','2023-12-31 00:00:00','2024-01-31 00:00:00','2024-02-18 00:00:00']"
      ],
      "metadata": {
        "id": "EiJqjQt3xgWz"
      },
      "execution_count": null,
      "outputs": []
    },
    {
      "cell_type": "code",
      "source": [
        "data = pd.read_csv('/content/drive/MyDrive/大學報告/大數據與商業分析/期中專案/資料集/news_filtered_merged.csv')\n",
        "\n",
        "# 將日期欄位轉換為日期時間類型\n",
        "data['date'] = pd.to_datetime(data['date'])\n",
        "\n",
        "# 定義每個時段的長度（以天為單位）\n",
        "period_length = 90  # 90天為一個時段\n",
        "\n",
        "# 初始化結果列表，用於存放每個時段的預測結果和準確率\n",
        "results = []\n",
        "\n",
        "# 初始化混淆矩陣\n",
        "total_conf_matrix = np.zeros((3, 3))\n",
        "\n",
        "# 設定起始日期為資料中最小日期\n",
        "start_date = data['date'].min()\n",
        "\n",
        "# 限制測試次數用\n",
        "i = 0\n",
        "\n",
        "\n",
        "# 分段處理資料\n",
        "with tqdm(total = 21) as pbar:\n",
        "    while pd.to_datetime(test_end_date_list[i]) <= data['date'].max():\n",
        "\n",
        "        # 取得該時段的結束日期\n",
        "        #end_date = start_date + pd.Timedelta(days=period_length - 1)\n",
        "        train_start_date = pd.to_datetime(train_start_date_list[i])\n",
        "        train_end_date = pd.to_datetime(train_end_date_list[i])\n",
        "        test_start_date = pd.to_datetime(test_start_date_list[i])\n",
        "        test_end_date = pd.to_datetime(test_end_date_list[i])\n",
        "\n",
        "\n",
        "        # 取出該時段的資料\n",
        "        train_period_data = data[(data['date'] >= train_start_date) & (data['date'] <= train_end_date)]\n",
        "        test_period_data = data[(data['date'] >= test_start_date) & (data['date'] <= test_end_date)]\n",
        "\n",
        "        # 準備特徵和標籤\n",
        "        X_train, y_train = preprocessing(train_period_data, 1, ws)\n",
        "        X_test, y_test = preprocessing(test_period_data, 1, ws)\n",
        "\n",
        "        #y = np.ravel(np.array(y))\n",
        "        #X = X.toarray()\n",
        "\n",
        "        # 切分資料為訓練集和測試集（按照時間順序）\n",
        "        #split_index = int(len(X) * 0.8)  # 取前80%作為訓練集\n",
        "        #X_train, X_test = X[:split_index], X[split_index:]\n",
        "        #y_train, y_test = y[:split_index], y[split_index:]\n",
        "\n",
        "        #with open(\"/content/drive/MyDrive/大學報告/大數據與商業分析/期中專案/model.pkl\", 'rb') as f:\n",
        "        #    model = pickle.load(f)\n",
        "\n",
        "        # 訓練模型\n",
        "        stacked_model.fit(X_train, y_train)\n",
        "\n",
        "        # 進行預測\n",
        "        y_pred = stacked_model.predict(X_test)\n",
        "\n",
        "        # 計算準確率\n",
        "        accuracy = accuracy_score(y_test, y_pred)\n",
        "\n",
        "        # 計算混淆矩陣\n",
        "        conf_matrix = confusion_matrix(y_test, y_pred)\n",
        "\n",
        "        # 累加混淆矩陣\n",
        "        total_conf_matrix += conf_matrix\n",
        "\n",
        "        # 記錄結果\n",
        "        results.append({'Start Train Date': train_start_date, 'End Train Date': train_end_date, 'Start Test Date': test_start_date, 'End Test Date': test_end_date, 'Accuracy': accuracy})\n",
        "        print('Start Train Date:', train_start_date, 'End Train Date:', train_end_date, 'Start Test Date:', test_start_date, 'End Test Date:', test_end_date, 'Accuracy:', accuracy)\n",
        "\n",
        "        # 更新起始日期為下一個時段的起始日期\n",
        "        #start_date = start_date + pd.Timedelta(days=period_length)\n",
        "        i += 1\n",
        "        pbar.update(1)\n",
        "\n",
        "# 輸出結果\n",
        "for result in results:\n",
        "    print(\"Period Start:\", result['Start Train Date'], \"Period End:\", result['End Train Date'], \"Accuracy:\", result['Accuracy'])\n",
        "\n",
        "# 計算總準確率\n",
        "total_accuracy = sum(result['Accuracy'] for result in results) / len(results)\n",
        "print(\"Total accuracy:\", total_accuracy)\n",
        "\n",
        "# 輸出總混淆矩陣\n",
        "print(\"Total Confusion Matrix:\")\n",
        "print(total_conf_matrix)"
      ],
      "metadata": {
        "colab": {
          "base_uri": "https://localhost:8080/",
          "height": 612
        },
        "id": "Bq4rOjbsqRwU",
        "outputId": "03918b58-ae69-42ab-d3ec-948b8e82a8a2"
      },
      "execution_count": null,
      "outputs": [
        {
          "output_type": "stream",
          "name": "stderr",
          "text": [
            "  5%|▍         | 1/21 [08:41<2:53:53, 521.67s/it]"
          ]
        },
        {
          "output_type": "stream",
          "name": "stdout",
          "text": [
            "Start Train Date: 2022-03-01 00:00:00 End Train Date: 2022-05-31 00:00:00 Start Test Date: 2022-06-01 00:00:00 End Test Date: 2022-06-30 00:00:00 Accuracy: 0.49160671462829736\n"
          ]
        },
        {
          "output_type": "stream",
          "name": "stderr",
          "text": [
            "\r 10%|▉         | 2/21 [15:04<2:19:25, 440.29s/it]"
          ]
        },
        {
          "output_type": "stream",
          "name": "stdout",
          "text": [
            "Start Train Date: 2022-04-01 00:00:00 End Train Date: 2022-06-30 00:00:00 Start Test Date: 2022-07-01 00:00:00 End Test Date: 2022-07-31 00:00:00 Accuracy: 0.5068493150684932\n"
          ]
        },
        {
          "output_type": "stream",
          "name": "stderr",
          "text": [
            "\r 14%|█▍        | 3/21 [21:22<2:03:31, 411.75s/it]"
          ]
        },
        {
          "output_type": "stream",
          "name": "stdout",
          "text": [
            "Start Train Date: 2022-05-01 00:00:00 End Train Date: 2022-07-31 00:00:00 Start Test Date: 2022-08-01 00:00:00 End Test Date: 2022-08-31 00:00:00 Accuracy: 0.2558922558922559\n"
          ]
        },
        {
          "output_type": "stream",
          "name": "stderr",
          "text": [
            "\r 19%|█▉        | 4/21 [26:56<1:47:58, 381.07s/it]"
          ]
        },
        {
          "output_type": "stream",
          "name": "stdout",
          "text": [
            "Start Train Date: 2022-06-01 00:00:00 End Train Date: 2022-08-31 00:00:00 Start Test Date: 2022-09-01 00:00:00 End Test Date: 2022-09-30 00:00:00 Accuracy: 0.2582781456953642\n"
          ]
        },
        {
          "output_type": "stream",
          "name": "stderr",
          "text": [
            "\r 24%|██▍       | 5/21 [31:43<1:32:33, 347.08s/it]"
          ]
        },
        {
          "output_type": "stream",
          "name": "stdout",
          "text": [
            "Start Train Date: 2022-07-01 00:00:00 End Train Date: 2022-09-30 00:00:00 Start Test Date: 2022-10-01 00:00:00 End Test Date: 2022-10-31 00:00:00 Accuracy: 0.4146341463414634\n"
          ]
        },
        {
          "output_type": "stream",
          "name": "stderr",
          "text": [
            "\r 29%|██▊       | 6/21 [36:45<1:22:55, 331.71s/it]"
          ]
        },
        {
          "output_type": "stream",
          "name": "stdout",
          "text": [
            "Start Train Date: 2022-08-01 00:00:00 End Train Date: 2022-10-31 00:00:00 Start Test Date: 2022-11-01 00:00:00 End Test Date: 2022-11-30 00:00:00 Accuracy: 0.2745762711864407\n"
          ]
        },
        {
          "output_type": "stream",
          "name": "stderr",
          "text": [
            "\r 33%|███▎      | 7/21 [42:00<1:16:05, 326.08s/it]"
          ]
        },
        {
          "output_type": "stream",
          "name": "stdout",
          "text": [
            "Start Train Date: 2022-09-01 00:00:00 End Train Date: 2022-11-30 00:00:00 Start Test Date: 2022-12-01 00:00:00 End Test Date: 2022-12-31 00:00:00 Accuracy: 0.37105263157894736\n"
          ]
        },
        {
          "output_type": "stream",
          "name": "stderr",
          "text": [
            "\r 38%|███▊      | 8/21 [46:44<1:07:45, 312.71s/it]"
          ]
        },
        {
          "output_type": "stream",
          "name": "stdout",
          "text": [
            "Start Train Date: 2022-10-01 00:00:00 End Train Date: 2022-12-31 00:00:00 Start Test Date: 2023-01-01 00:00:00 End Test Date: 2023-01-31 00:00:00 Accuracy: 0.6535433070866141\n"
          ]
        },
        {
          "output_type": "stream",
          "name": "stderr",
          "text": [
            "\r 43%|████▎     | 9/21 [51:19<1:00:10, 300.90s/it]"
          ]
        },
        {
          "output_type": "stream",
          "name": "stdout",
          "text": [
            "Start Train Date: 2022-11-01 00:00:00 End Train Date: 2023-01-31 00:00:00 Start Test Date: 2023-02-01 00:00:00 End Test Date: 2023-02-28 00:00:00 Accuracy: 0.25\n"
          ]
        },
        {
          "output_type": "stream",
          "name": "stderr",
          "text": [
            "\r 48%|████▊     | 10/21 [56:29<55:40, 303.72s/it] "
          ]
        },
        {
          "output_type": "stream",
          "name": "stdout",
          "text": [
            "Start Train Date: 2022-12-01 00:00:00 End Train Date: 2023-02-28 00:00:00 Start Test Date: 2023-03-01 00:00:00 End Test Date: 2023-03-31 00:00:00 Accuracy: 0.4873417721518987\n"
          ]
        },
        {
          "output_type": "stream",
          "name": "stderr",
          "text": [
            "\r 52%|█████▏    | 11/21 [1:01:11<49:30, 297.09s/it]"
          ]
        },
        {
          "output_type": "stream",
          "name": "stdout",
          "text": [
            "Start Train Date: 2023-01-01 00:00:00 End Train Date: 2023-03-31 00:00:00 Start Test Date: 2023-04-01 00:00:00 End Test Date: 2023-04-30 00:00:00 Accuracy: 0.2289156626506024\n"
          ]
        },
        {
          "output_type": "stream",
          "name": "stderr",
          "text": [
            "\r 57%|█████▋    | 12/21 [1:07:18<47:46, 318.50s/it]"
          ]
        },
        {
          "output_type": "stream",
          "name": "stdout",
          "text": [
            "Start Train Date: 2023-02-01 00:00:00 End Train Date: 2023-04-30 00:00:00 Start Test Date: 2023-05-01 00:00:00 End Test Date: 2023-05-31 00:00:00 Accuracy: 0.3120567375886525\n"
          ]
        },
        {
          "output_type": "stream",
          "name": "stderr",
          "text": [
            "\r 62%|██████▏   | 13/21 [1:14:22<46:44, 350.57s/it]"
          ]
        },
        {
          "output_type": "stream",
          "name": "stdout",
          "text": [
            "Start Train Date: 2023-03-01 00:00:00 End Train Date: 2023-05-31 00:00:00 Start Test Date: 2023-06-01 00:00:00 End Test Date: 2023-06-30 00:00:00 Accuracy: 0.43309002433090027\n"
          ]
        },
        {
          "output_type": "stream",
          "name": "stderr",
          "text": [
            "\r 67%|██████▋   | 14/21 [1:20:59<42:31, 364.52s/it]"
          ]
        },
        {
          "output_type": "stream",
          "name": "stdout",
          "text": [
            "Start Train Date: 2023-04-01 00:00:00 End Train Date: 2023-06-30 00:00:00 Start Test Date: 2023-07-01 00:00:00 End Test Date: 2023-07-31 00:00:00 Accuracy: 0.23391812865497075\n"
          ]
        },
        {
          "output_type": "stream",
          "name": "stderr",
          "text": [
            "\r 71%|███████▏  | 15/21 [1:28:10<38:27, 384.58s/it]"
          ]
        },
        {
          "output_type": "stream",
          "name": "stdout",
          "text": [
            "Start Train Date: 2023-05-01 00:00:00 End Train Date: 2023-07-31 00:00:00 Start Test Date: 2023-08-01 00:00:00 End Test Date: 2023-08-31 00:00:00 Accuracy: 0.21515892420537897\n"
          ]
        },
        {
          "output_type": "stream",
          "name": "stderr",
          "text": [
            "\r 76%|███████▌  | 16/21 [1:34:55<32:33, 390.66s/it]"
          ]
        },
        {
          "output_type": "stream",
          "name": "stdout",
          "text": [
            "Start Train Date: 2023-06-01 00:00:00 End Train Date: 2023-08-31 00:00:00 Start Test Date: 2023-09-01 00:00:00 End Test Date: 2023-09-30 00:00:00 Accuracy: 0.3917910447761194\n"
          ]
        },
        {
          "output_type": "stream",
          "name": "stderr",
          "text": [
            "\r 81%|████████  | 17/21 [1:40:57<25:27, 381.92s/it]"
          ]
        },
        {
          "output_type": "stream",
          "name": "stdout",
          "text": [
            "Start Train Date: 2023-07-01 00:00:00 End Train Date: 2023-09-30 00:00:00 Start Test Date: 2023-10-01 00:00:00 End Test Date: 2023-10-31 00:00:00 Accuracy: 0.33035714285714285\n"
          ]
        },
        {
          "output_type": "stream",
          "name": "stderr",
          "text": [
            "\r 86%|████████▌ | 18/21 [1:47:02<18:50, 376.98s/it]"
          ]
        },
        {
          "output_type": "stream",
          "name": "stdout",
          "text": [
            "Start Train Date: 2023-08-01 00:00:00 End Train Date: 2023-10-31 00:00:00 Start Test Date: 2023-11-01 00:00:00 End Test Date: 2023-11-30 00:00:00 Accuracy: 0.32054794520547947\n"
          ]
        },
        {
          "output_type": "stream",
          "name": "stderr",
          "text": [
            "\r 90%|█████████ | 19/21 [1:53:34<12:42, 381.38s/it]"
          ]
        },
        {
          "output_type": "stream",
          "name": "stdout",
          "text": [
            "Start Train Date: 2023-09-01 00:00:00 End Train Date: 2023-11-30 00:00:00 Start Test Date: 2023-12-01 00:00:00 End Test Date: 2023-12-31 00:00:00 Accuracy: 0.2396694214876033\n"
          ]
        },
        {
          "output_type": "stream",
          "name": "stderr",
          "text": [
            "\r 95%|█████████▌| 20/21 [2:01:11<06:44, 404.07s/it]"
          ]
        },
        {
          "output_type": "stream",
          "name": "stdout",
          "text": [
            "Start Train Date: 2023-10-01 00:00:00 End Train Date: 2023-12-31 00:00:00 Start Test Date: 2024-01-01 00:00:00 End Test Date: 2024-01-31 00:00:00 Accuracy: 0.06666666666666667\n"
          ]
        },
        {
          "output_type": "stream",
          "name": "stderr",
          "text": [
            "100%|██████████| 21/21 [2:08:22<00:00, 366.77s/it]"
          ]
        },
        {
          "output_type": "stream",
          "name": "stdout",
          "text": [
            "Start Train Date: 2023-11-01 00:00:00 End Train Date: 2024-01-31 00:00:00 Start Test Date: 2024-02-01 00:00:00 End Test Date: 2024-02-18 00:00:00 Accuracy: 0.5535714285714286\n"
          ]
        },
        {
          "output_type": "stream",
          "name": "stderr",
          "text": [
            "\n"
          ]
        },
        {
          "output_type": "error",
          "ename": "IndexError",
          "evalue": "list index out of range",
          "traceback": [
            "\u001b[0;31m---------------------------------------------------------------------------\u001b[0m",
            "\u001b[0;31mIndexError\u001b[0m                                Traceback (most recent call last)",
            "\u001b[0;32m<ipython-input-6-64c32c8f4d66>\u001b[0m in \u001b[0;36m<cell line: 23>\u001b[0;34m()\u001b[0m\n\u001b[1;32m     22\u001b[0m \u001b[0;31m# 分段處理資料\u001b[0m\u001b[0;34m\u001b[0m\u001b[0;34m\u001b[0m\u001b[0m\n\u001b[1;32m     23\u001b[0m \u001b[0;32mwith\u001b[0m \u001b[0mtqdm\u001b[0m\u001b[0;34m(\u001b[0m\u001b[0mtotal\u001b[0m \u001b[0;34m=\u001b[0m \u001b[0;36m21\u001b[0m\u001b[0;34m)\u001b[0m \u001b[0;32mas\u001b[0m \u001b[0mpbar\u001b[0m\u001b[0;34m:\u001b[0m\u001b[0;34m\u001b[0m\u001b[0;34m\u001b[0m\u001b[0m\n\u001b[0;32m---> 24\u001b[0;31m     \u001b[0;32mwhile\u001b[0m \u001b[0mpd\u001b[0m\u001b[0;34m.\u001b[0m\u001b[0mto_datetime\u001b[0m\u001b[0;34m(\u001b[0m\u001b[0mtest_end_date_list\u001b[0m\u001b[0;34m[\u001b[0m\u001b[0mi\u001b[0m\u001b[0;34m]\u001b[0m\u001b[0;34m)\u001b[0m \u001b[0;34m<=\u001b[0m \u001b[0mdata\u001b[0m\u001b[0;34m[\u001b[0m\u001b[0;34m'date'\u001b[0m\u001b[0;34m]\u001b[0m\u001b[0;34m.\u001b[0m\u001b[0mmax\u001b[0m\u001b[0;34m(\u001b[0m\u001b[0;34m)\u001b[0m\u001b[0;34m:\u001b[0m\u001b[0;34m\u001b[0m\u001b[0;34m\u001b[0m\u001b[0m\n\u001b[0m\u001b[1;32m     25\u001b[0m \u001b[0;34m\u001b[0m\u001b[0m\n\u001b[1;32m     26\u001b[0m         \u001b[0;31m# 取得該時段的結束日期\u001b[0m\u001b[0;34m\u001b[0m\u001b[0;34m\u001b[0m\u001b[0m\n",
            "\u001b[0;31mIndexError\u001b[0m: list index out of range"
          ]
        }
      ]
    },
    {
      "cell_type": "code",
      "source": [
        "# 輸出結果\n",
        "for result in results:\n",
        "    print(\"Period Start:\", result['Start Train Date'], \"Period End:\", result['End Train Date'], \"Accuracy:\", result['Accuracy'])\n",
        "\n",
        "# 計算總準確率\n",
        "total_accuracy = sum(result['Accuracy'] for result in results) / len(results)\n",
        "print(\"Total accuracy:\", total_accuracy)\n",
        "\n",
        "# 輸出總混淆矩陣\n",
        "print(\"Total Confusion Matrix:\")\n",
        "print(total_conf_matrix)"
      ],
      "metadata": {
        "colab": {
          "base_uri": "https://localhost:8080/"
        },
        "id": "XZUSthhmyowN",
        "outputId": "d806174d-7477-4b65-8145-d67a2df4b0fe"
      },
      "execution_count": null,
      "outputs": [
        {
          "output_type": "stream",
          "name": "stdout",
          "text": [
            "Period Start: 2022-03-01 00:00:00 Period End: 2022-05-31 00:00:00 Accuracy: 0.49160671462829736\n",
            "Period Start: 2022-04-01 00:00:00 Period End: 2022-06-30 00:00:00 Accuracy: 0.5068493150684932\n",
            "Period Start: 2022-05-01 00:00:00 Period End: 2022-07-31 00:00:00 Accuracy: 0.2558922558922559\n",
            "Period Start: 2022-06-01 00:00:00 Period End: 2022-08-31 00:00:00 Accuracy: 0.2582781456953642\n",
            "Period Start: 2022-07-01 00:00:00 Period End: 2022-09-30 00:00:00 Accuracy: 0.4146341463414634\n",
            "Period Start: 2022-08-01 00:00:00 Period End: 2022-10-31 00:00:00 Accuracy: 0.2745762711864407\n",
            "Period Start: 2022-09-01 00:00:00 Period End: 2022-11-30 00:00:00 Accuracy: 0.37105263157894736\n",
            "Period Start: 2022-10-01 00:00:00 Period End: 2022-12-31 00:00:00 Accuracy: 0.6535433070866141\n",
            "Period Start: 2022-11-01 00:00:00 Period End: 2023-01-31 00:00:00 Accuracy: 0.25\n",
            "Period Start: 2022-12-01 00:00:00 Period End: 2023-02-28 00:00:00 Accuracy: 0.4873417721518987\n",
            "Period Start: 2023-01-01 00:00:00 Period End: 2023-03-31 00:00:00 Accuracy: 0.2289156626506024\n",
            "Period Start: 2023-02-01 00:00:00 Period End: 2023-04-30 00:00:00 Accuracy: 0.3120567375886525\n",
            "Period Start: 2023-03-01 00:00:00 Period End: 2023-05-31 00:00:00 Accuracy: 0.43309002433090027\n",
            "Period Start: 2023-04-01 00:00:00 Period End: 2023-06-30 00:00:00 Accuracy: 0.23391812865497075\n",
            "Period Start: 2023-05-01 00:00:00 Period End: 2023-07-31 00:00:00 Accuracy: 0.21515892420537897\n",
            "Period Start: 2023-06-01 00:00:00 Period End: 2023-08-31 00:00:00 Accuracy: 0.3917910447761194\n",
            "Period Start: 2023-07-01 00:00:00 Period End: 2023-09-30 00:00:00 Accuracy: 0.33035714285714285\n",
            "Period Start: 2023-08-01 00:00:00 Period End: 2023-10-31 00:00:00 Accuracy: 0.32054794520547947\n",
            "Period Start: 2023-09-01 00:00:00 Period End: 2023-11-30 00:00:00 Accuracy: 0.2396694214876033\n",
            "Period Start: 2023-10-01 00:00:00 Period End: 2023-12-31 00:00:00 Accuracy: 0.06666666666666667\n",
            "Period Start: 2023-11-01 00:00:00 Period End: 2024-01-31 00:00:00 Accuracy: 0.5535714285714286\n",
            "Total accuracy: 0.3471198898392724\n",
            "Total Confusion Matrix:\n",
            "[[ 948.  686. 1044.]\n",
            " [ 752.  419.  685.]\n",
            " [ 923.  419.  795.]]\n"
          ]
        }
      ]
    },
    {
      "cell_type": "code",
      "source": [
        "import matplotlib.pyplot as plt\n",
        "import seaborn as sns\n",
        "# Define class labels\n",
        "labels = ['Hold', 'Sell', 'Buy']\n",
        "\n",
        "# Plot the confusion matrix\n",
        "plt.figure(figsize=(5, 4))\n",
        "sns.heatmap(total_conf_matrix, annot=True, cmap='Blues', fmt='g', xticklabels=labels, yticklabels=labels)\n",
        "plt.xlabel('Predicted')\n",
        "plt.ylabel('True')\n",
        "plt.title('Confusion Matrix')\n",
        "plt.show()"
      ],
      "metadata": {
        "colab": {
          "base_uri": "https://localhost:8080/",
          "height": 410
        },
        "id": "BqSKhNAt9hVn",
        "outputId": "1f0f9e54-8180-470e-b3cc-d6f626b615b9"
      },
      "execution_count": null,
      "outputs": [
        {
          "output_type": "display_data",
          "data": {
            "text/plain": [
              "<Figure size 500x400 with 2 Axes>"
            ],
            "image/png": "[encoded data removed]"
          },
          "metadata": {}
        }
      ]
    },
    {
      "cell_type": "code",
      "source": [
        "import pickle\n",
        "\n",
        "with open(\"/content/drive/MyDrive/大學報告/大數據與商業分析/期中專案/model.pkl\", 'rb') as f:\n",
        "      model = pickle.load(f)"
      ],
      "metadata": {
        "id": "XJ7x8bVR_2g9"
      },
      "execution_count": null,
      "outputs": []
    }
  ]
}