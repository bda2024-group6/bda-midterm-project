{
  "cells": [
    {
      "cell_type": "markdown",
      "id": "74d5c339-21b3-4405-a4db-874895664cff",
      "metadata": {
        "id": "74d5c339-21b3-4405-a4db-874895664cff"
      },
      "source": [
        "## Import Packages"
      ]
    },
    {
      "cell_type": "code",
      "execution_count": 1,
      "id": "12a7e634-55b6-4887-a165-18c54e75b29f",
      "metadata": {
        "id": "12a7e634-55b6-4887-a165-18c54e75b29f"
      },
      "outputs": [],
      "source": [
        "import os\n",
        "import pickle\n",
        "import matplotlib.pyplot as plt\n",
        "from datetime import datetime, timedelta\n",
        "from collections import Counter\n",
        "from tqdm import tqdm\n",
        "\n",
        "import numpy as np\n",
        "import pandas as pd\n",
        "import seaborn as sns\n",
        "\n",
        "from sklearn.neighbors import KNeighborsClassifier\n",
        "from sklearn.neural_network import MLPClassifier\n",
        "from xgboost import XGBClassifier\n",
        "from sklearn.ensemble import RandomForestClassifier\n",
        "from sklearn import svm\n",
        "from sklearn.svm import SVC\n",
        "from sklearn.metrics import accuracy_score, balanced_accuracy_score, confusion_matrix\n",
        "from sklearn.model_selection import train_test_split\n",
        "from sklearn.model_selection import GridSearchCV\n",
        "from sklearn.model_selection import train_test_split, GridSearchCV, RandomizedSearchCV\n",
        "from sklearn.svm import SVC\n",
        "from sklearn.ensemble import RandomForestClassifier\n",
        "from xgboost import XGBClassifier\n",
        "from sklearn.metrics import accuracy_score, classification_report\n",
        "from sklearn.ensemble import StackingClassifier\n",
        "from scipy.stats import randint\n",
        "import numpy as np\n",
        "import pandas as pd\n",
        "from sklearn.naive_bayes import GaussianNB\n",
        "from sklearn.metrics import confusion_matrix\n",
        "from sklearn.model_selection import GridSearchCV, StratifiedKFold\n",
        "from xgboost import XGBClassifier\n",
        "from sklearn.metrics import accuracy_score, classification_report\n",
        "from sklearn.linear_model import LogisticRegression\n",
        "\n",
        "\n",
        "from ckiptagger import data_utils, construct_dictionary, WS, POS, NER\n",
        "import pandas as pd\n",
        "from sklearn.feature_extraction.text import CountVectorizer\n",
        "from sklearn.feature_extraction.text import TfidfVectorizer\n",
        "from sklearn.feature_selection import SelectKBest, chi2\n",
        "from scipy import sparse"
      ]
    },
    {
      "cell_type": "code",
      "source": [
        "from google.colab import drive\n",
        "drive.mount('/content/drive')"
      ],
      "metadata": {
        "colab": {
          "base_uri": "https://localhost:8080/"
        },
        "id": "8ZJD4iXPEuSI",
        "outputId": "2f790128-21da-403a-c826-983e90d2d367"
      },
      "id": "8ZJD4iXPEuSI",
      "execution_count": 2,
      "outputs": [
        {
          "output_type": "stream",
          "name": "stdout",
          "text": [
            "Drive already mounted at /content/drive; to attempt to forcibly remount, call drive.mount(\"/content/drive\", force_remount=True).\n"
          ]
        }
      ]
    },
    {
      "cell_type": "code",
      "source": [
        "data_dir = \"/content/drive/MyDrive/大學報告/大數據與商業分析/期中專案/資料集/原始資料集\"\n",
        "%cd -q ../content/drive/MyDrive/大學報告/大數據與商業分析/期中專案/資料集/原始資料集\n",
        "\n",
        "files = os.listdir(data_dir)\n",
        "print(\"View all datasets:\")\n",
        "for f in files:\n",
        "    print(f)"
      ],
      "metadata": {
        "colab": {
          "base_uri": "https://localhost:8080/"
        },
        "id": "UBdVu8nZErCm",
        "outputId": "a285ff55-b48d-4a74-930c-fd6445a6aa5c"
      },
      "id": "UBdVu8nZErCm",
      "execution_count": 3,
      "outputs": [
        {
          "output_type": "stream",
          "name": "stdout",
          "text": [
            "View all datasets:\n",
            "bda2024_微股力_個股交易數據-2年.csv\n",
            "embedding_dict_train.pkl\n",
            "embedding_dict_test.pkl\n",
            "data.zipuqogus5ltmp\n",
            "answers.pkl\n",
            "news_testing.csv\n",
            "news_training.csv\n"
          ]
        }
      ]
    },
    {
      "cell_type": "markdown",
      "id": "5bd3e251-46a4-4314-9ea3-af7a1345bad0",
      "metadata": {
        "id": "5bd3e251-46a4-4314-9ea3-af7a1345bad0"
      },
      "source": [
        "## 資料前處理"
      ]
    },
    {
      "cell_type": "code",
      "execution_count": 59,
      "id": "db121217-2754-4f31-8d90-f9a92e5b14e0",
      "metadata": {
        "id": "db121217-2754-4f31-8d90-f9a92e5b14e0"
      },
      "outputs": [],
      "source": [
        "def load_df(filepath, preview=True):\n",
        "    print(f\"\\n----- Loading {filepath}... -----\")\n",
        "    df = pd.read_csv(filepath)\n",
        "    print(f\"Size of dataframe: {df.shape}\")\n",
        "    print(f\"Columns: {list(df.columns)}\")\n",
        "    if preview:\n",
        "        print(df.head())\n",
        "    return df"
      ]
    },
    {
      "cell_type": "code",
      "execution_count": 60,
      "id": "f13abea3-0d5b-449a-84e0-006335cc1946",
      "metadata": {
        "id": "f13abea3-0d5b-449a-84e0-006335cc1946",
        "outputId": "dc86d14c-284b-4cd9-d991-d44a0bee9a27",
        "colab": {
          "base_uri": "https://localhost:8080/",
          "height": 0
        }
      },
      "outputs": [
        {
          "output_type": "stream",
          "name": "stdout",
          "text": [
            "\n",
            "----- Loading /content/drive/MyDrive/大學報告/大數據與商業分析/期中專案/資料集/news_filtered_merged.csv... -----\n",
            "Size of dataframe: (7933, 18)\n",
            "Columns: ['id', 'p_type', 's_name', 's_area_name', 'post_time', 'title', 'author', 'content', 'page_url', 'date', 'label_day1', 'label_day2', 'label_day3', 'label_day4', 'label_day5', 'foreign_investor_surplus', 'investment_trust_surplus', 'dealer_surplus']\n",
            "\n",
            "----- Loading /content/drive/MyDrive/大學報告/大數據與商業分析/期中專案/資料集/原始資料集/bda2024_微股力_個股交易數據-2年.csv... -----\n"
          ]
        },
        {
          "output_type": "stream",
          "name": "stderr",
          "text": [
            "<ipython-input-59-3ba66dfef298>:3: DtypeWarning: Columns (1) have mixed types. Specify dtype option on import or set low_memory=False.\n",
            "  df = pd.read_csv(filepath)\n"
          ]
        },
        {
          "output_type": "stream",
          "name": "stdout",
          "text": [
            "Size of dataframe: (1154225, 8)\n",
            "Columns: ['stock_name', 'stock_symbol', 'open', 'high', 'low', 'close', 'volume', 'date']\n",
            "  stock_name stock_symbol   open   high    low  close  volume  \\\n",
            "0         日馳         1526  47.55  48.45  47.55  48.30     138   \n",
            "1         日馳         1526  48.30  48.30  47.40  47.95     153   \n",
            "2         日馳         1526  48.45  48.70  47.80  48.10     120   \n",
            "3         日馳         1526  47.95  47.95  47.55  47.60     165   \n",
            "4         日馳         1526  47.65  47.65  45.30  45.65     514   \n",
            "\n",
            "                  date  \n",
            "0  2022-03-01 00:00:00  \n",
            "1  2022-03-02 00:00:00  \n",
            "2  2022-03-03 00:00:00  \n",
            "3  2022-03-04 00:00:00  \n",
            "4  2022-03-07 00:00:00  \n"
          ]
        },
        {
          "output_type": "execute_result",
          "data": {
            "text/plain": [
              "'report_df = load_df(\"bda2024_微股力_財報數據-2年.csv\")\\nchip_df = load_df(\"bda2024_微股力_籌碼數據-2年.csv\")\\nsocial_df = load_df(\"bda2024_微股力_社群PKTD-2年.csv\")\\ntransaction_df[\\'stock_symbol\\'] = transaction_df[\\'stock_symbol\\'].astype(str)\\nchip_df[\\'stock_symbol\\'] = chip_df[\\'stock_symbol\\'].astype(str)    # Repair mixed data types\\n\\nprint(f\"\\nnews_df\\nSize of dataframe: {news_df.shape}\\nColumns: {list(news_df.columns)}\")\\nprint(news_df.head())\\nprint(f\"\\ndisc_df\\nSize of dataframe: {disc_df.shape}\\nColumns: {list(disc_df.columns)}\")\\nprint(disc_df.head())'"
            ],
            "application/vnd.google.colaboratory.intrinsic+json": {
              "type": "string"
            }
          },
          "metadata": {},
          "execution_count": 60
        }
      ],
      "source": [
        "'''news1_df = load_df(\"bda2024_202203-202402_內容數據_新聞1.csv\", preview=False)\n",
        "news2_df = load_df(\"bda2024_202203-202402_內容數據_新聞2.csv\", preview=False)\n",
        "news3_df = load_df(\"bda2024_202203-202402_內容數據_新聞3.csv\", preview=False)\n",
        "news_dfs = pd.concat([news1_df, news2_df, news3_df], ignore_index=True) #原本叫news_df'''\n",
        "news_df = load_df(\"/content/drive/MyDrive/大學報告/大數據與商業分析/期中專案/資料集/news_filtered_merged.csv\", preview=False)\n",
        "\n",
        "'''disc_dcard_df = load_df(\"bda2024_202203-202402_討論數據_dcard.csv\", preview=False)\n",
        "disc_dcard_df.rename(columns={'forum': 'p_type'}, inplace=True)    # Repair column name typo in data\n",
        "disc_m1_df = load_df(\"bda2024_202203-202402_討論數據_mobile01-1.csv\", preview=False)\n",
        "disc_m2_df = load_df(\"bda2024_202203-202402_討論數據_mobile01-2.csv\", preview=False)\n",
        "disc_ptt_df = load_df(\"bda2024_202203-202402_討論數據_ptt.csv\", preview=False)\n",
        "disc_df = pd.concat([disc_dcard_df, disc_m1_df, disc_m2_df, disc_ptt_df], ignore_index=True)'''\n",
        "\n",
        "transaction_df = load_df(\"/content/drive/MyDrive/大學報告/大數據與商業分析/期中專案/資料集/原始資料集/bda2024_微股力_個股交易數據-2年.csv\")\n",
        "'''report_df = load_df(\"bda2024_微股力_財報數據-2年.csv\")\n",
        "chip_df = load_df(\"bda2024_微股力_籌碼數據-2年.csv\")\n",
        "social_df = load_df(\"bda2024_微股力_社群PKTD-2年.csv\")\n",
        "transaction_df['stock_symbol'] = transaction_df['stock_symbol'].astype(str)\n",
        "chip_df['stock_symbol'] = chip_df['stock_symbol'].astype(str)    # Repair mixed data types\n",
        "\n",
        "print(f\"\\nnews_df\\nSize of dataframe: {news_df.shape}\\nColumns: {list(news_df.columns)}\")\n",
        "print(news_df.head())\n",
        "print(f\"\\ndisc_df\\nSize of dataframe: {disc_df.shape}\\nColumns: {list(disc_df.columns)}\")\n",
        "print(disc_df.head())'''"
      ]
    },
    {
      "cell_type": "markdown",
      "id": "dc8cc4d9-1407-448c-93f3-901dd96e3c53",
      "metadata": {
        "id": "dc8cc4d9-1407-448c-93f3-901dd96e3c53"
      },
      "source": [
        "## 1. 看漲文章、看跌文章\n",
        "以 2023 年 1 月至 3 月、2023 年 4 月緯創和聯電的新聞分別做為訓練資料和測試資料。"
      ]
    },
    {
      "cell_type": "markdown",
      "id": "8fc5f4c9",
      "metadata": {
        "id": "8fc5f4c9"
      },
      "source": [
        "### a. 處理股價資訊\n",
        "\n",
        "1. 透過個股交易數據計算 label，處理資料時需注意股票開休市日期。\\\n",
        "舉例：[1, 2, 7, 9, 13, 14, 17]，Day 8 的新聞會用 Day 9 - 14 的漲跌資訊標記。\n",
        "\n",
        "2. 需注意設定股價變化的 threshold，太高會使 y 中有許多數值為 0、太低則可能需要頻繁地交易，扣除手續費後便無利可圖。"
      ]
    },
    {
      "cell_type": "code",
      "execution_count": 61,
      "id": "49a67108",
      "metadata": {
        "id": "49a67108"
      },
      "outputs": [],
      "source": [
        "stock_names = [\"台船\",\"長榮\",\"新興\",\"裕民\",\"榮運\",\"嘉里大榮\",\"陽明\",\"華航\",\"志信\",\"中航\",\"中櫃\",\"萬海\",\"台航\",\"長榮航\",\"亞航\",\"台灣高鐵\",\"漢翔\",\"台驊投控\",\"慧洋-KY\",\"宅配通\",\"遠雄港\",\"建新國際\"]\n",
        "dates_train = (datetime(2023, 1, 1).date(), datetime(2023, 3, 31).date())\n",
        "dates_test = (datetime(2023, 4, 1).date(), datetime(2023, 4, 30).date())"
      ]
    },
    {
      "cell_type": "code",
      "source": [
        "# 文字前處理\n",
        "# 先把我們需要的函數載入\n",
        "ws = WS(\"/content/drive/MyDrive/大學報告/大數據與商業分析/期中專案/資料集/data (2)/data\") # 斷詞\n",
        "pos = POS(\"/content/drive/MyDrive/大學報告/大數據與商業分析/期中專案/資料集/data (2)/data\") # 詞性標注\n",
        "ner = NER(\"/content/drive/MyDrive/大學報告/大數據與商業分析/期中專案/資料集/data (2)/data\") # 命名實體識別\n",
        "\n",
        "def word_segmentation(contents, ws):\n",
        "    word_sentence_list = ws(contents,\n",
        "                        sentence_segmentation=True,\n",
        "                        segment_delimiter_set={'?', '？', '!', '！', '。', ',','，', ';', ':', '、', ' ', '.'})\n",
        "    # 標點符號\n",
        "    punc = ['，', '。', '、', '：', '；', '？', '！', '「', '」', '（', '）', '『', '』', '—', '－', '～', '…', '‧', '《', '》', '〈', '〉', '﹏﹏']\n",
        "    eng_punc = [',', '.', ':', ';', '?', '!', '(', ')', '[', ']', '&', '@', '#', '$', '%', '-', '_', '*', '/', '\\\\', '+', '=', '>', '<', '\"', \"'\", '’', '‘', '“', '”', ' ']\n",
        "    # 停用詞\n",
        "    stop_words = ['全文', '日', '月', '年', 'br', '中央社', '公司', '上午', '下午', '日期']\n",
        "\n",
        "    word_sentence_list = [[word for word in sentence if not any(char.isdigit() for char in word)] for sentence in word_sentence_list]\n",
        "    word_sentence_list = [[word for word in sentence if word not in punc] for sentence in word_sentence_list]\n",
        "    word_sentence_list = [[word for word in sentence if word not in eng_punc] for sentence in word_sentence_list]\n",
        "    word_sentence_list = [[word for word in sentence if word not in stop_words] for sentence in word_sentence_list]\n",
        "\n",
        "    return word_sentence_list\n",
        "\n",
        "def preprocessing(df, days, ws):\n",
        "    df = df[df['label_day' + str(days)] != -1]  # 把标签为 -1 的 row 全部移除\n",
        "    ids = df['id'].tolist()  # 提取 id 列\n",
        "    Y = lambda df, days: df['label_day' + str(days)].tolist()  # 提取标签\n",
        "    contents = df['content'].tolist()  # 提取正文内容\n",
        "\n",
        "    # 对正文内容进行分词\n",
        "    word_sentence_list = word_segmentation(contents, ws)\n",
        "\n",
        "    # 取得 1-gram - 3-gram 的 tf-idf 特征\n",
        "    tv = TfidfVectorizer(ngram_range=(1, 3))\n",
        "    tfidf = tv.fit_transform([' '.join(sentence) for sentence in word_sentence_list])\n",
        "\n",
        "    # 取得前 1000 个特征\n",
        "    ch2 = SelectKBest(chi2, k=1000)\n",
        "    X = ch2.fit_transform(tfidf, Y(df, days))\n",
        "\n",
        "    # 将 foreign_investor_surplus, investment_trust_surplus, dealer_surplus 加入到 X\n",
        "    X = sparse.hstack((X, sparse.csr_matrix(df[['foreign_investor_surplus', 'investment_trust_surplus', 'dealer_surplus']])))\n",
        "\n",
        "    # 转换 X 为稠密格式并构建结果字典\n",
        "    X_dense = X.todense()\n",
        "    results = {id_value: X_dense[i].tolist()[0] for i, id_value in enumerate(ids)}\n",
        "\n",
        "    return results, Y(df, days)"
      ],
      "metadata": {
        "colab": {
          "base_uri": "https://localhost:8080/"
        },
        "id": "mHvv7bQg5Pj5",
        "outputId": "edda9cca-6272-4fca-f278-0e6347170e4c"
      },
      "id": "mHvv7bQg5Pj5",
      "execution_count": 7,
      "outputs": [
        {
          "output_type": "stream",
          "name": "stderr",
          "text": [
            "/usr/local/lib/python3.10/dist-packages/ckiptagger/model_ws.py:106: UserWarning: `tf.nn.rnn_cell.LSTMCell` is deprecated and will be removed in a future version. This class is equivalent as `tf.keras.layers.LSTMCell`, and will be replaced by that in Tensorflow 2.0.\n",
            "  cell = tf.compat.v1.nn.rnn_cell.LSTMCell(hidden_d, name=name)\n",
            "/usr/local/lib/python3.10/dist-packages/ckiptagger/model_pos.py:56: UserWarning: `tf.nn.rnn_cell.LSTMCell` is deprecated and will be removed in a future version. This class is equivalent as `tf.keras.layers.LSTMCell`, and will be replaced by that in Tensorflow 2.0.\n",
            "  cell = tf.compat.v1.nn.rnn_cell.LSTMCell(hidden_d, name=name)\n",
            "/usr/local/lib/python3.10/dist-packages/ckiptagger/model_ner.py:57: UserWarning: `tf.nn.rnn_cell.LSTMCell` is deprecated and will be removed in a future version. This class is equivalent as `tf.keras.layers.LSTMCell`, and will be replaced by that in Tensorflow 2.0.\n",
            "  cell = tf.compat.v1.nn.rnn_cell.LSTMCell(hidden_d, name=name)\n"
          ]
        }
      ]
    },
    {
      "cell_type": "code",
      "execution_count": 98,
      "id": "68d05541",
      "metadata": {
        "id": "68d05541",
        "colab": {
          "base_uri": "https://localhost:8080/"
        },
        "outputId": "9ec0f5bb-6a77-4545-8458-4fb73f0504ac"
      },
      "outputs": [
        {
          "output_type": "stream",
          "name": "stdout",
          "text": [
            "[Errno 2] No such file or directory: '../bda2024_mid_demo'\n"
          ]
        }
      ],
      "source": [
        "%cd -q ../bda2024_mid_demo\n",
        "#轉化資料型態\n",
        "transaction_df['date'] = pd.to_datetime(transaction_df['date']).dt.date\n",
        "news_df['post_time'] = pd.to_datetime(news_df['post_time'])\n",
        "news_df['post_time'] = news_df['post_time'].dt.date\n",
        "\n",
        "#找到给定日期的下一个交易日\n",
        "def get_next_date(input_date, dates_list):\n",
        "    index = sum(1 for d in dates_list if d < input_date)\n",
        "    return index, dates_list[index]\n",
        "\n",
        "def check_contained_option(title, options):\n",
        "    for option in options:\n",
        "        if option in title:\n",
        "            return option\n",
        "    return None\n",
        "\n",
        "def print_logs(func):\n",
        "    def wrapper(*args, **kwargs):\n",
        "        print(f\"Executing {func.__name__} ......\")\n",
        "        return func(*args, **kwargs)\n",
        "    return wrapper\n",
        "\n",
        "#接口二：這邊是讀bert跑出來的embedding\n",
        "def load_news_embeddings():\n",
        "    with open('/content/drive/MyDrive/大學報告/大數據與商業分析/期中專案/embedding_dict_train (2).pkl', 'rb') as f:\n",
        "        embedding_dict_train = pickle.load(f)\n",
        "    with open('/content/drive/MyDrive/大學報告/大數據與商業分析/期中專案/embedding_dict_test (1).pkl', 'rb') as f:\n",
        "        embedding_dict_test = pickle.load(f)\n",
        "    print(f\"Size of <embedding_dict_train>: {len(embedding_dict_train)}\")\n",
        "    print(f\"Size of <embedding_dict_test>: {len(embedding_dict_test)}\")\n",
        "    return embedding_dict_train, embedding_dict_test\n",
        "    '''embedding_dict_train, _ = preprocessing(news_df_train,1,ws)\n",
        "    embedding_dict_test, _ = preprocessing(news_df_test,1,ws)\n",
        "    return embedding_dict_train, embedding_dict_test'''\n",
        "\n",
        "class NewsPriceDataset:\n",
        "    \"\"\"\n",
        "    Description\n",
        "        Prepare training and testing dataset for stock trading.\n",
        "        X: News embeddings, y: Change in stock price\n",
        "\n",
        "    Strategies\n",
        "        1. y discrete, news categorized as decrease (-1; sell), stable (0; hold), increase (+1; buy) sets.\n",
        "        # 2. y continuous, trade if predicted price change is greater than given threshold.\n",
        "\n",
        "    Parameters\n",
        "        stock_names: Name of the stocks to trade.\n",
        "        dates_train: (start_date, end_date), dates covered in the training set.\n",
        "        dates_test:  (start_date, end_date), dates covered in the testing set.\n",
        "        n_days_after, threshold: If the predicted price change in <n_days_after> days is greater than <threshold>, make a transaction. 交易門檻\n",
        "    \"\"\"\n",
        "    def __init__(self, stock_names, dates_train, dates_test, n_days_after, threshold):\n",
        "        self.stock_names = stock_names\n",
        "        self.dates_train_start, self.dates_train_end = dates_train\n",
        "        self.dates_test_start, self.dates_test_end = dates_test\n",
        "        self.dates_list = sorted(transaction_df.loc[(transaction_df['stock_name']==self.stock_names[0])]['date'])\n",
        "\n",
        "        self.n_days_after = n_days_after\n",
        "        self.threshold = threshold\n",
        "        self.answers = self.get_answers()\n",
        "        self.news_by_date = {}\n",
        "\n",
        "        self.embedding_dict = {}\n",
        "        self.X_train, self.y_train = [], []\n",
        "        self.X_test, self.y_test = [], []\n",
        "\n",
        "    def __str__(self):\n",
        "        return f\"NewsPriceDataset for {self.stock_names} (n_days_after={self.n_days_after}, threshold={self.threshold})\\n\\\n",
        "                 X_train: {np.shape(self.X_train)}, y_train: {np.shape(self.y_train)}\\n\\\n",
        "                 X_test: {np.shape(self.X_test)}, y_test: {np.shape(self.y_test)}\"\n",
        "\n",
        "\n",
        "    #给定一个股票名称和一个日期，这个函数计算从输入日期起指定天数后的股票开盘价和收盘价的变化，并根据这一变化提供买入、卖出或持有的建议\n",
        "    def get_answer(self, stock_name, input_date):\n",
        "        i, _ = get_next_date(input_date, self.dates_list)\n",
        "        open_date, close_date = self.dates_list[i], self.dates_list[i + self.n_days_after]\n",
        "\n",
        "        open_price = transaction_df.loc[(transaction_df['date']==open_date) &\n",
        "                                        (transaction_df['stock_name']==stock_name)]['open'].iloc[0]\n",
        "        close_price = transaction_df.loc[(transaction_df['date']==close_date) &\n",
        "                                        (transaction_df['stock_name']==stock_name)]['close'].iloc[0]\n",
        "        price_change = (close_price - open_price) / open_price\n",
        "        print(f\"{stock_name:5} | {price_change:5.2f} (Open: {open_date}, {open_price} | Close: {close_date}, {close_price})\")\n",
        "\n",
        "        if price_change >= self.threshold:\n",
        "            return 1     # buy\n",
        "        elif price_change <= -self.threshold:\n",
        "            return -1    # sell\n",
        "        else:\n",
        "            return 0     # hold\n",
        "\n",
        "    #计算并返回一个包含所有股票在所有指定日期内交易建议的字典\n",
        "    @print_logs\n",
        "    def get_answers(self):\n",
        "        if os.path.exists(\"answers.pkl\"):\n",
        "            with open('answers.pkl', 'rb') as f:\n",
        "                answers = pickle.load(f)\n",
        "        else:\n",
        "            answers = {}\n",
        "            final_day = self.dates_test_end + timedelta(days=30)\n",
        "            dates_used = [date for date in self.dates_list if self.dates_train_start <= date <= final_day]\n",
        "            for d in dates_used:\n",
        "                for n in self.stock_names:\n",
        "                    answers[(n, d)] = self.get_answer(n, d)\n",
        "            with open('answers.pkl', 'wb') as f:\n",
        "                pickle.dump(answers, f)\n",
        "        return answers\n",
        "\n",
        "    #接口一：跑出吐向量用的資料集給Martin\n",
        "    #篩選新聞的日期範圍與確認不是空值，並把篩選完的資料集存成兩個csv檔\n",
        "    def export_news_csv(self):\n",
        "        news_df['stock_name'] = news_df['title'].apply(check_contained_option, options=self.stock_names)\n",
        "\n",
        "        news_df_train = news_df[(news_df['post_time'] >= self.dates_train_start) &\n",
        "                                (news_df['post_time'] <= self.dates_train_end) &\n",
        "                                (news_df['stock_name'].notna())]\n",
        "        news_df_test = news_df[(news_df['post_time'] >= self.dates_test_start) &\n",
        "                               (news_df['post_time'] <= self.dates_test_end) &\n",
        "                               (news_df['stock_name'].notna())]\n",
        "        print(f\"Size of <news_df_train>: {news_df_train.shape}\")\n",
        "        print(f\"Size of <news_df_test>: {news_df_test.shape}\")\n",
        "        news_df_train.to_csv(\"news_training.csv\", index=False)\n",
        "        news_df_test.to_csv(\"news_testing.csv\", index=False)\n",
        "        return news_df_train, news_df_test\n",
        "\n",
        "    def prepare_dataset(self, embedding_dict):\n",
        "        X = np.atleast_2d(list(embedding_dict.values()))\n",
        "        y = []\n",
        "        for key in tqdm(embedding_dict):\n",
        "            input_date = next(iter(news_df.loc[news_df['id']==key, 'post_time']))\n",
        "            stock_name = next(iter(news_df.loc[news_df['id']==key, 'stock_name']))\n",
        "            _, next_date = get_next_date(input_date, self.dates_list)\n",
        "            y.append(self.answers[(stock_name, next_date)])\n",
        "        y = np.array(y)\n",
        "        return X, y\n",
        "\n",
        "    #準備訓練和測試的資料\n",
        "    def prepare_main(self):\n",
        "        embedding_dict_train, embedding_dict_test = load_news_embeddings()\n",
        "        self.X_train, self.y_train = self.prepare_dataset(embedding_dict_train)\n",
        "        self.X_test, self.y_test = self.prepare_dataset(embedding_dict_test)\n",
        "\n",
        "        self.embedding_dict = {**embedding_dict_train, **embedding_dict_test}\n",
        "        self.update_news_by_date(self.embedding_dict)\n",
        "\n",
        "    @print_logs\n",
        "    def update_news_by_date(self, embedding_dict):\n",
        "        for key in tqdm(embedding_dict):\n",
        "            input_date = next(iter(news_df.loc[news_df['id']==key, 'post_time']))\n",
        "            if input_date in self.news_by_date:\n",
        "                self.news_by_date[input_date].append(key)\n",
        "            else:\n",
        "                self.news_by_date[input_date] = [key]\n",
        "        return self.news_by_date\n",
        "\n",
        "\n",
        "    #考慮給訂日期前五天的新聞，用來預測y\n",
        "    def get_test_batch(self, stock_name, input_date, n_days=2):\n",
        "        \"\"\"\n",
        "            Predict the price change with news in the timespan (input_date - n_days, input_date)\n",
        "        \"\"\"\n",
        "        '''i, _ = get_next_date(input_date, self.dates_list)\n",
        "        news_id_list = []\n",
        "        for k in range(n_days + 1):\n",
        "            for news_id in self.news_by_date[self.dates_list[i - k]]:                   # given date range\n",
        "                if next(iter(news_df.loc[news_df['id']==news_id, 'stock_name']))==stock_name:       # given stock\n",
        "                    news_id_list.append(news_id)\n",
        "\n",
        "        if len(news_id_list)==0:\n",
        "            return None\n",
        "        else:\n",
        "            sub_dict = {key: self.embedding_dict[key] for key in news_id_list if key in self.embedding_dict}\n",
        "            return self.prepare_dataset(sub_dict)\n",
        "        '''\n",
        "        i, _ = get_next_date(input_date, self.dates_list)\n",
        "        news_id_list = []\n",
        "        for k in range(n_days + 1):\n",
        "            check_date = self.dates_list[i - k]\n",
        "            if check_date in self.news_by_date:  # 检查日期是否存在于字典中\n",
        "                for news_id in self.news_by_date[check_date]:  # 安全地访问日期键\n",
        "                    if next(iter(news_df.loc[news_df['id'] == news_id, 'stock_name'])) == stock_name:\n",
        "                        news_id_list.append(news_id)\n",
        "            else:\n",
        "                print(f\"Date {check_date} not found in news_by_date.\")  # 为避免 KeyError，报告丢失的日期\n",
        "\n",
        "        if len(news_id_list) == 0:\n",
        "            return None\n",
        "        else:\n",
        "            sub_dict = {key: self.embedding_dict[key] for key in news_id_list if key in self.embedding_dict}\n",
        "            return self.prepare_dataset(sub_dict)\n",
        "\n",
        "    def backtest(self, model):\n",
        "        \"\"\"\n",
        "            For data in the test date range, predict the price change with the given model.\n",
        "        \"\"\"\n",
        "        i, _ = get_next_date(self.dates_test_start, self.dates_list)\n",
        "        z_test, z_test_pred = [], []\n",
        "        while self.dates_list[i] <= self.dates_test_end:\n",
        "            d = self.dates_list[i]\n",
        "            for n in self.stock_names:\n",
        "                if self.get_test_batch(n, d) is None:\n",
        "                    continue\n",
        "                else:\n",
        "                    X_test, y_test = self.get_test_batch(n, d)\n",
        "                    y_test_pred = model.predict(X_test)\n",
        "                    price_change_pred = 1 if sum(y_test_pred) > 0 else 0 if sum(y_test_pred) == 0 else -1\n",
        "                    price_change_true = self.answers[(n, d)]\n",
        "\n",
        "                    z_test.append(price_change_true)\n",
        "                    z_test_pred.append(price_change_pred)\n",
        "                    print(f\"{d}, {n:5} | Ground Truth: {price_change_true}, Prediction: {price_change_pred}\")\n",
        "            i += 1\n",
        "        return z_test, z_test_pred"
      ]
    },
    {
      "cell_type": "markdown",
      "id": "74950b13",
      "metadata": {
        "id": "74950b13"
      },
      "source": [
        "### b. 準備訓練及測試資料\n",
        "X: 新聞, y: 股價變化（-1: 下跌, 0: 持平, 1: 上漲）"
      ]
    },
    {
      "cell_type": "code",
      "execution_count": 99,
      "id": "744dd86e-554f-418b-ae49-156a847ddfbf",
      "metadata": {
        "id": "744dd86e-554f-418b-ae49-156a847ddfbf",
        "outputId": "3d171aaa-992d-4492-953a-a794e46bc367",
        "colab": {
          "base_uri": "https://localhost:8080/"
        }
      },
      "outputs": [
        {
          "output_type": "stream",
          "name": "stdout",
          "text": [
            "Executing get_answers ......\n",
            "Size of <news_df_train>: (707, 19)\n",
            "Size of <news_df_test>: (221, 19)\n"
          ]
        }
      ],
      "source": [
        "#因為init時有呼叫get_answers，所以下方會跑出get_answers要生成的東西\n",
        "dataset = NewsPriceDataset(stock_names, dates_train, dates_test, 5, 0.03)\n",
        "news_df_train, news_df_test = dataset.export_news_csv()"
      ]
    },
    {
      "cell_type": "markdown",
      "id": "83b2e309",
      "metadata": {
        "id": "83b2e309"
      },
      "source": [
        "在 [Google Colab](https://colab.research.google.com/drive/1dFeoGUoa0xgbRA7TsLwkg54tYguhlN4k?usp=sharing) 上使用現有的預訓練模型進行 inference，取得新聞標題的 embedding。（這裡以 `bert-base-chinese` 為例）"
      ]
    },
    {
      "cell_type": "code",
      "execution_count": 100,
      "id": "ddfd9b76-1abd-4372-ae18-8a24f7503d25",
      "metadata": {
        "id": "ddfd9b76-1abd-4372-ae18-8a24f7503d25",
        "outputId": "67db51ac-648f-4071-adac-47b4d6cb5a59",
        "colab": {
          "base_uri": "https://localhost:8080/"
        }
      },
      "outputs": [
        {
          "output_type": "stream",
          "name": "stdout",
          "text": [
            "Size of <embedding_dict_train>: 288\n",
            "Size of <embedding_dict_test>: 192\n"
          ]
        },
        {
          "output_type": "stream",
          "name": "stderr",
          "text": [
            "\n",
            "  0%|          | 0/288 [00:00<?, ?it/s]\u001b[A\n",
            " 15%|█▌        | 44/288 [00:00<00:00, 438.18it/s]\u001b[A\n",
            " 31%|███       | 88/288 [00:00<00:00, 397.12it/s]\u001b[A\n",
            " 44%|████▍     | 128/288 [00:00<00:00, 395.66it/s]\u001b[A\n",
            " 60%|█████▉    | 172/288 [00:00<00:00, 411.72it/s]\u001b[A\n",
            " 74%|███████▍  | 214/288 [00:00<00:00, 388.38it/s]\u001b[A\n",
            "100%|██████████| 288/288 [00:00<00:00, 400.95it/s]\n",
            "\n",
            "  0%|          | 0/192 [00:00<?, ?it/s]\u001b[A\n",
            " 22%|██▏       | 42/192 [00:00<00:00, 412.62it/s]\u001b[A\n",
            " 44%|████▍     | 84/192 [00:00<00:00, 400.31it/s]\u001b[A\n",
            " 66%|██████▌   | 126/192 [00:00<00:00, 408.43it/s]\u001b[A\n",
            "100%|██████████| 192/192 [00:00<00:00, 378.34it/s]\n"
          ]
        },
        {
          "output_type": "stream",
          "name": "stdout",
          "text": [
            "Executing update_news_by_date ......\n"
          ]
        },
        {
          "output_type": "stream",
          "name": "stderr",
          "text": [
            "\n",
            "  0%|          | 0/480 [00:00<?, ?it/s]\u001b[A\n",
            " 18%|█▊        | 84/480 [00:00<00:00, 835.70it/s]\u001b[A\n",
            " 35%|███▌      | 168/480 [00:00<00:00, 831.48it/s]\u001b[A\n",
            " 52%|█████▎    | 252/480 [00:00<00:00, 804.91it/s]\u001b[A\n",
            " 69%|██████▉   | 333/480 [00:00<00:00, 767.09it/s]\u001b[A\n",
            "100%|██████████| 480/480 [00:00<00:00, 798.68it/s]"
          ]
        },
        {
          "output_type": "stream",
          "name": "stdout",
          "text": [
            "NewsPriceDataset for ['台船', '長榮', '新興', '裕民', '榮運', '嘉里大榮', '陽明', '華航', '志信', '中航', '中櫃', '萬海', '台航', '長榮航', '亞航', '台灣高鐵', '漢翔', '台驊投控', '慧洋-KY', '宅配通', '遠雄港', '建新國際'] (n_days_after=5, threshold=0.03)\n",
            "                 X_train: (288, 1003), y_train: (288,)\n",
            "                 X_test: (192, 1003), y_test: (192,)\n"
          ]
        },
        {
          "output_type": "stream",
          "name": "stderr",
          "text": [
            "\n"
          ]
        }
      ],
      "source": [
        "dataset.prepare_main()\n",
        "print(dataset)"
      ]
    },
    {
      "cell_type": "code",
      "execution_count": 101,
      "id": "9fb3d2a5",
      "metadata": {
        "id": "9fb3d2a5",
        "outputId": "7ad1c373-6dfc-4700-8a22-17114e1bd0aa",
        "colab": {
          "base_uri": "https://localhost:8080/"
        }
      },
      "outputs": [
        {
          "output_type": "stream",
          "name": "stdout",
          "text": [
            "  1: 51\n",
            "  0: 78\n",
            " -1: 63\n"
          ]
        }
      ],
      "source": [
        "X_train, y_train = dataset.X_train, dataset.y_train\n",
        "X_test, y_test = dataset.X_test, dataset.y_test\n",
        "'''\n",
        "embedding_dict_train, _ = preprocessing(news_df_train,1,ws)\n",
        "all_embeddings = list(embedding_dict_train.values())\n",
        "X_train = np.array(all_embeddings)\n",
        "\n",
        "embedding_dict_test, _ = preprocessing(news_df_test,1,ws)\n",
        "all_embeddings = list(embedding_dict_test.values())\n",
        "X_test = np.array(all_embeddings)\n",
        "'''\n",
        "counts = Counter(y_test)\n",
        "for value, count in counts.items():\n",
        "    print(f\"{str(value).rjust(3)}: {count}\")"
      ]
    },
    {
      "cell_type": "code",
      "source": [
        "X_train.shape,y_train.shape"
      ],
      "metadata": {
        "colab": {
          "base_uri": "https://localhost:8080/"
        },
        "id": "SesAXto2YJac",
        "outputId": "a71c1849-81dc-478b-b4c2-8b2137ade33d"
      },
      "id": "SesAXto2YJac",
      "execution_count": 91,
      "outputs": [
        {
          "output_type": "execute_result",
          "data": {
            "text/plain": [
              "((288, 1003), (288,))"
            ]
          },
          "metadata": {},
          "execution_count": 91
        }
      ]
    },
    {
      "cell_type": "markdown",
      "id": "2852ab12",
      "metadata": {
        "id": "2852ab12"
      },
      "source": [
        "### c. 訓練模型"
      ]
    },
    {
      "cell_type": "code",
      "source": [
        "from sklearn.ensemble import StackingClassifier, RandomForestClassifier\n",
        "from sklearn.linear_model import LogisticRegression\n",
        "from xgboost import XGBClassifier\n",
        "from sklearn.svm import SVC\n",
        "from sklearn.naive_bayes import GaussianNB\n",
        "from sklearn.metrics import accuracy_score, classification_report\n",
        "\n",
        "# 创建模型实例\n",
        "xgb_model = XGBClassifier(\n",
        "    learning_rate=0.2,\n",
        "    max_depth=4,\n",
        "    n_estimators=300,\n",
        "    subsample=1.0\n",
        ")\n",
        "\n",
        "svm_model = SVC(\n",
        "    kernel='rbf',\n",
        "    gamma='scale',\n",
        "    C=10\n",
        ")\n",
        "\n",
        "rf_model = RandomForestClassifier(\n",
        "    n_estimators=100,\n",
        "    min_samples_split=5,\n",
        "    min_samples_leaf=1,\n",
        "    max_depth=None\n",
        ")\n",
        "\n",
        "nb_model = GaussianNB()  # 朴素贝叶斯模型通常不需要配置\n",
        "\n",
        "# 定义Stacking模型\n",
        "stacked_model = StackingClassifier(\n",
        "    estimators=[\n",
        "        ('xgboost', xgb_model),\n",
        "        ('svm', svm_model),\n",
        "        ('random_forest', rf_model),\n",
        "        ('naive_bayes', nb_model)\n",
        "    ],\n",
        "    final_estimator=LogisticRegression()\n",
        ")\n",
        "\n",
        "# 训练Stacking模型\n",
        "stacked_model.fit(X_train, y_train)\n",
        "\n",
        "# 预测和评估Stacking模型\n",
        "stacked_pred = stacked_model.predict(X_test)\n",
        "print(\"Stacked Model Accuracy:\", accuracy_score(y_test, stacked_pred))\n",
        "print(\"Stacked Model Classification Report:\\n\", classification_report(y_test, stacked_pred))"
      ],
      "metadata": {
        "colab": {
          "base_uri": "https://localhost:8080/"
        },
        "id": "byTx7iYnU6n8",
        "outputId": "4c76d008-3d4c-4832-bc5f-41e3a4ed4f7b"
      },
      "id": "byTx7iYnU6n8",
      "execution_count": 102,
      "outputs": [
        {
          "output_type": "stream",
          "name": "stdout",
          "text": [
            "Stacked Model Accuracy: 0.4166666666666667\n",
            "Stacked Model Classification Report:\n",
            "               precision    recall  f1-score   support\n",
            "\n",
            "          -1       0.47      0.27      0.34        63\n",
            "           0       0.40      0.81      0.54        78\n",
            "           1       0.00      0.00      0.00        51\n",
            "\n",
            "    accuracy                           0.42       192\n",
            "   macro avg       0.29      0.36      0.29       192\n",
            "weighted avg       0.32      0.42      0.33       192\n",
            "\n"
          ]
        },
        {
          "output_type": "stream",
          "name": "stderr",
          "text": [
            "/usr/local/lib/python3.10/dist-packages/sklearn/linear_model/_logistic.py:458: ConvergenceWarning: lbfgs failed to converge (status=1):\n",
            "STOP: TOTAL NO. of ITERATIONS REACHED LIMIT.\n",
            "\n",
            "Increase the number of iterations (max_iter) or scale the data as shown in:\n",
            "    https://scikit-learn.org/stable/modules/preprocessing.html\n",
            "Please also refer to the documentation for alternative solver options:\n",
            "    https://scikit-learn.org/stable/modules/linear_model.html#logistic-regression\n",
            "  n_iter_i = _check_optimize_result(\n",
            "/usr/local/lib/python3.10/dist-packages/sklearn/metrics/_classification.py:1344: UndefinedMetricWarning: Precision and F-score are ill-defined and being set to 0.0 in labels with no predicted samples. Use `zero_division` parameter to control this behavior.\n",
            "  _warn_prf(average, modifier, msg_start, len(result))\n",
            "/usr/local/lib/python3.10/dist-packages/sklearn/metrics/_classification.py:1344: UndefinedMetricWarning: Precision and F-score are ill-defined and being set to 0.0 in labels with no predicted samples. Use `zero_division` parameter to control this behavior.\n",
            "  _warn_prf(average, modifier, msg_start, len(result))\n",
            "/usr/local/lib/python3.10/dist-packages/sklearn/metrics/_classification.py:1344: UndefinedMetricWarning: Precision and F-score are ill-defined and being set to 0.0 in labels with no predicted samples. Use `zero_division` parameter to control this behavior.\n",
            "  _warn_prf(average, modifier, msg_start, len(result))\n"
          ]
        }
      ]
    },
    {
      "cell_type": "code",
      "execution_count": 93,
      "id": "c042fc0a",
      "metadata": {
        "id": "c042fc0a",
        "outputId": "a43cddd1-0a46-408d-b665-32f007cf81cf",
        "colab": {
          "base_uri": "https://localhost:8080/"
        }
      },
      "outputs": [
        {
          "output_type": "stream",
          "name": "stdout",
          "text": [
            "Accuracy: 0.3542\n"
          ]
        }
      ],
      "source": [
        "model = MLPClassifier(hidden_layer_sizes=(180, 36), max_iter=300)\n",
        "model.fit(X_train, y_train)\n",
        "y_test_pred = model.predict(X_test)\n",
        "\n",
        "accuracy = accuracy_score(y_test, y_test_pred)\n",
        "print(f\"Accuracy: {accuracy:.4f}\")"
      ]
    },
    {
      "cell_type": "code",
      "source": [
        "model = SVC(kernel='rbf', C=1.0, gamma='scale')\n",
        "model.fit(X_train, y_train)\n",
        "y_test_pred = model.predict(X_test)\n",
        "\n",
        "accuracy = accuracy_score(y_test, y_test_pred)\n",
        "print(f\"Accuracy: {accuracy:.4f}\")"
      ],
      "metadata": {
        "colab": {
          "base_uri": "https://localhost:8080/"
        },
        "id": "nBr0dDe-mK6X",
        "outputId": "c87ba274-2cfe-497b-cf82-80646d7547d4"
      },
      "id": "nBr0dDe-mK6X",
      "execution_count": 94,
      "outputs": [
        {
          "output_type": "stream",
          "name": "stdout",
          "text": [
            "Accuracy: 0.3438\n"
          ]
        }
      ]
    },
    {
      "cell_type": "code",
      "execution_count": 21,
      "id": "42d86028",
      "metadata": {
        "id": "42d86028",
        "outputId": "aa262f06-4b47-4ed4-de79-7b62e9860e6e",
        "colab": {
          "base_uri": "https://localhost:8080/",
          "height": 487
        }
      },
      "outputs": [
        {
          "output_type": "display_data",
          "data": {
            "text/plain": [
              "<Figure size 500x500 with 1 Axes>"
            ],
            "image/png": "[encoded data removed]"
          },
          "metadata": {}
        }
      ],
      "source": [
        "cm = confusion_matrix(y_test, y_test_pred)\n",
        "class_labels = ['-1', '0', '+1']\n",
        "\n",
        "plt.figure(figsize=(5, 5))\n",
        "sns.heatmap(cm, annot=True, fmt='g', cmap=\"crest\", cbar=False,\n",
        "            xticklabels=class_labels, yticklabels=class_labels)\n",
        "plt.xlabel(\"Predicted labels\")\n",
        "plt.ylabel(\"True labels\")\n",
        "plt.title(\"Confusion Matrix\")\n",
        "plt.show()"
      ]
    },
    {
      "cell_type": "markdown",
      "id": "16dd9e3e",
      "metadata": {
        "id": "16dd9e3e"
      },
      "source": [
        "### d. 預測：根據模型的預測結果決定是否買進或賣出。"
      ]
    },
    {
      "cell_type": "code",
      "execution_count": 103,
      "id": "9d1a511c",
      "metadata": {
        "id": "9d1a511c",
        "outputId": "5c889ce9-03b3-4eb8-f42b-1988e2bba3bd",
        "colab": {
          "base_uri": "https://localhost:8080/"
        }
      },
      "outputs": [
        {
          "output_type": "stream",
          "name": "stdout",
          "text": [
            "Date 2023-03-31 not found in news_by_date.\n",
            "Date 2023-03-30 not found in news_by_date.\n"
          ]
        },
        {
          "output_type": "stream",
          "name": "stderr",
          "text": [
            "\n",
            "100%|██████████| 1/1 [00:00<00:00, 118.04it/s]\n"
          ]
        },
        {
          "output_type": "stream",
          "name": "stdout",
          "text": [
            "Date 2023-03-31 not found in news_by_date.\n",
            "Date 2023-03-30 not found in news_by_date.\n"
          ]
        },
        {
          "output_type": "stream",
          "name": "stderr",
          "text": [
            "\n",
            "100%|██████████| 1/1 [00:00<00:00, 239.36it/s]\n"
          ]
        },
        {
          "output_type": "stream",
          "name": "stdout",
          "text": [
            "2023-04-06, 台船    | Ground Truth: 1, Prediction: 0\n",
            "Date 2023-03-31 not found in news_by_date.\n",
            "Date 2023-03-30 not found in news_by_date.\n"
          ]
        },
        {
          "output_type": "stream",
          "name": "stderr",
          "text": [
            "\n",
            "100%|██████████| 5/5 [00:00<00:00, 221.33it/s]\n"
          ]
        },
        {
          "output_type": "stream",
          "name": "stdout",
          "text": [
            "Date 2023-03-31 not found in news_by_date.\n",
            "Date 2023-03-30 not found in news_by_date.\n"
          ]
        },
        {
          "output_type": "stream",
          "name": "stderr",
          "text": [
            "\n",
            "100%|██████████| 5/5 [00:00<00:00, 215.22it/s]\n"
          ]
        },
        {
          "output_type": "stream",
          "name": "stdout",
          "text": [
            "2023-04-06, 長榮    | Ground Truth: 1, Prediction: 0\n",
            "Date 2023-03-31 not found in news_by_date.\n",
            "Date 2023-03-30 not found in news_by_date.\n",
            "Date 2023-03-31 not found in news_by_date.\n",
            "Date 2023-03-30 not found in news_by_date.\n",
            "Date 2023-03-31 not found in news_by_date.\n",
            "Date 2023-03-30 not found in news_by_date.\n",
            "Date 2023-03-31 not found in news_by_date.\n",
            "Date 2023-03-30 not found in news_by_date.\n",
            "Date 2023-03-31 not found in news_by_date.\n",
            "Date 2023-03-30 not found in news_by_date.\n"
          ]
        },
        {
          "output_type": "stream",
          "name": "stderr",
          "text": [
            "\n",
            "100%|██████████| 1/1 [00:00<00:00, 152.92it/s]\n"
          ]
        },
        {
          "output_type": "stream",
          "name": "stdout",
          "text": [
            "Date 2023-03-31 not found in news_by_date.\n",
            "Date 2023-03-30 not found in news_by_date.\n"
          ]
        },
        {
          "output_type": "stream",
          "name": "stderr",
          "text": [
            "\n",
            "100%|██████████| 1/1 [00:00<00:00, 197.07it/s]"
          ]
        },
        {
          "output_type": "stream",
          "name": "stdout",
          "text": [
            "2023-04-06, 陽明    | Ground Truth: 0, Prediction: 0\n"
          ]
        },
        {
          "output_type": "stream",
          "name": "stderr",
          "text": [
            "\n"
          ]
        },
        {
          "output_type": "stream",
          "name": "stdout",
          "text": [
            "Date 2023-03-31 not found in news_by_date.\n",
            "Date 2023-03-30 not found in news_by_date.\n"
          ]
        },
        {
          "output_type": "stream",
          "name": "stderr",
          "text": [
            "\n",
            "100%|██████████| 1/1 [00:00<00:00, 159.77it/s]\n"
          ]
        },
        {
          "output_type": "stream",
          "name": "stdout",
          "text": [
            "Date 2023-03-31 not found in news_by_date.\n",
            "Date 2023-03-30 not found in news_by_date.\n"
          ]
        },
        {
          "output_type": "stream",
          "name": "stderr",
          "text": [
            "\n",
            "100%|██████████| 1/1 [00:00<00:00, 188.09it/s]\n"
          ]
        },
        {
          "output_type": "stream",
          "name": "stdout",
          "text": [
            "2023-04-06, 華航    | Ground Truth: 0, Prediction: 0\n",
            "Date 2023-03-31 not found in news_by_date.\n",
            "Date 2023-03-30 not found in news_by_date.\n",
            "Date 2023-03-31 not found in news_by_date.\n",
            "Date 2023-03-30 not found in news_by_date.\n",
            "Date 2023-03-31 not found in news_by_date.\n",
            "Date 2023-03-30 not found in news_by_date.\n",
            "Date 2023-03-31 not found in news_by_date.\n",
            "Date 2023-03-30 not found in news_by_date.\n",
            "Date 2023-03-31 not found in news_by_date.\n",
            "Date 2023-03-30 not found in news_by_date.\n",
            "Date 2023-03-31 not found in news_by_date.\n",
            "Date 2023-03-30 not found in news_by_date.\n",
            "Date 2023-03-31 not found in news_by_date.\n",
            "Date 2023-03-30 not found in news_by_date.\n",
            "Date 2023-03-31 not found in news_by_date.\n",
            "Date 2023-03-30 not found in news_by_date.\n",
            "Date 2023-03-31 not found in news_by_date.\n",
            "Date 2023-03-30 not found in news_by_date.\n",
            "Date 2023-03-31 not found in news_by_date.\n",
            "Date 2023-03-30 not found in news_by_date.\n"
          ]
        },
        {
          "output_type": "stream",
          "name": "stderr",
          "text": [
            "\n",
            "100%|██████████| 3/3 [00:00<00:00, 215.81it/s]\n"
          ]
        },
        {
          "output_type": "stream",
          "name": "stdout",
          "text": [
            "Date 2023-03-31 not found in news_by_date.\n",
            "Date 2023-03-30 not found in news_by_date.\n"
          ]
        },
        {
          "output_type": "stream",
          "name": "stderr",
          "text": [
            "\n",
            "100%|██████████| 3/3 [00:00<00:00, 217.91it/s]"
          ]
        },
        {
          "output_type": "stream",
          "name": "stdout",
          "text": [
            "2023-04-06, 台驊投控  | Ground Truth: 0, Prediction: 0\n",
            "Date 2023-03-31 not found in news_by_date.\n",
            "Date 2023-03-30 not found in news_by_date.\n",
            "Date 2023-03-31 not found in news_by_date.\n",
            "Date 2023-03-30 not found in news_by_date.\n",
            "Date 2023-03-31 not found in news_by_date.\n",
            "Date 2023-03-30 not found in news_by_date.\n"
          ]
        },
        {
          "output_type": "stream",
          "name": "stderr",
          "text": [
            "\n"
          ]
        },
        {
          "output_type": "stream",
          "name": "stdout",
          "text": [
            "Date 2023-03-31 not found in news_by_date.\n",
            "Date 2023-03-30 not found in news_by_date.\n",
            "Date 2023-03-31 not found in news_by_date.\n"
          ]
        },
        {
          "output_type": "stream",
          "name": "stderr",
          "text": [
            "\n",
            "100%|██████████| 1/1 [00:00<00:00, 140.92it/s]\n"
          ]
        },
        {
          "output_type": "stream",
          "name": "stdout",
          "text": [
            "Date 2023-03-31 not found in news_by_date.\n"
          ]
        },
        {
          "output_type": "stream",
          "name": "stderr",
          "text": [
            "\n",
            "100%|██████████| 1/1 [00:00<00:00, 242.63it/s]"
          ]
        },
        {
          "output_type": "stream",
          "name": "stdout",
          "text": [
            "2023-04-07, 台船    | Ground Truth: 1, Prediction: 0\n"
          ]
        },
        {
          "output_type": "stream",
          "name": "stderr",
          "text": [
            "\n"
          ]
        },
        {
          "output_type": "stream",
          "name": "stdout",
          "text": [
            "Date 2023-03-31 not found in news_by_date.\n"
          ]
        },
        {
          "output_type": "stream",
          "name": "stderr",
          "text": [
            "\n",
            "100%|██████████| 11/11 [00:00<00:00, 203.48it/s]\n"
          ]
        },
        {
          "output_type": "stream",
          "name": "stdout",
          "text": [
            "Date 2023-03-31 not found in news_by_date.\n"
          ]
        },
        {
          "output_type": "stream",
          "name": "stderr",
          "text": [
            "\n",
            "100%|██████████| 11/11 [00:00<00:00, 180.64it/s]\n"
          ]
        },
        {
          "output_type": "stream",
          "name": "stdout",
          "text": [
            "2023-04-07, 長榮    | Ground Truth: 1, Prediction: 0\n",
            "Date 2023-03-31 not found in news_by_date.\n",
            "Date 2023-03-31 not found in news_by_date.\n",
            "Date 2023-03-31 not found in news_by_date.\n",
            "Date 2023-03-31 not found in news_by_date.\n",
            "Date 2023-03-31 not found in news_by_date.\n"
          ]
        },
        {
          "output_type": "stream",
          "name": "stderr",
          "text": [
            "\n",
            "100%|██████████| 3/3 [00:00<00:00, 150.78it/s]\n"
          ]
        },
        {
          "output_type": "stream",
          "name": "stdout",
          "text": [
            "Date 2023-03-31 not found in news_by_date.\n"
          ]
        },
        {
          "output_type": "stream",
          "name": "stderr",
          "text": [
            "\n",
            "100%|██████████| 3/3 [00:00<00:00, 174.36it/s]\n"
          ]
        },
        {
          "output_type": "stream",
          "name": "stdout",
          "text": [
            "2023-04-07, 陽明    | Ground Truth: 1, Prediction: 0\n",
            "Date 2023-03-31 not found in news_by_date.\n"
          ]
        },
        {
          "output_type": "stream",
          "name": "stderr",
          "text": [
            "\n",
            "100%|██████████| 1/1 [00:00<00:00, 150.22it/s]\n"
          ]
        },
        {
          "output_type": "stream",
          "name": "stdout",
          "text": [
            "Date 2023-03-31 not found in news_by_date.\n"
          ]
        },
        {
          "output_type": "stream",
          "name": "stderr",
          "text": [
            "\n",
            "100%|██████████| 1/1 [00:00<00:00, 212.69it/s]"
          ]
        },
        {
          "output_type": "stream",
          "name": "stdout",
          "text": [
            "2023-04-07, 華航    | Ground Truth: 0, Prediction: 0\n"
          ]
        },
        {
          "output_type": "stream",
          "name": "stderr",
          "text": [
            "\n"
          ]
        },
        {
          "output_type": "stream",
          "name": "stdout",
          "text": [
            "Date 2023-03-31 not found in news_by_date.\n",
            "Date 2023-03-31 not found in news_by_date.\n",
            "Date 2023-03-31 not found in news_by_date.\n",
            "Date 2023-03-31 not found in news_by_date.\n",
            "Date 2023-03-31 not found in news_by_date.\n",
            "Date 2023-03-31 not found in news_by_date.\n",
            "Date 2023-03-31 not found in news_by_date.\n",
            "Date 2023-03-31 not found in news_by_date.\n",
            "Date 2023-03-31 not found in news_by_date.\n"
          ]
        },
        {
          "output_type": "stream",
          "name": "stderr",
          "text": [
            "\n",
            "100%|██████████| 2/2 [00:00<00:00, 185.72it/s]\n"
          ]
        },
        {
          "output_type": "stream",
          "name": "stdout",
          "text": [
            "Date 2023-03-31 not found in news_by_date.\n"
          ]
        },
        {
          "output_type": "stream",
          "name": "stderr",
          "text": [
            "\n",
            "100%|██████████| 2/2 [00:00<00:00, 200.31it/s]\n"
          ]
        },
        {
          "output_type": "stream",
          "name": "stdout",
          "text": [
            "2023-04-07, 漢翔    | Ground Truth: 1, Prediction: 0\n",
            "Date 2023-03-31 not found in news_by_date.\n"
          ]
        },
        {
          "output_type": "stream",
          "name": "stderr",
          "text": [
            "\n",
            "100%|██████████| 3/3 [00:00<00:00, 207.42it/s]\n"
          ]
        },
        {
          "output_type": "stream",
          "name": "stdout",
          "text": [
            "Date 2023-03-31 not found in news_by_date.\n"
          ]
        },
        {
          "output_type": "stream",
          "name": "stderr",
          "text": [
            "\n",
            "100%|██████████| 3/3 [00:00<00:00, 242.67it/s]"
          ]
        },
        {
          "output_type": "stream",
          "name": "stdout",
          "text": [
            "2023-04-07, 台驊投控  | Ground Truth: 0, Prediction: 0"
          ]
        },
        {
          "output_type": "stream",
          "name": "stderr",
          "text": [
            "\n"
          ]
        },
        {
          "output_type": "stream",
          "name": "stdout",
          "text": [
            "\n",
            "Date 2023-03-31 not found in news_by_date.\n"
          ]
        },
        {
          "output_type": "stream",
          "name": "stderr",
          "text": [
            "\n",
            "100%|██████████| 2/2 [00:00<00:00, 127.43it/s]\n"
          ]
        },
        {
          "output_type": "stream",
          "name": "stdout",
          "text": [
            "Date 2023-03-31 not found in news_by_date.\n"
          ]
        },
        {
          "output_type": "stream",
          "name": "stderr",
          "text": [
            "\n",
            "100%|██████████| 2/2 [00:00<00:00, 214.59it/s]\n"
          ]
        },
        {
          "output_type": "stream",
          "name": "stdout",
          "text": [
            "2023-04-07, 慧洋-KY | Ground Truth: 0, Prediction: 0\n",
            "Date 2023-03-31 not found in news_by_date.\n",
            "Date 2023-03-31 not found in news_by_date.\n",
            "Date 2023-03-31 not found in news_by_date.\n",
            "Date 2023-04-10 not found in news_by_date.\n"
          ]
        },
        {
          "output_type": "stream",
          "name": "stderr",
          "text": [
            "\n",
            "100%|██████████| 1/1 [00:00<00:00, 205.72it/s]"
          ]
        },
        {
          "output_type": "stream",
          "name": "stdout",
          "text": [
            "Date 2023-04-10 not found in news_by_date.\n"
          ]
        },
        {
          "output_type": "stream",
          "name": "stderr",
          "text": [
            "\n",
            "\n",
            "100%|██████████| 1/1 [00:00<00:00, 140.74it/s]"
          ]
        },
        {
          "output_type": "stream",
          "name": "stdout",
          "text": [
            "2023-04-10, 台船    | Ground Truth: 1, Prediction: 0\n",
            "Date 2023-04-10 not found in news_by_date.\n"
          ]
        },
        {
          "output_type": "stream",
          "name": "stderr",
          "text": [
            "\n",
            "\n",
            "100%|██████████| 11/11 [00:00<00:00, 197.99it/s]\n"
          ]
        },
        {
          "output_type": "stream",
          "name": "stdout",
          "text": [
            "Date 2023-04-10 not found in news_by_date.\n"
          ]
        },
        {
          "output_type": "stream",
          "name": "stderr",
          "text": [
            "\n",
            "100%|██████████| 11/11 [00:00<00:00, 219.73it/s]\n"
          ]
        },
        {
          "output_type": "stream",
          "name": "stdout",
          "text": [
            "2023-04-10, 長榮    | Ground Truth: 1, Prediction: 0\n",
            "Date 2023-04-10 not found in news_by_date.\n",
            "Date 2023-04-10 not found in news_by_date.\n",
            "Date 2023-04-10 not found in news_by_date.\n",
            "Date 2023-04-10 not found in news_by_date.\n",
            "Date 2023-04-10 not found in news_by_date.\n"
          ]
        },
        {
          "output_type": "stream",
          "name": "stderr",
          "text": [
            "\n",
            "100%|██████████| 3/3 [00:00<00:00, 190.21it/s]"
          ]
        },
        {
          "output_type": "stream",
          "name": "stdout",
          "text": [
            "Date 2023-04-10 not found in news_by_date.\n"
          ]
        },
        {
          "output_type": "stream",
          "name": "stderr",
          "text": [
            "\n",
            "\n",
            "100%|██████████| 3/3 [00:00<00:00, 190.13it/s]\n"
          ]
        },
        {
          "output_type": "stream",
          "name": "stdout",
          "text": [
            "2023-04-10, 陽明    | Ground Truth: 0, Prediction: 0\n",
            "Date 2023-04-10 not found in news_by_date.\n"
          ]
        },
        {
          "output_type": "stream",
          "name": "stderr",
          "text": [
            "\n",
            "100%|██████████| 1/1 [00:00<00:00, 98.76it/s]\n"
          ]
        },
        {
          "output_type": "stream",
          "name": "stdout",
          "text": [
            "Date 2023-04-10 not found in news_by_date.\n"
          ]
        },
        {
          "output_type": "stream",
          "name": "stderr",
          "text": [
            "\n",
            "100%|██████████| 1/1 [00:00<00:00, 111.90it/s]"
          ]
        },
        {
          "output_type": "stream",
          "name": "stdout",
          "text": [
            "2023-04-10, 華航    | Ground Truth: 0, Prediction: 0\n",
            "Date 2023-04-10 not found in news_by_date.\n"
          ]
        },
        {
          "output_type": "stream",
          "name": "stderr",
          "text": [
            "\n"
          ]
        },
        {
          "output_type": "stream",
          "name": "stdout",
          "text": [
            "Date 2023-04-10 not found in news_by_date.\n",
            "Date 2023-04-10 not found in news_by_date.\n",
            "Date 2023-04-10 not found in news_by_date.\n",
            "Date 2023-04-10 not found in news_by_date.\n",
            "Date 2023-04-10 not found in news_by_date.\n",
            "Date 2023-04-10 not found in news_by_date.\n",
            "Date 2023-04-10 not found in news_by_date.\n",
            "Date 2023-04-10 not found in news_by_date.\n"
          ]
        },
        {
          "output_type": "stream",
          "name": "stderr",
          "text": [
            "\n",
            "100%|██████████| 2/2 [00:00<00:00, 147.34it/s]"
          ]
        },
        {
          "output_type": "stream",
          "name": "stdout",
          "text": [
            "Date 2023-04-10 not found in news_by_date.\n"
          ]
        },
        {
          "output_type": "stream",
          "name": "stderr",
          "text": [
            "\n",
            "\n",
            "100%|██████████| 2/2 [00:00<00:00, 185.65it/s]\n"
          ]
        },
        {
          "output_type": "stream",
          "name": "stdout",
          "text": [
            "2023-04-10, 漢翔    | Ground Truth: 1, Prediction: 0\n",
            "Date 2023-04-10 not found in news_by_date.\n"
          ]
        },
        {
          "output_type": "stream",
          "name": "stderr",
          "text": [
            "\n",
            "100%|██████████| 3/3 [00:00<00:00, 196.45it/s]\n"
          ]
        },
        {
          "output_type": "stream",
          "name": "stdout",
          "text": [
            "Date 2023-04-10 not found in news_by_date.\n"
          ]
        },
        {
          "output_type": "stream",
          "name": "stderr",
          "text": [
            "\n",
            "100%|██████████| 3/3 [00:00<00:00, 190.68it/s]\n"
          ]
        },
        {
          "output_type": "stream",
          "name": "stdout",
          "text": [
            "2023-04-10, 台驊投控  | Ground Truth: 0, Prediction: 0\n",
            "Date 2023-04-10 not found in news_by_date.\n"
          ]
        },
        {
          "output_type": "stream",
          "name": "stderr",
          "text": [
            "\n",
            "100%|██████████| 2/2 [00:00<00:00, 179.37it/s]\n"
          ]
        },
        {
          "output_type": "stream",
          "name": "stdout",
          "text": [
            "Date 2023-04-10 not found in news_by_date.\n"
          ]
        },
        {
          "output_type": "stream",
          "name": "stderr",
          "text": [
            "\n",
            "100%|██████████| 2/2 [00:00<00:00, 190.25it/s]\n"
          ]
        },
        {
          "output_type": "stream",
          "name": "stdout",
          "text": [
            "2023-04-10, 慧洋-KY | Ground Truth: 0, Prediction: 0\n",
            "Date 2023-04-10 not found in news_by_date.\n",
            "Date 2023-04-10 not found in news_by_date.\n",
            "Date 2023-04-10 not found in news_by_date.\n",
            "Date 2023-04-10 not found in news_by_date.\n"
          ]
        },
        {
          "output_type": "stream",
          "name": "stderr",
          "text": [
            "\n",
            "100%|██████████| 3/3 [00:00<00:00, 296.33it/s]\n"
          ]
        },
        {
          "output_type": "stream",
          "name": "stdout",
          "text": [
            "Date 2023-04-10 not found in news_by_date.\n"
          ]
        },
        {
          "output_type": "stream",
          "name": "stderr",
          "text": [
            "\n",
            "100%|██████████| 3/3 [00:00<00:00, 295.47it/s]\n"
          ]
        },
        {
          "output_type": "stream",
          "name": "stdout",
          "text": [
            "2023-04-11, 台船    | Ground Truth: 1, Prediction: 0\n",
            "Date 2023-04-10 not found in news_by_date.\n"
          ]
        },
        {
          "output_type": "stream",
          "name": "stderr",
          "text": [
            "\n",
            "100%|██████████| 9/9 [00:00<00:00, 213.47it/s]\n"
          ]
        },
        {
          "output_type": "stream",
          "name": "stdout",
          "text": [
            "Date 2023-04-10 not found in news_by_date.\n"
          ]
        },
        {
          "output_type": "stream",
          "name": "stderr",
          "text": [
            "\n",
            "100%|██████████| 9/9 [00:00<00:00, 328.05it/s]\n"
          ]
        },
        {
          "output_type": "stream",
          "name": "stdout",
          "text": [
            "2023-04-11, 長榮    | Ground Truth: 1, Prediction: 0\n",
            "Date 2023-04-10 not found in news_by_date.\n"
          ]
        },
        {
          "output_type": "stream",
          "name": "stderr",
          "text": [
            "\n",
            "100%|██████████| 2/2 [00:00<00:00, 167.73it/s]\n"
          ]
        },
        {
          "output_type": "stream",
          "name": "stdout",
          "text": [
            "Date 2023-04-10 not found in news_by_date.\n"
          ]
        },
        {
          "output_type": "stream",
          "name": "stderr",
          "text": [
            "\n",
            "100%|██████████| 2/2 [00:00<00:00, 165.25it/s]\n"
          ]
        },
        {
          "output_type": "stream",
          "name": "stdout",
          "text": [
            "2023-04-11, 新興    | Ground Truth: -1, Prediction: 0\n",
            "Date 2023-04-10 not found in news_by_date.\n"
          ]
        },
        {
          "output_type": "stream",
          "name": "stderr",
          "text": [
            "\n",
            "100%|██████████| 1/1 [00:00<00:00, 205.91it/s]\n"
          ]
        },
        {
          "output_type": "stream",
          "name": "stdout",
          "text": [
            "Date 2023-04-10 not found in news_by_date.\n"
          ]
        },
        {
          "output_type": "stream",
          "name": "stderr",
          "text": [
            "\n",
            "100%|██████████| 1/1 [00:00<00:00, 180.12it/s]\n"
          ]
        },
        {
          "output_type": "stream",
          "name": "stdout",
          "text": [
            "2023-04-11, 裕民    | Ground Truth: 0, Prediction: 0\n",
            "Date 2023-04-10 not found in news_by_date.\n"
          ]
        },
        {
          "output_type": "stream",
          "name": "stderr",
          "text": [
            "\n",
            "100%|██████████| 1/1 [00:00<00:00, 117.71it/s]\n"
          ]
        },
        {
          "output_type": "stream",
          "name": "stdout",
          "text": [
            "Date 2023-04-10 not found in news_by_date.\n"
          ]
        },
        {
          "output_type": "stream",
          "name": "stderr",
          "text": [
            "\n",
            "100%|██████████| 1/1 [00:00<00:00, 117.19it/s]\n"
          ]
        },
        {
          "output_type": "stream",
          "name": "stdout",
          "text": [
            "2023-04-11, 榮運    | Ground Truth: 0, Prediction: 0\n",
            "Date 2023-04-10 not found in news_by_date.\n",
            "Date 2023-04-10 not found in news_by_date.\n"
          ]
        },
        {
          "output_type": "stream",
          "name": "stderr",
          "text": [
            "\n",
            "100%|██████████| 3/3 [00:00<00:00, 257.17it/s]"
          ]
        },
        {
          "output_type": "stream",
          "name": "stdout",
          "text": [
            "Date 2023-04-10 not found in news_by_date.\n"
          ]
        },
        {
          "output_type": "stream",
          "name": "stderr",
          "text": [
            "\n",
            "\n",
            "100%|██████████| 3/3 [00:00<00:00, 157.16it/s]\n"
          ]
        },
        {
          "output_type": "stream",
          "name": "stdout",
          "text": [
            "2023-04-11, 陽明    | Ground Truth: 0, Prediction: 0\n",
            "Date 2023-04-10 not found in news_by_date.\n",
            "Date 2023-04-10 not found in news_by_date.\n",
            "Date 2023-04-10 not found in news_by_date.\n"
          ]
        },
        {
          "output_type": "stream",
          "name": "stderr",
          "text": [
            "\n",
            "100%|██████████| 1/1 [00:00<00:00, 186.57it/s]\n"
          ]
        },
        {
          "output_type": "stream",
          "name": "stdout",
          "text": [
            "Date 2023-04-10 not found in news_by_date.\n"
          ]
        },
        {
          "output_type": "stream",
          "name": "stderr",
          "text": [
            "\n",
            "100%|██████████| 1/1 [00:00<00:00, 113.20it/s]\n"
          ]
        },
        {
          "output_type": "stream",
          "name": "stdout",
          "text": [
            "2023-04-11, 中航    | Ground Truth: 0, Prediction: 0\n",
            "Date 2023-04-10 not found in news_by_date.\n",
            "Date 2023-04-10 not found in news_by_date.\n",
            "Date 2023-04-10 not found in news_by_date.\n",
            "Date 2023-04-10 not found in news_by_date.\n",
            "Date 2023-04-10 not found in news_by_date.\n"
          ]
        },
        {
          "output_type": "stream",
          "name": "stderr",
          "text": [
            "\n",
            "100%|██████████| 1/1 [00:00<00:00, 204.92it/s]"
          ]
        },
        {
          "output_type": "stream",
          "name": "stdout",
          "text": [
            "Date 2023-04-10 not found in news_by_date.\n"
          ]
        },
        {
          "output_type": "stream",
          "name": "stderr",
          "text": [
            "\n",
            "\n",
            "100%|██████████| 1/1 [00:00<00:00, 160.27it/s]\n"
          ]
        },
        {
          "output_type": "stream",
          "name": "stdout",
          "text": [
            "2023-04-11, 亞航    | Ground Truth: 1, Prediction: 0\n",
            "Date 2023-04-10 not found in news_by_date.\n",
            "Date 2023-04-10 not found in news_by_date.\n"
          ]
        },
        {
          "output_type": "stream",
          "name": "stderr",
          "text": [
            "\n",
            "100%|██████████| 4/4 [00:00<00:00, 198.36it/s]\n"
          ]
        },
        {
          "output_type": "stream",
          "name": "stdout",
          "text": [
            "Date 2023-04-10 not found in news_by_date.\n"
          ]
        },
        {
          "output_type": "stream",
          "name": "stderr",
          "text": [
            "\n",
            "100%|██████████| 4/4 [00:00<00:00, 155.23it/s]\n"
          ]
        },
        {
          "output_type": "stream",
          "name": "stdout",
          "text": [
            "2023-04-11, 漢翔    | Ground Truth: 1, Prediction: 0\n",
            "Date 2023-04-10 not found in news_by_date.\n"
          ]
        },
        {
          "output_type": "stream",
          "name": "stderr",
          "text": [
            "\n",
            "100%|██████████| 2/2 [00:00<00:00, 216.97it/s]\n"
          ]
        },
        {
          "output_type": "stream",
          "name": "stdout",
          "text": [
            "Date 2023-04-10 not found in news_by_date.\n"
          ]
        },
        {
          "output_type": "stream",
          "name": "stderr",
          "text": [
            "\n",
            "100%|██████████| 2/2 [00:00<00:00, 230.85it/s]\n"
          ]
        },
        {
          "output_type": "stream",
          "name": "stdout",
          "text": [
            "2023-04-11, 台驊投控  | Ground Truth: 0, Prediction: 0\n",
            "Date 2023-04-10 not found in news_by_date.\n"
          ]
        },
        {
          "output_type": "stream",
          "name": "stderr",
          "text": [
            "\n",
            "100%|██████████| 3/3 [00:00<00:00, 235.45it/s]\n"
          ]
        },
        {
          "output_type": "stream",
          "name": "stdout",
          "text": [
            "Date 2023-04-10 not found in news_by_date.\n"
          ]
        },
        {
          "output_type": "stream",
          "name": "stderr",
          "text": [
            "\n",
            "100%|██████████| 3/3 [00:00<00:00, 147.76it/s]\n"
          ]
        },
        {
          "output_type": "stream",
          "name": "stdout",
          "text": [
            "2023-04-11, 慧洋-KY | Ground Truth: 0, Prediction: 0\n",
            "Date 2023-04-10 not found in news_by_date.\n",
            "Date 2023-04-10 not found in news_by_date.\n"
          ]
        },
        {
          "output_type": "stream",
          "name": "stderr",
          "text": [
            "\n",
            "100%|██████████| 1/1 [00:00<00:00, 152.64it/s]\n"
          ]
        },
        {
          "output_type": "stream",
          "name": "stdout",
          "text": [
            "Date 2023-04-10 not found in news_by_date.\n"
          ]
        },
        {
          "output_type": "stream",
          "name": "stderr",
          "text": [
            "\n",
            "100%|██████████| 1/1 [00:00<00:00, 194.81it/s]\n"
          ]
        },
        {
          "output_type": "stream",
          "name": "stdout",
          "text": [
            "2023-04-11, 遠雄港   | Ground Truth: 1, Prediction: 0\n",
            "Date 2023-04-10 not found in news_by_date.\n"
          ]
        },
        {
          "output_type": "stream",
          "name": "stderr",
          "text": [
            "\n",
            "100%|██████████| 1/1 [00:00<00:00, 229.17it/s]\n"
          ]
        },
        {
          "output_type": "stream",
          "name": "stdout",
          "text": [
            "Date 2023-04-10 not found in news_by_date.\n"
          ]
        },
        {
          "output_type": "stream",
          "name": "stderr",
          "text": [
            "\n",
            "100%|██████████| 1/1 [00:00<00:00, 249.65it/s]\n"
          ]
        },
        {
          "output_type": "stream",
          "name": "stdout",
          "text": [
            "2023-04-11, 建新國際  | Ground Truth: 0, Prediction: 0\n",
            "Date 2023-04-10 not found in news_by_date.\n"
          ]
        },
        {
          "output_type": "stream",
          "name": "stderr",
          "text": [
            "\n",
            "100%|██████████| 4/4 [00:00<00:00, 177.08it/s]\n"
          ]
        },
        {
          "output_type": "stream",
          "name": "stdout",
          "text": [
            "Date 2023-04-10 not found in news_by_date.\n"
          ]
        },
        {
          "output_type": "stream",
          "name": "stderr",
          "text": [
            "\n",
            "100%|██████████| 4/4 [00:00<00:00, 229.37it/s]\n"
          ]
        },
        {
          "output_type": "stream",
          "name": "stdout",
          "text": [
            "2023-04-12, 台船    | Ground Truth: 1, Prediction: 0\n",
            "Date 2023-04-10 not found in news_by_date.\n"
          ]
        },
        {
          "output_type": "stream",
          "name": "stderr",
          "text": [
            "\n",
            "100%|██████████| 9/9 [00:00<00:00, 255.91it/s]\n"
          ]
        },
        {
          "output_type": "stream",
          "name": "stdout",
          "text": [
            "Date 2023-04-10 not found in news_by_date.\n"
          ]
        },
        {
          "output_type": "stream",
          "name": "stderr",
          "text": [
            "\n",
            "100%|██████████| 9/9 [00:00<00:00, 227.73it/s]"
          ]
        },
        {
          "output_type": "stream",
          "name": "stdout",
          "text": [
            "2023-04-12, 長榮    | Ground Truth: 0, Prediction: 0\n"
          ]
        },
        {
          "output_type": "stream",
          "name": "stderr",
          "text": [
            "\n"
          ]
        },
        {
          "output_type": "stream",
          "name": "stdout",
          "text": [
            "Date 2023-04-10 not found in news_by_date.\n"
          ]
        },
        {
          "output_type": "stream",
          "name": "stderr",
          "text": [
            "\n",
            "100%|██████████| 3/3 [00:00<00:00, 147.16it/s]\n"
          ]
        },
        {
          "output_type": "stream",
          "name": "stdout",
          "text": [
            "Date 2023-04-10 not found in news_by_date.\n"
          ]
        },
        {
          "output_type": "stream",
          "name": "stderr",
          "text": [
            "\n",
            "100%|██████████| 3/3 [00:00<00:00, 271.00it/s]"
          ]
        },
        {
          "output_type": "stream",
          "name": "stdout",
          "text": [
            "2023-04-12, 新興    | Ground Truth: -1, Prediction: 0\n"
          ]
        },
        {
          "output_type": "stream",
          "name": "stderr",
          "text": [
            "\n"
          ]
        },
        {
          "output_type": "stream",
          "name": "stdout",
          "text": [
            "Date 2023-04-10 not found in news_by_date.\n"
          ]
        },
        {
          "output_type": "stream",
          "name": "stderr",
          "text": [
            "\n",
            "100%|██████████| 1/1 [00:00<00:00, 104.39it/s]\n"
          ]
        },
        {
          "output_type": "stream",
          "name": "stdout",
          "text": [
            "Date 2023-04-10 not found in news_by_date.\n"
          ]
        },
        {
          "output_type": "stream",
          "name": "stderr",
          "text": [
            "\n",
            "100%|██████████| 1/1 [00:00<00:00, 200.96it/s]\n"
          ]
        },
        {
          "output_type": "stream",
          "name": "stdout",
          "text": [
            "2023-04-12, 裕民    | Ground Truth: 0, Prediction: 0\n",
            "Date 2023-04-10 not found in news_by_date.\n"
          ]
        },
        {
          "output_type": "stream",
          "name": "stderr",
          "text": [
            "\n",
            "100%|██████████| 2/2 [00:00<00:00, 259.81it/s]\n"
          ]
        },
        {
          "output_type": "stream",
          "name": "stdout",
          "text": [
            "Date 2023-04-10 not found in news_by_date.\n"
          ]
        },
        {
          "output_type": "stream",
          "name": "stderr",
          "text": [
            "\n",
            "100%|██████████| 2/2 [00:00<00:00, 129.32it/s]"
          ]
        },
        {
          "output_type": "stream",
          "name": "stdout",
          "text": [
            "2023-04-12, 榮運    | Ground Truth: 0, Prediction: 0\n"
          ]
        },
        {
          "output_type": "stream",
          "name": "stderr",
          "text": [
            "\n"
          ]
        },
        {
          "output_type": "stream",
          "name": "stdout",
          "text": [
            "Date 2023-04-10 not found in news_by_date.\n"
          ]
        },
        {
          "output_type": "stream",
          "name": "stderr",
          "text": [
            "\n",
            "100%|██████████| 1/1 [00:00<00:00, 92.60it/s]\n"
          ]
        },
        {
          "output_type": "stream",
          "name": "stdout",
          "text": [
            "Date 2023-04-10 not found in news_by_date.\n"
          ]
        },
        {
          "output_type": "stream",
          "name": "stderr",
          "text": [
            "\n",
            "100%|██████████| 1/1 [00:00<00:00, 132.97it/s]\n"
          ]
        },
        {
          "output_type": "stream",
          "name": "stdout",
          "text": [
            "2023-04-12, 嘉里大榮  | Ground Truth: 0, Prediction: 0\n",
            "Date 2023-04-10 not found in news_by_date.\n"
          ]
        },
        {
          "output_type": "stream",
          "name": "stderr",
          "text": [
            "\n",
            "100%|██████████| 4/4 [00:00<00:00, 241.73it/s]\n"
          ]
        },
        {
          "output_type": "stream",
          "name": "stdout",
          "text": [
            "Date 2023-04-10 not found in news_by_date.\n"
          ]
        },
        {
          "output_type": "stream",
          "name": "stderr",
          "text": [
            "\n",
            "100%|██████████| 4/4 [00:00<00:00, 225.62it/s]\n"
          ]
        },
        {
          "output_type": "stream",
          "name": "stdout",
          "text": [
            "2023-04-12, 陽明    | Ground Truth: 0, Prediction: 0\n",
            "Date 2023-04-10 not found in news_by_date.\n"
          ]
        },
        {
          "output_type": "stream",
          "name": "stderr",
          "text": [
            "\n",
            "100%|██████████| 4/4 [00:00<00:00, 350.07it/s]\n"
          ]
        },
        {
          "output_type": "stream",
          "name": "stdout",
          "text": [
            "Date 2023-04-10 not found in news_by_date.\n"
          ]
        },
        {
          "output_type": "stream",
          "name": "stderr",
          "text": [
            "\n",
            "100%|██████████| 4/4 [00:00<00:00, 150.26it/s]"
          ]
        },
        {
          "output_type": "stream",
          "name": "stdout",
          "text": [
            "2023-04-12, 華航    | Ground Truth: 0, Prediction: 0\n"
          ]
        },
        {
          "output_type": "stream",
          "name": "stderr",
          "text": [
            "\n"
          ]
        },
        {
          "output_type": "stream",
          "name": "stdout",
          "text": [
            "Date 2023-04-10 not found in news_by_date.\n"
          ]
        },
        {
          "output_type": "stream",
          "name": "stderr",
          "text": [
            "\n",
            "100%|██████████| 1/1 [00:00<00:00, 207.09it/s]\n"
          ]
        },
        {
          "output_type": "stream",
          "name": "stdout",
          "text": [
            "Date 2023-04-10 not found in news_by_date.\n"
          ]
        },
        {
          "output_type": "stream",
          "name": "stderr",
          "text": [
            "\n",
            "100%|██████████| 1/1 [00:00<00:00, 183.71it/s]\n"
          ]
        },
        {
          "output_type": "stream",
          "name": "stdout",
          "text": [
            "2023-04-12, 志信    | Ground Truth: 0, Prediction: 0\n",
            "Date 2023-04-10 not found in news_by_date.\n"
          ]
        },
        {
          "output_type": "stream",
          "name": "stderr",
          "text": [
            "\n",
            "100%|██████████| 1/1 [00:00<00:00, 216.88it/s]\n"
          ]
        },
        {
          "output_type": "stream",
          "name": "stdout",
          "text": [
            "Date 2023-04-10 not found in news_by_date.\n"
          ]
        },
        {
          "output_type": "stream",
          "name": "stderr",
          "text": [
            "\n",
            "100%|██████████| 1/1 [00:00<00:00, 205.44it/s]\n"
          ]
        },
        {
          "output_type": "stream",
          "name": "stdout",
          "text": [
            "2023-04-12, 中航    | Ground Truth: 0, Prediction: 0\n",
            "Date 2023-04-10 not found in news_by_date.\n"
          ]
        },
        {
          "output_type": "stream",
          "name": "stderr",
          "text": [
            "\n",
            "100%|██████████| 1/1 [00:00<00:00, 200.12it/s]\n"
          ]
        },
        {
          "output_type": "stream",
          "name": "stdout",
          "text": [
            "Date 2023-04-10 not found in news_by_date.\n"
          ]
        },
        {
          "output_type": "stream",
          "name": "stderr",
          "text": [
            "\n",
            "100%|██████████| 1/1 [00:00<00:00, 219.37it/s]\n"
          ]
        },
        {
          "output_type": "stream",
          "name": "stdout",
          "text": [
            "2023-04-12, 中櫃    | Ground Truth: 0, Prediction: -1\n",
            "Date 2023-04-10 not found in news_by_date.\n"
          ]
        },
        {
          "output_type": "stream",
          "name": "stderr",
          "text": [
            "\n",
            "100%|██████████| 4/4 [00:00<00:00, 241.83it/s]\n"
          ]
        },
        {
          "output_type": "stream",
          "name": "stdout",
          "text": [
            "Date 2023-04-10 not found in news_by_date.\n"
          ]
        },
        {
          "output_type": "stream",
          "name": "stderr",
          "text": [
            "\n",
            "100%|██████████| 4/4 [00:00<00:00, 258.06it/s]\n"
          ]
        },
        {
          "output_type": "stream",
          "name": "stdout",
          "text": [
            "2023-04-12, 萬海    | Ground Truth: 0, Prediction: -1\n",
            "Date 2023-04-10 not found in news_by_date.\n"
          ]
        },
        {
          "output_type": "stream",
          "name": "stderr",
          "text": [
            "\n",
            "100%|██████████| 1/1 [00:00<00:00, 241.94it/s]\n"
          ]
        },
        {
          "output_type": "stream",
          "name": "stdout",
          "text": [
            "Date 2023-04-10 not found in news_by_date.\n"
          ]
        },
        {
          "output_type": "stream",
          "name": "stderr",
          "text": [
            "\n",
            "100%|██████████| 1/1 [00:00<00:00, 186.16it/s]\n"
          ]
        },
        {
          "output_type": "stream",
          "name": "stdout",
          "text": [
            "2023-04-12, 台航    | Ground Truth: 0, Prediction: 0\n",
            "Date 2023-04-10 not found in news_by_date.\n",
            "Date 2023-04-10 not found in news_by_date.\n"
          ]
        },
        {
          "output_type": "stream",
          "name": "stderr",
          "text": [
            "\n",
            "100%|██████████| 1/1 [00:00<00:00, 259.55it/s]\n"
          ]
        },
        {
          "output_type": "stream",
          "name": "stdout",
          "text": [
            "Date 2023-04-10 not found in news_by_date.\n"
          ]
        },
        {
          "output_type": "stream",
          "name": "stderr",
          "text": [
            "\n",
            "100%|██████████| 1/1 [00:00<00:00, 100.96it/s]"
          ]
        },
        {
          "output_type": "stream",
          "name": "stdout",
          "text": [
            "2023-04-12, 亞航    | Ground Truth: 1, Prediction: 0\n"
          ]
        },
        {
          "output_type": "stream",
          "name": "stderr",
          "text": [
            "\n"
          ]
        },
        {
          "output_type": "stream",
          "name": "stdout",
          "text": [
            "Date 2023-04-10 not found in news_by_date.\n",
            "Date 2023-04-10 not found in news_by_date.\n"
          ]
        },
        {
          "output_type": "stream",
          "name": "stderr",
          "text": [
            "\n",
            "100%|██████████| 9/9 [00:00<00:00, 342.15it/s]\n"
          ]
        },
        {
          "output_type": "stream",
          "name": "stdout",
          "text": [
            "Date 2023-04-10 not found in news_by_date.\n"
          ]
        },
        {
          "output_type": "stream",
          "name": "stderr",
          "text": [
            "\n",
            "100%|██████████| 9/9 [00:00<00:00, 318.33it/s]\n"
          ]
        },
        {
          "output_type": "stream",
          "name": "stdout",
          "text": [
            "2023-04-12, 漢翔    | Ground Truth: 1, Prediction: 0\n",
            "Date 2023-04-10 not found in news_by_date.\n"
          ]
        },
        {
          "output_type": "stream",
          "name": "stderr",
          "text": [
            "\n",
            "100%|██████████| 2/2 [00:00<00:00, 129.35it/s]\n"
          ]
        },
        {
          "output_type": "stream",
          "name": "stdout",
          "text": [
            "Date 2023-04-10 not found in news_by_date.\n"
          ]
        },
        {
          "output_type": "stream",
          "name": "stderr",
          "text": [
            "\n",
            "100%|██████████| 2/2 [00:00<00:00, 170.06it/s]\n"
          ]
        },
        {
          "output_type": "stream",
          "name": "stdout",
          "text": [
            "2023-04-12, 台驊投控  | Ground Truth: 0, Prediction: 0\n",
            "Date 2023-04-10 not found in news_by_date.\n"
          ]
        },
        {
          "output_type": "stream",
          "name": "stderr",
          "text": [
            "\n",
            "100%|██████████| 1/1 [00:00<00:00, 186.73it/s]\n"
          ]
        },
        {
          "output_type": "stream",
          "name": "stdout",
          "text": [
            "Date 2023-04-10 not found in news_by_date.\n"
          ]
        },
        {
          "output_type": "stream",
          "name": "stderr",
          "text": [
            "\n",
            "100%|██████████| 1/1 [00:00<00:00, 154.34it/s]\n"
          ]
        },
        {
          "output_type": "stream",
          "name": "stdout",
          "text": [
            "2023-04-12, 慧洋-KY | Ground Truth: -1, Prediction: 0\n",
            "Date 2023-04-10 not found in news_by_date.\n",
            "Date 2023-04-10 not found in news_by_date.\n"
          ]
        },
        {
          "output_type": "stream",
          "name": "stderr",
          "text": [
            "\n",
            "100%|██████████| 1/1 [00:00<00:00, 76.44it/s]\n"
          ]
        },
        {
          "output_type": "stream",
          "name": "stdout",
          "text": [
            "Date 2023-04-10 not found in news_by_date.\n"
          ]
        },
        {
          "output_type": "stream",
          "name": "stderr",
          "text": [
            "\n",
            "100%|██████████| 1/1 [00:00<00:00, 147.59it/s]\n"
          ]
        },
        {
          "output_type": "stream",
          "name": "stdout",
          "text": [
            "2023-04-12, 遠雄港   | Ground Truth: 1, Prediction: 0\n",
            "Date 2023-04-10 not found in news_by_date.\n"
          ]
        },
        {
          "output_type": "stream",
          "name": "stderr",
          "text": [
            "\n",
            "100%|██████████| 1/1 [00:00<00:00, 237.97it/s]\n"
          ]
        },
        {
          "output_type": "stream",
          "name": "stdout",
          "text": [
            "Date 2023-04-10 not found in news_by_date.\n"
          ]
        },
        {
          "output_type": "stream",
          "name": "stderr",
          "text": [
            "\n",
            "100%|██████████| 1/1 [00:00<00:00, 147.22it/s]\n"
          ]
        },
        {
          "output_type": "stream",
          "name": "stdout",
          "text": [
            "2023-04-12, 建新國際  | Ground Truth: 1, Prediction: 0\n"
          ]
        },
        {
          "output_type": "stream",
          "name": "stderr",
          "text": [
            "\n",
            "100%|██████████| 5/5 [00:00<00:00, 252.89it/s]\n",
            "\n",
            "100%|██████████| 5/5 [00:00<00:00, 386.07it/s]"
          ]
        },
        {
          "output_type": "stream",
          "name": "stdout",
          "text": [
            "2023-04-13, 台船    | Ground Truth: 1, Prediction: 0\n"
          ]
        },
        {
          "output_type": "stream",
          "name": "stderr",
          "text": [
            "\n",
            "\n",
            "100%|██████████| 14/14 [00:00<00:00, 450.23it/s]\n",
            "\n",
            "100%|██████████| 14/14 [00:00<00:00, 382.01it/s]\n"
          ]
        },
        {
          "output_type": "stream",
          "name": "stdout",
          "text": [
            "2023-04-13, 長榮    | Ground Truth: 0, Prediction: -1\n"
          ]
        },
        {
          "output_type": "stream",
          "name": "stderr",
          "text": [
            "\n",
            "100%|██████████| 3/3 [00:00<00:00, 155.52it/s]\n",
            "\n",
            "100%|██████████| 3/3 [00:00<00:00, 273.96it/s]\n"
          ]
        },
        {
          "output_type": "stream",
          "name": "stdout",
          "text": [
            "2023-04-13, 新興    | Ground Truth: -1, Prediction: 0\n"
          ]
        },
        {
          "output_type": "stream",
          "name": "stderr",
          "text": [
            "\n",
            "100%|██████████| 1/1 [00:00<00:00, 237.57it/s]\n",
            "\n",
            "100%|██████████| 1/1 [00:00<00:00, 238.46it/s]"
          ]
        },
        {
          "output_type": "stream",
          "name": "stdout",
          "text": [
            "2023-04-13, 裕民    | Ground Truth: 0, Prediction: 0\n"
          ]
        },
        {
          "output_type": "stream",
          "name": "stderr",
          "text": [
            "\n",
            "\n",
            "100%|██████████| 2/2 [00:00<00:00, 329.78it/s]\n",
            "\n",
            "100%|██████████| 2/2 [00:00<00:00, 153.81it/s]"
          ]
        },
        {
          "output_type": "stream",
          "name": "stdout",
          "text": [
            "2023-04-13, 榮運    | Ground Truth: 0, Prediction: 0\n"
          ]
        },
        {
          "output_type": "stream",
          "name": "stderr",
          "text": [
            "\n",
            "\n",
            "100%|██████████| 1/1 [00:00<00:00, 209.60it/s]\n",
            "\n",
            "100%|██████████| 1/1 [00:00<00:00, 152.19it/s]\n"
          ]
        },
        {
          "output_type": "stream",
          "name": "stdout",
          "text": [
            "2023-04-13, 嘉里大榮  | Ground Truth: 0, Prediction: 0\n"
          ]
        },
        {
          "output_type": "stream",
          "name": "stderr",
          "text": [
            "\n",
            "100%|██████████| 6/6 [00:00<00:00, 286.81it/s]\n",
            "\n",
            "100%|██████████| 6/6 [00:00<00:00, 383.20it/s]\n"
          ]
        },
        {
          "output_type": "stream",
          "name": "stdout",
          "text": [
            "2023-04-13, 陽明    | Ground Truth: 0, Prediction: 0\n"
          ]
        },
        {
          "output_type": "stream",
          "name": "stderr",
          "text": [
            "\n",
            "100%|██████████| 6/6 [00:00<00:00, 162.61it/s]\n",
            "\n",
            "100%|██████████| 6/6 [00:00<00:00, 364.92it/s]\n"
          ]
        },
        {
          "output_type": "stream",
          "name": "stdout",
          "text": [
            "2023-04-13, 華航    | Ground Truth: 0, Prediction: -1\n"
          ]
        },
        {
          "output_type": "stream",
          "name": "stderr",
          "text": [
            "\n",
            "100%|██████████| 1/1 [00:00<00:00, 137.45it/s]\n",
            "\n",
            "100%|██████████| 1/1 [00:00<00:00, 206.53it/s]\n"
          ]
        },
        {
          "output_type": "stream",
          "name": "stdout",
          "text": [
            "2023-04-13, 志信    | Ground Truth: 0, Prediction: 0\n"
          ]
        },
        {
          "output_type": "stream",
          "name": "stderr",
          "text": [
            "\n",
            "100%|██████████| 1/1 [00:00<00:00, 159.53it/s]\n",
            "\n",
            "100%|██████████| 1/1 [00:00<00:00, 177.73it/s]"
          ]
        },
        {
          "output_type": "stream",
          "name": "stdout",
          "text": [
            "2023-04-13, 中航    | Ground Truth: 0, Prediction: 0\n"
          ]
        },
        {
          "output_type": "stream",
          "name": "stderr",
          "text": [
            "\n",
            "\n",
            "100%|██████████| 1/1 [00:00<00:00, 215.52it/s]\n",
            "\n",
            "100%|██████████| 1/1 [00:00<00:00, 226.19it/s]"
          ]
        },
        {
          "output_type": "stream",
          "name": "stdout",
          "text": [
            "2023-04-13, 中櫃    | Ground Truth: 0, Prediction: -1\n"
          ]
        },
        {
          "output_type": "stream",
          "name": "stderr",
          "text": [
            "\n",
            "\n",
            "100%|██████████| 4/4 [00:00<00:00, 377.89it/s]\n",
            "\n",
            "100%|██████████| 4/4 [00:00<00:00, 318.21it/s]"
          ]
        },
        {
          "output_type": "stream",
          "name": "stdout",
          "text": [
            "2023-04-13, 萬海    | Ground Truth: 0, Prediction: -1\n"
          ]
        },
        {
          "output_type": "stream",
          "name": "stderr",
          "text": [
            "\n",
            "\n",
            "100%|██████████| 1/1 [00:00<00:00, 181.59it/s]\n",
            "\n",
            "100%|██████████| 1/1 [00:00<00:00, 147.59it/s]\n"
          ]
        },
        {
          "output_type": "stream",
          "name": "stdout",
          "text": [
            "2023-04-13, 台航    | Ground Truth: 0, Prediction: 0\n"
          ]
        },
        {
          "output_type": "stream",
          "name": "stderr",
          "text": [
            "\n",
            "100%|██████████| 1/1 [00:00<00:00, 229.71it/s]\n",
            "\n",
            "100%|██████████| 1/1 [00:00<00:00, 201.66it/s]\n"
          ]
        },
        {
          "output_type": "stream",
          "name": "stdout",
          "text": [
            "2023-04-13, 亞航    | Ground Truth: 1, Prediction: 0\n"
          ]
        },
        {
          "output_type": "stream",
          "name": "stderr",
          "text": [
            "\n",
            "100%|██████████| 16/16 [00:00<00:00, 228.23it/s]\n",
            "\n",
            "100%|██████████| 16/16 [00:00<00:00, 239.35it/s]\n"
          ]
        },
        {
          "output_type": "stream",
          "name": "stdout",
          "text": [
            "2023-04-13, 漢翔    | Ground Truth: 1, Prediction: -1\n"
          ]
        },
        {
          "output_type": "stream",
          "name": "stderr",
          "text": [
            "\n",
            "100%|██████████| 2/2 [00:00<00:00, 197.57it/s]\n",
            "\n",
            "100%|██████████| 2/2 [00:00<00:00, 203.70it/s]\n"
          ]
        },
        {
          "output_type": "stream",
          "name": "stdout",
          "text": [
            "2023-04-13, 台驊投控  | Ground Truth: 0, Prediction: 0\n"
          ]
        },
        {
          "output_type": "stream",
          "name": "stderr",
          "text": [
            "\n",
            "100%|██████████| 2/2 [00:00<00:00, 120.82it/s]\n",
            "\n",
            "100%|██████████| 2/2 [00:00<00:00, 135.00it/s]\n"
          ]
        },
        {
          "output_type": "stream",
          "name": "stdout",
          "text": [
            "2023-04-13, 慧洋-KY | Ground Truth: -1, Prediction: -1\n"
          ]
        },
        {
          "output_type": "stream",
          "name": "stderr",
          "text": [
            "\n",
            "100%|██████████| 1/1 [00:00<00:00, 186.77it/s]\n",
            "\n",
            "100%|██████████| 1/1 [00:00<00:00, 113.11it/s]\n"
          ]
        },
        {
          "output_type": "stream",
          "name": "stdout",
          "text": [
            "2023-04-13, 遠雄港   | Ground Truth: 1, Prediction: 0\n"
          ]
        },
        {
          "output_type": "stream",
          "name": "stderr",
          "text": [
            "\n",
            "100%|██████████| 1/1 [00:00<00:00, 213.45it/s]\n",
            "\n",
            "100%|██████████| 1/1 [00:00<00:00, 234.88it/s]\n"
          ]
        },
        {
          "output_type": "stream",
          "name": "stdout",
          "text": [
            "2023-04-13, 建新國際  | Ground Truth: 0, Prediction: 0\n"
          ]
        },
        {
          "output_type": "stream",
          "name": "stderr",
          "text": [
            "\n",
            "100%|██████████| 3/3 [00:00<00:00, 136.04it/s]\n",
            "\n",
            "100%|██████████| 3/3 [00:00<00:00, 184.03it/s]\n"
          ]
        },
        {
          "output_type": "stream",
          "name": "stdout",
          "text": [
            "2023-04-14, 台船    | Ground Truth: -1, Prediction: 0\n"
          ]
        },
        {
          "output_type": "stream",
          "name": "stderr",
          "text": [
            "\n",
            "100%|██████████| 18/18 [00:00<00:00, 265.13it/s]\n",
            "\n",
            "100%|██████████| 18/18 [00:00<00:00, 206.01it/s]\n"
          ]
        },
        {
          "output_type": "stream",
          "name": "stdout",
          "text": [
            "2023-04-14, 長榮    | Ground Truth: 0, Prediction: -1\n"
          ]
        },
        {
          "output_type": "stream",
          "name": "stderr",
          "text": [
            "\n",
            "100%|██████████| 1/1 [00:00<00:00, 113.74it/s]\n",
            "\n",
            "100%|██████████| 1/1 [00:00<00:00, 202.25it/s]\n"
          ]
        },
        {
          "output_type": "stream",
          "name": "stdout",
          "text": [
            "2023-04-14, 新興    | Ground Truth: -1, Prediction: 0\n"
          ]
        },
        {
          "output_type": "stream",
          "name": "stderr",
          "text": [
            "\n",
            "100%|██████████| 2/2 [00:00<00:00, 202.94it/s]\n",
            "\n",
            "100%|██████████| 2/2 [00:00<00:00, 130.42it/s]\n"
          ]
        },
        {
          "output_type": "stream",
          "name": "stdout",
          "text": [
            "2023-04-14, 榮運    | Ground Truth: -1, Prediction: 0\n"
          ]
        },
        {
          "output_type": "stream",
          "name": "stderr",
          "text": [
            "\n",
            "100%|██████████| 1/1 [00:00<00:00, 130.50it/s]\n",
            "\n",
            "100%|██████████| 1/1 [00:00<00:00, 115.21it/s]\n"
          ]
        },
        {
          "output_type": "stream",
          "name": "stdout",
          "text": [
            "2023-04-14, 嘉里大榮  | Ground Truth: 0, Prediction: 0\n"
          ]
        },
        {
          "output_type": "stream",
          "name": "stderr",
          "text": [
            "\n",
            "100%|██████████| 5/5 [00:00<00:00, 183.65it/s]\n",
            "\n",
            "100%|██████████| 5/5 [00:00<00:00, 230.00it/s]\n"
          ]
        },
        {
          "output_type": "stream",
          "name": "stdout",
          "text": [
            "2023-04-14, 陽明    | Ground Truth: 0, Prediction: 0\n"
          ]
        },
        {
          "output_type": "stream",
          "name": "stderr",
          "text": [
            "\n",
            "100%|██████████| 8/8 [00:00<00:00, 189.56it/s]\n",
            "\n",
            "100%|██████████| 8/8 [00:00<00:00, 266.66it/s]\n"
          ]
        },
        {
          "output_type": "stream",
          "name": "stdout",
          "text": [
            "2023-04-14, 華航    | Ground Truth: -1, Prediction: -1\n"
          ]
        },
        {
          "output_type": "stream",
          "name": "stderr",
          "text": [
            "\n",
            "100%|██████████| 1/1 [00:00<00:00, 241.70it/s]\n",
            "\n",
            "100%|██████████| 1/1 [00:00<00:00, 232.78it/s]\n"
          ]
        },
        {
          "output_type": "stream",
          "name": "stdout",
          "text": [
            "2023-04-14, 志信    | Ground Truth: -1, Prediction: 0\n"
          ]
        },
        {
          "output_type": "stream",
          "name": "stderr",
          "text": [
            "\n",
            "100%|██████████| 1/1 [00:00<00:00, 199.64it/s]\n",
            "\n",
            "100%|██████████| 1/1 [00:00<00:00, 235.49it/s]\n"
          ]
        },
        {
          "output_type": "stream",
          "name": "stdout",
          "text": [
            "2023-04-14, 中櫃    | Ground Truth: 0, Prediction: -1\n"
          ]
        },
        {
          "output_type": "stream",
          "name": "stderr",
          "text": [
            "\n",
            "100%|██████████| 4/4 [00:00<00:00, 193.39it/s]\n",
            "\n",
            "100%|██████████| 4/4 [00:00<00:00, 244.22it/s]\n"
          ]
        },
        {
          "output_type": "stream",
          "name": "stdout",
          "text": [
            "2023-04-14, 萬海    | Ground Truth: -1, Prediction: -1\n"
          ]
        },
        {
          "output_type": "stream",
          "name": "stderr",
          "text": [
            "\n",
            "100%|██████████| 1/1 [00:00<00:00, 190.30it/s]\n",
            "\n",
            "100%|██████████| 1/1 [00:00<00:00, 246.96it/s]\n"
          ]
        },
        {
          "output_type": "stream",
          "name": "stdout",
          "text": [
            "2023-04-14, 台航    | Ground Truth: -1, Prediction: 0\n"
          ]
        },
        {
          "output_type": "stream",
          "name": "stderr",
          "text": [
            "\n",
            "100%|██████████| 19/19 [00:00<00:00, 409.15it/s]\n",
            "\n",
            "100%|██████████| 19/19 [00:00<00:00, 368.93it/s]\n"
          ]
        },
        {
          "output_type": "stream",
          "name": "stdout",
          "text": [
            "2023-04-14, 漢翔    | Ground Truth: 0, Prediction: -1\n"
          ]
        },
        {
          "output_type": "stream",
          "name": "stderr",
          "text": [
            "\n",
            "100%|██████████| 3/3 [00:00<00:00, 180.05it/s]\n",
            "\n",
            "100%|██████████| 3/3 [00:00<00:00, 288.69it/s]"
          ]
        },
        {
          "output_type": "stream",
          "name": "stdout",
          "text": [
            "2023-04-14, 慧洋-KY | Ground Truth: -1, Prediction: -1\n"
          ]
        },
        {
          "output_type": "stream",
          "name": "stderr",
          "text": [
            "\n",
            "\n",
            "100%|██████████| 4/4 [00:00<00:00, 335.60it/s]\n",
            "\n",
            "100%|██████████| 4/4 [00:00<00:00, 280.31it/s]\n"
          ]
        },
        {
          "output_type": "stream",
          "name": "stdout",
          "text": [
            "2023-04-17, 台船    | Ground Truth: 0, Prediction: -1\n"
          ]
        },
        {
          "output_type": "stream",
          "name": "stderr",
          "text": [
            "\n",
            "100%|██████████| 16/16 [00:00<00:00, 342.90it/s]\n",
            "\n",
            "100%|██████████| 16/16 [00:00<00:00, 396.33it/s]\n"
          ]
        },
        {
          "output_type": "stream",
          "name": "stdout",
          "text": [
            "2023-04-17, 長榮    | Ground Truth: -1, Prediction: -1\n"
          ]
        },
        {
          "output_type": "stream",
          "name": "stderr",
          "text": [
            "\n",
            "100%|██████████| 3/3 [00:00<00:00, 208.36it/s]\n",
            "\n",
            "100%|██████████| 3/3 [00:00<00:00, 273.21it/s]"
          ]
        },
        {
          "output_type": "stream",
          "name": "stdout",
          "text": [
            "2023-04-17, 新興    | Ground Truth: -1, Prediction: -1\n"
          ]
        },
        {
          "output_type": "stream",
          "name": "stderr",
          "text": [
            "\n",
            "\n",
            "100%|██████████| 1/1 [00:00<00:00, 140.49it/s]\n",
            "\n",
            "100%|██████████| 1/1 [00:00<00:00, 201.91it/s]\n"
          ]
        },
        {
          "output_type": "stream",
          "name": "stdout",
          "text": [
            "2023-04-17, 榮運    | Ground Truth: -1, Prediction: 0\n"
          ]
        },
        {
          "output_type": "stream",
          "name": "stderr",
          "text": [
            "\n",
            "100%|██████████| 4/4 [00:00<00:00, 210.38it/s]\n",
            "\n",
            "100%|██████████| 4/4 [00:00<00:00, 385.84it/s]\n"
          ]
        },
        {
          "output_type": "stream",
          "name": "stdout",
          "text": [
            "2023-04-17, 陽明    | Ground Truth: -1, Prediction: 0\n"
          ]
        },
        {
          "output_type": "stream",
          "name": "stderr",
          "text": [
            "\n",
            "100%|██████████| 4/4 [00:00<00:00, 193.78it/s]\n",
            "\n",
            "100%|██████████| 4/4 [00:00<00:00, 277.58it/s]\n"
          ]
        },
        {
          "output_type": "stream",
          "name": "stdout",
          "text": [
            "2023-04-17, 華航    | Ground Truth: 0, Prediction: -1\n"
          ]
        },
        {
          "output_type": "stream",
          "name": "stderr",
          "text": [
            "\n",
            "100%|██████████| 1/1 [00:00<00:00, 86.57it/s]\n",
            "\n",
            "100%|██████████| 1/1 [00:00<00:00, 200.79it/s]\n"
          ]
        },
        {
          "output_type": "stream",
          "name": "stdout",
          "text": [
            "2023-04-17, 亞航    | Ground Truth: 0, Prediction: 0\n"
          ]
        },
        {
          "output_type": "stream",
          "name": "stderr",
          "text": [
            "\n",
            "100%|██████████| 16/16 [00:00<00:00, 282.75it/s]\n",
            "\n",
            "100%|██████████| 16/16 [00:00<00:00, 376.20it/s]\n"
          ]
        },
        {
          "output_type": "stream",
          "name": "stdout",
          "text": [
            "2023-04-17, 漢翔    | Ground Truth: 1, Prediction: -1\n"
          ]
        },
        {
          "output_type": "stream",
          "name": "stderr",
          "text": [
            "\n",
            "100%|██████████| 3/3 [00:00<00:00, 246.00it/s]\n",
            "\n",
            "100%|██████████| 3/3 [00:00<00:00, 222.17it/s]\n"
          ]
        },
        {
          "output_type": "stream",
          "name": "stdout",
          "text": [
            "2023-04-17, 慧洋-KY | Ground Truth: -1, Prediction: -1\n",
            "Date 2023-04-18 not found in news_by_date.\n"
          ]
        },
        {
          "output_type": "stream",
          "name": "stderr",
          "text": [
            "\n",
            "100%|██████████| 3/3 [00:00<00:00, 199.22it/s]\n"
          ]
        },
        {
          "output_type": "stream",
          "name": "stdout",
          "text": [
            "Date 2023-04-18 not found in news_by_date.\n"
          ]
        },
        {
          "output_type": "stream",
          "name": "stderr",
          "text": [
            "\n",
            "100%|██████████| 3/3 [00:00<00:00, 202.13it/s]\n"
          ]
        },
        {
          "output_type": "stream",
          "name": "stdout",
          "text": [
            "2023-04-18, 台船    | Ground Truth: -1, Prediction: -1\n",
            "Date 2023-04-18 not found in news_by_date.\n"
          ]
        },
        {
          "output_type": "stream",
          "name": "stderr",
          "text": [
            "\n",
            "100%|██████████| 11/11 [00:00<00:00, 301.69it/s]\n"
          ]
        },
        {
          "output_type": "stream",
          "name": "stdout",
          "text": [
            "Date 2023-04-18 not found in news_by_date.\n"
          ]
        },
        {
          "output_type": "stream",
          "name": "stderr",
          "text": [
            "\n",
            "100%|██████████| 11/11 [00:00<00:00, 370.45it/s]"
          ]
        },
        {
          "output_type": "stream",
          "name": "stdout",
          "text": [
            "2023-04-18, 長榮    | Ground Truth: -1, Prediction: 0\n",
            "Date 2023-04-18 not found in news_by_date.\n"
          ]
        },
        {
          "output_type": "stream",
          "name": "stderr",
          "text": [
            "\n",
            "\n",
            "100%|██████████| 3/3 [00:00<00:00, 199.43it/s]\n"
          ]
        },
        {
          "output_type": "stream",
          "name": "stdout",
          "text": [
            "Date 2023-04-18 not found in news_by_date.\n"
          ]
        },
        {
          "output_type": "stream",
          "name": "stderr",
          "text": [
            "\n",
            "100%|██████████| 3/3 [00:00<00:00, 181.98it/s]\n"
          ]
        },
        {
          "output_type": "stream",
          "name": "stdout",
          "text": [
            "2023-04-18, 新興    | Ground Truth: -1, Prediction: -1\n",
            "Date 2023-04-18 not found in news_by_date.\n",
            "Date 2023-04-18 not found in news_by_date.\n"
          ]
        },
        {
          "output_type": "stream",
          "name": "stderr",
          "text": [
            "\n",
            "100%|██████████| 1/1 [00:00<00:00, 169.10it/s]\n"
          ]
        },
        {
          "output_type": "stream",
          "name": "stdout",
          "text": [
            "Date 2023-04-18 not found in news_by_date.\n"
          ]
        },
        {
          "output_type": "stream",
          "name": "stderr",
          "text": [
            "\n",
            "100%|██████████| 1/1 [00:00<00:00, 232.81it/s]\n"
          ]
        },
        {
          "output_type": "stream",
          "name": "stdout",
          "text": [
            "2023-04-18, 榮運    | Ground Truth: -1, Prediction: 0\n",
            "Date 2023-04-18 not found in news_by_date.\n",
            "Date 2023-04-18 not found in news_by_date.\n"
          ]
        },
        {
          "output_type": "stream",
          "name": "stderr",
          "text": [
            "\n",
            "100%|██████████| 2/2 [00:00<00:00, 222.99it/s]\n"
          ]
        },
        {
          "output_type": "stream",
          "name": "stdout",
          "text": [
            "Date 2023-04-18 not found in news_by_date.\n"
          ]
        },
        {
          "output_type": "stream",
          "name": "stderr",
          "text": [
            "\n",
            "100%|██████████| 2/2 [00:00<00:00, 150.84it/s]\n"
          ]
        },
        {
          "output_type": "stream",
          "name": "stdout",
          "text": [
            "2023-04-18, 陽明    | Ground Truth: -1, Prediction: 0\n",
            "Date 2023-04-18 not found in news_by_date.\n"
          ]
        },
        {
          "output_type": "stream",
          "name": "stderr",
          "text": [
            "\n",
            "100%|██████████| 2/2 [00:00<00:00, 188.02it/s]\n"
          ]
        },
        {
          "output_type": "stream",
          "name": "stdout",
          "text": [
            "Date 2023-04-18 not found in news_by_date.\n"
          ]
        },
        {
          "output_type": "stream",
          "name": "stderr",
          "text": [
            "\n",
            "100%|██████████| 2/2 [00:00<00:00, 300.73it/s]\n"
          ]
        },
        {
          "output_type": "stream",
          "name": "stdout",
          "text": [
            "2023-04-18, 華航    | Ground Truth: -1, Prediction: 0\n",
            "Date 2023-04-18 not found in news_by_date.\n",
            "Date 2023-04-18 not found in news_by_date.\n",
            "Date 2023-04-18 not found in news_by_date.\n",
            "Date 2023-04-18 not found in news_by_date.\n",
            "Date 2023-04-18 not found in news_by_date.\n",
            "Date 2023-04-18 not found in news_by_date.\n",
            "Date 2023-04-18 not found in news_by_date.\n"
          ]
        },
        {
          "output_type": "stream",
          "name": "stderr",
          "text": [
            "\n",
            "100%|██████████| 1/1 [00:00<00:00, 131.56it/s]\n"
          ]
        },
        {
          "output_type": "stream",
          "name": "stdout",
          "text": [
            "Date 2023-04-18 not found in news_by_date.\n"
          ]
        },
        {
          "output_type": "stream",
          "name": "stderr",
          "text": [
            "\n",
            "100%|██████████| 1/1 [00:00<00:00, 208.88it/s]\n"
          ]
        },
        {
          "output_type": "stream",
          "name": "stdout",
          "text": [
            "2023-04-18, 亞航    | Ground Truth: -1, Prediction: 0\n",
            "Date 2023-04-18 not found in news_by_date.\n",
            "Date 2023-04-18 not found in news_by_date.\n"
          ]
        },
        {
          "output_type": "stream",
          "name": "stderr",
          "text": [
            "\n",
            "100%|██████████| 9/9 [00:00<00:00, 246.06it/s]\n"
          ]
        },
        {
          "output_type": "stream",
          "name": "stdout",
          "text": [
            "Date 2023-04-18 not found in news_by_date.\n"
          ]
        },
        {
          "output_type": "stream",
          "name": "stderr",
          "text": [
            "\n",
            "100%|██████████| 9/9 [00:00<00:00, 206.68it/s]\n"
          ]
        },
        {
          "output_type": "stream",
          "name": "stdout",
          "text": [
            "2023-04-18, 漢翔    | Ground Truth: 0, Prediction: -1\n",
            "Date 2023-04-18 not found in news_by_date.\n",
            "Date 2023-04-18 not found in news_by_date.\n"
          ]
        },
        {
          "output_type": "stream",
          "name": "stderr",
          "text": [
            "\n",
            "100%|██████████| 2/2 [00:00<00:00, 154.18it/s]\n"
          ]
        },
        {
          "output_type": "stream",
          "name": "stdout",
          "text": [
            "Date 2023-04-18 not found in news_by_date.\n"
          ]
        },
        {
          "output_type": "stream",
          "name": "stderr",
          "text": [
            "\n",
            "100%|██████████| 2/2 [00:00<00:00, 128.28it/s]"
          ]
        },
        {
          "output_type": "stream",
          "name": "stdout",
          "text": [
            "2023-04-18, 慧洋-KY | Ground Truth: -1, Prediction: 0\n",
            "Date 2023-04-18 not found in news_by_date.\n",
            "Date 2023-04-18 not found in news_by_date."
          ]
        },
        {
          "output_type": "stream",
          "name": "stderr",
          "text": [
            "\n"
          ]
        },
        {
          "output_type": "stream",
          "name": "stdout",
          "text": [
            "\n",
            "Date 2023-04-18 not found in news_by_date.\n",
            "Date 2023-04-18 not found in news_by_date.\n"
          ]
        },
        {
          "output_type": "stream",
          "name": "stderr",
          "text": [
            "\n",
            "100%|██████████| 3/3 [00:00<00:00, 124.27it/s]\n"
          ]
        },
        {
          "output_type": "stream",
          "name": "stdout",
          "text": [
            "Date 2023-04-18 not found in news_by_date.\n"
          ]
        },
        {
          "output_type": "stream",
          "name": "stderr",
          "text": [
            "\n",
            "100%|██████████| 3/3 [00:00<00:00, 148.97it/s]\n"
          ]
        },
        {
          "output_type": "stream",
          "name": "stdout",
          "text": [
            "2023-04-19, 台船    | Ground Truth: -1, Prediction: -1\n",
            "Date 2023-04-18 not found in news_by_date.\n"
          ]
        },
        {
          "output_type": "stream",
          "name": "stderr",
          "text": [
            "\n",
            "100%|██████████| 7/7 [00:00<00:00, 220.08it/s]\n"
          ]
        },
        {
          "output_type": "stream",
          "name": "stdout",
          "text": [
            "Date 2023-04-18 not found in news_by_date.\n"
          ]
        },
        {
          "output_type": "stream",
          "name": "stderr",
          "text": [
            "\n",
            "100%|██████████| 7/7 [00:00<00:00, 264.16it/s]\n"
          ]
        },
        {
          "output_type": "stream",
          "name": "stdout",
          "text": [
            "2023-04-19, 長榮    | Ground Truth: -1, Prediction: 0\n",
            "Date 2023-04-18 not found in news_by_date.\n"
          ]
        },
        {
          "output_type": "stream",
          "name": "stderr",
          "text": [
            "\n",
            "100%|██████████| 4/4 [00:00<00:00, 207.58it/s]\n"
          ]
        },
        {
          "output_type": "stream",
          "name": "stdout",
          "text": [
            "Date 2023-04-18 not found in news_by_date.\n"
          ]
        },
        {
          "output_type": "stream",
          "name": "stderr",
          "text": [
            "\n",
            "100%|██████████| 4/4 [00:00<00:00, 185.38it/s]\n"
          ]
        },
        {
          "output_type": "stream",
          "name": "stdout",
          "text": [
            "2023-04-19, 新興    | Ground Truth: -1, Prediction: -1\n",
            "Date 2023-04-18 not found in news_by_date.\n"
          ]
        },
        {
          "output_type": "stream",
          "name": "stderr",
          "text": [
            "\n",
            "100%|██████████| 2/2 [00:00<00:00, 201.93it/s]\n"
          ]
        },
        {
          "output_type": "stream",
          "name": "stdout",
          "text": [
            "Date 2023-04-18 not found in news_by_date.\n"
          ]
        },
        {
          "output_type": "stream",
          "name": "stderr",
          "text": [
            "\n",
            "100%|██████████| 2/2 [00:00<00:00, 209.09it/s]\n"
          ]
        },
        {
          "output_type": "stream",
          "name": "stdout",
          "text": [
            "2023-04-19, 裕民    | Ground Truth: -1, Prediction: -1\n",
            "Date 2023-04-18 not found in news_by_date.\n",
            "Date 2023-04-18 not found in news_by_date.\n",
            "Date 2023-04-18 not found in news_by_date.\n"
          ]
        },
        {
          "output_type": "stream",
          "name": "stderr",
          "text": [
            "\n",
            "100%|██████████| 2/2 [00:00<00:00, 142.87it/s]\n"
          ]
        },
        {
          "output_type": "stream",
          "name": "stdout",
          "text": [
            "Date 2023-04-18 not found in news_by_date.\n"
          ]
        },
        {
          "output_type": "stream",
          "name": "stderr",
          "text": [
            "\n",
            "100%|██████████| 2/2 [00:00<00:00, 129.36it/s]\n"
          ]
        },
        {
          "output_type": "stream",
          "name": "stdout",
          "text": [
            "2023-04-19, 陽明    | Ground Truth: -1, Prediction: 0\n",
            "Date 2023-04-18 not found in news_by_date.\n"
          ]
        },
        {
          "output_type": "stream",
          "name": "stderr",
          "text": [
            "\n",
            "100%|██████████| 2/2 [00:00<00:00, 132.49it/s]"
          ]
        },
        {
          "output_type": "stream",
          "name": "stdout",
          "text": [
            "Date 2023-04-18 not found in news_by_date.\n"
          ]
        },
        {
          "output_type": "stream",
          "name": "stderr",
          "text": [
            "\n",
            "\n",
            "100%|██████████| 2/2 [00:00<00:00, 123.77it/s]"
          ]
        },
        {
          "output_type": "stream",
          "name": "stdout",
          "text": [
            "2023-04-19, 華航    | Ground Truth: -1, Prediction: 0\n"
          ]
        },
        {
          "output_type": "stream",
          "name": "stderr",
          "text": [
            "\n"
          ]
        },
        {
          "output_type": "stream",
          "name": "stdout",
          "text": [
            "Date 2023-04-18 not found in news_by_date.\n",
            "Date 2023-04-18 not found in news_by_date.\n",
            "Date 2023-04-18 not found in news_by_date.\n",
            "Date 2023-04-18 not found in news_by_date.\n"
          ]
        },
        {
          "output_type": "stream",
          "name": "stderr",
          "text": [
            "\n",
            "100%|██████████| 1/1 [00:00<00:00, 117.25it/s]\n"
          ]
        },
        {
          "output_type": "stream",
          "name": "stdout",
          "text": [
            "Date 2023-04-18 not found in news_by_date.\n"
          ]
        },
        {
          "output_type": "stream",
          "name": "stderr",
          "text": [
            "\n",
            "100%|██████████| 1/1 [00:00<00:00, 162.10it/s]\n"
          ]
        },
        {
          "output_type": "stream",
          "name": "stdout",
          "text": [
            "2023-04-19, 萬海    | Ground Truth: -1, Prediction: 0\n",
            "Date 2023-04-18 not found in news_by_date.\n",
            "Date 2023-04-18 not found in news_by_date.\n",
            "Date 2023-04-18 not found in news_by_date.\n"
          ]
        },
        {
          "output_type": "stream",
          "name": "stderr",
          "text": [
            "\n",
            "100%|██████████| 1/1 [00:00<00:00, 194.28it/s]\n"
          ]
        },
        {
          "output_type": "stream",
          "name": "stdout",
          "text": [
            "Date 2023-04-18 not found in news_by_date.\n"
          ]
        },
        {
          "output_type": "stream",
          "name": "stderr",
          "text": [
            "\n",
            "100%|██████████| 1/1 [00:00<00:00, 135.49it/s]\n"
          ]
        },
        {
          "output_type": "stream",
          "name": "stdout",
          "text": [
            "2023-04-19, 亞航    | Ground Truth: -1, Prediction: 0\n",
            "Date 2023-04-18 not found in news_by_date.\n",
            "Date 2023-04-18 not found in news_by_date.\n"
          ]
        },
        {
          "output_type": "stream",
          "name": "stderr",
          "text": [
            "\n",
            "100%|██████████| 5/5 [00:00<00:00, 220.55it/s]\n"
          ]
        },
        {
          "output_type": "stream",
          "name": "stdout",
          "text": [
            "Date 2023-04-18 not found in news_by_date.\n"
          ]
        },
        {
          "output_type": "stream",
          "name": "stderr",
          "text": [
            "\n",
            "100%|██████████| 5/5 [00:00<00:00, 175.63it/s]"
          ]
        },
        {
          "output_type": "stream",
          "name": "stdout",
          "text": [
            "2023-04-19, 漢翔    | Ground Truth: 0, Prediction: -1\n"
          ]
        },
        {
          "output_type": "stream",
          "name": "stderr",
          "text": [
            "\n"
          ]
        },
        {
          "output_type": "stream",
          "name": "stdout",
          "text": [
            "Date 2023-04-18 not found in news_by_date.\n",
            "Date 2023-04-18 not found in news_by_date.\n",
            "Date 2023-04-18 not found in news_by_date.\n",
            "Date 2023-04-18 not found in news_by_date.\n",
            "Date 2023-04-18 not found in news_by_date.\n",
            "Date 2023-04-20 not found in news_by_date.\n",
            "Date 2023-04-18 not found in news_by_date.\n"
          ]
        },
        {
          "output_type": "stream",
          "name": "stderr",
          "text": [
            "\n",
            "100%|██████████| 1/1 [00:00<00:00, 89.37it/s]\n"
          ]
        },
        {
          "output_type": "stream",
          "name": "stdout",
          "text": [
            "Date 2023-04-20 not found in news_by_date.\n",
            "Date 2023-04-18 not found in news_by_date.\n"
          ]
        },
        {
          "output_type": "stream",
          "name": "stderr",
          "text": [
            "\n",
            "100%|██████████| 1/1 [00:00<00:00, 115.15it/s]\n"
          ]
        },
        {
          "output_type": "stream",
          "name": "stdout",
          "text": [
            "2023-04-20, 台船    | Ground Truth: 0, Prediction: -1\n",
            "Date 2023-04-20 not found in news_by_date.\n",
            "Date 2023-04-18 not found in news_by_date.\n"
          ]
        },
        {
          "output_type": "stream",
          "name": "stderr",
          "text": [
            "\n",
            "100%|██████████| 3/3 [00:00<00:00, 156.03it/s]\n"
          ]
        },
        {
          "output_type": "stream",
          "name": "stdout",
          "text": [
            "Date 2023-04-20 not found in news_by_date.\n",
            "Date 2023-04-18 not found in news_by_date.\n"
          ]
        },
        {
          "output_type": "stream",
          "name": "stderr",
          "text": [
            "\n",
            "100%|██████████| 3/3 [00:00<00:00, 182.29it/s]\n"
          ]
        },
        {
          "output_type": "stream",
          "name": "stdout",
          "text": [
            "2023-04-20, 長榮    | Ground Truth: -1, Prediction: 0\n",
            "Date 2023-04-20 not found in news_by_date.\n",
            "Date 2023-04-18 not found in news_by_date.\n"
          ]
        },
        {
          "output_type": "stream",
          "name": "stderr",
          "text": [
            "\n",
            "100%|██████████| 1/1 [00:00<00:00, 170.23it/s]\n"
          ]
        },
        {
          "output_type": "stream",
          "name": "stdout",
          "text": [
            "Date 2023-04-20 not found in news_by_date.\n",
            "Date 2023-04-18 not found in news_by_date.\n"
          ]
        },
        {
          "output_type": "stream",
          "name": "stderr",
          "text": [
            "\n",
            "100%|██████████| 1/1 [00:00<00:00, 219.30it/s]\n"
          ]
        },
        {
          "output_type": "stream",
          "name": "stdout",
          "text": [
            "2023-04-20, 新興    | Ground Truth: -1, Prediction: 0\n",
            "Date 2023-04-20 not found in news_by_date.\n",
            "Date 2023-04-18 not found in news_by_date.\n"
          ]
        },
        {
          "output_type": "stream",
          "name": "stderr",
          "text": [
            "\n",
            "100%|██████████| 2/2 [00:00<00:00, 190.18it/s]\n"
          ]
        },
        {
          "output_type": "stream",
          "name": "stdout",
          "text": [
            "Date 2023-04-20 not found in news_by_date.\n",
            "Date 2023-04-18 not found in news_by_date.\n"
          ]
        },
        {
          "output_type": "stream",
          "name": "stderr",
          "text": [
            "\n",
            "100%|██████████| 2/2 [00:00<00:00, 177.07it/s]\n"
          ]
        },
        {
          "output_type": "stream",
          "name": "stdout",
          "text": [
            "2023-04-20, 裕民    | Ground Truth: -1, Prediction: -1\n",
            "Date 2023-04-20 not found in news_by_date.\n",
            "Date 2023-04-18 not found in news_by_date.\n",
            "Date 2023-04-20 not found in news_by_date.\n",
            "Date 2023-04-18 not found in news_by_date.\n",
            "Date 2023-04-20 not found in news_by_date.\n",
            "Date 2023-04-18 not found in news_by_date.\n",
            "Date 2023-04-20 not found in news_by_date.\n",
            "Date 2023-04-18 not found in news_by_date.\n"
          ]
        },
        {
          "output_type": "stream",
          "name": "stderr",
          "text": [
            "\n",
            "100%|██████████| 2/2 [00:00<00:00, 120.81it/s]\n"
          ]
        },
        {
          "output_type": "stream",
          "name": "stdout",
          "text": [
            "Date 2023-04-20 not found in news_by_date.\n",
            "Date 2023-04-18 not found in news_by_date.\n"
          ]
        },
        {
          "output_type": "stream",
          "name": "stderr",
          "text": [
            "\n",
            "100%|██████████| 2/2 [00:00<00:00, 206.35it/s]\n"
          ]
        },
        {
          "output_type": "stream",
          "name": "stdout",
          "text": [
            "2023-04-20, 華航    | Ground Truth: -1, Prediction: 0\n",
            "Date 2023-04-20 not found in news_by_date.\n",
            "Date 2023-04-18 not found in news_by_date.\n",
            "Date 2023-04-20 not found in news_by_date.\n",
            "Date 2023-04-18 not found in news_by_date.\n",
            "Date 2023-04-20 not found in news_by_date.\n",
            "Date 2023-04-18 not found in news_by_date.\n",
            "Date 2023-04-20 not found in news_by_date.\n",
            "Date 2023-04-18 not found in news_by_date.\n"
          ]
        },
        {
          "output_type": "stream",
          "name": "stderr",
          "text": [
            "\n",
            "100%|██████████| 1/1 [00:00<00:00, 216.66it/s]\n"
          ]
        },
        {
          "output_type": "stream",
          "name": "stdout",
          "text": [
            "Date 2023-04-20 not found in news_by_date.\n",
            "Date 2023-04-18 not found in news_by_date.\n"
          ]
        },
        {
          "output_type": "stream",
          "name": "stderr",
          "text": [
            "\n",
            "100%|██████████| 1/1 [00:00<00:00, 189.08it/s]\n"
          ]
        },
        {
          "output_type": "stream",
          "name": "stdout",
          "text": [
            "2023-04-20, 萬海    | Ground Truth: -1, Prediction: 0\n",
            "Date 2023-04-20 not found in news_by_date.\n",
            "Date 2023-04-18 not found in news_by_date.\n",
            "Date 2023-04-20 not found in news_by_date.\n",
            "Date 2023-04-18 not found in news_by_date.\n",
            "Date 2023-04-20 not found in news_by_date.\n",
            "Date 2023-04-18 not found in news_by_date.\n",
            "Date 2023-04-20 not found in news_by_date.\n",
            "Date 2023-04-18 not found in news_by_date.\n",
            "Date 2023-04-20 not found in news_by_date.\n",
            "Date 2023-04-18 not found in news_by_date.\n"
          ]
        },
        {
          "output_type": "stream",
          "name": "stderr",
          "text": [
            "\n",
            "100%|██████████| 1/1 [00:00<00:00, 158.39it/s]\n"
          ]
        },
        {
          "output_type": "stream",
          "name": "stdout",
          "text": [
            "Date 2023-04-20 not found in news_by_date.\n",
            "Date 2023-04-18 not found in news_by_date.\n"
          ]
        },
        {
          "output_type": "stream",
          "name": "stderr",
          "text": [
            "\n",
            "100%|██████████| 1/1 [00:00<00:00, 148.51it/s]"
          ]
        },
        {
          "output_type": "stream",
          "name": "stdout",
          "text": [
            "2023-04-20, 漢翔    | Ground Truth: 0, Prediction: -1\n",
            "Date 2023-04-20 not found in news_by_date.\n",
            "Date 2023-04-18 not found in news_by_date.\n",
            "Date 2023-04-20 not found in news_by_date.\n",
            "Date 2023-04-18 not found in news_by_date.\n",
            "Date 2023-04-20 not found in news_by_date.\n",
            "Date 2023-04-18 not found in news_by_date.\n",
            "Date 2023-04-20 not found in news_by_date.\n",
            "Date 2023-04-18 not found in news_by_date.\n",
            "Date 2023-04-20 not found in news_by_date.\n",
            "Date 2023-04-18 not found in news_by_date.\n",
            "Date 2023-04-20 not found in news_by_date.\n"
          ]
        },
        {
          "output_type": "stream",
          "name": "stderr",
          "text": [
            "\n",
            "\n",
            "100%|██████████| 2/2 [00:00<00:00, 124.13it/s]\n"
          ]
        },
        {
          "output_type": "stream",
          "name": "stdout",
          "text": [
            "Date 2023-04-20 not found in news_by_date.\n"
          ]
        },
        {
          "output_type": "stream",
          "name": "stderr",
          "text": [
            "\n",
            "100%|██████████| 2/2 [00:00<00:00, 163.21it/s]\n"
          ]
        },
        {
          "output_type": "stream",
          "name": "stdout",
          "text": [
            "2023-04-21, 台船    | Ground Truth: 0, Prediction: -1\n",
            "Date 2023-04-20 not found in news_by_date.\n"
          ]
        },
        {
          "output_type": "stream",
          "name": "stderr",
          "text": [
            "\n",
            "100%|██████████| 5/5 [00:00<00:00, 183.77it/s]\n"
          ]
        },
        {
          "output_type": "stream",
          "name": "stdout",
          "text": [
            "Date 2023-04-20 not found in news_by_date.\n"
          ]
        },
        {
          "output_type": "stream",
          "name": "stderr",
          "text": [
            "\n",
            "100%|██████████| 5/5 [00:00<00:00, 146.38it/s]\n"
          ]
        },
        {
          "output_type": "stream",
          "name": "stdout",
          "text": [
            "2023-04-21, 長榮    | Ground Truth: -1, Prediction: 0\n",
            "Date 2023-04-20 not found in news_by_date.\n"
          ]
        },
        {
          "output_type": "stream",
          "name": "stderr",
          "text": [
            "\n",
            "100%|██████████| 1/1 [00:00<00:00, 130.22it/s]\n"
          ]
        },
        {
          "output_type": "stream",
          "name": "stdout",
          "text": [
            "Date 2023-04-20 not found in news_by_date.\n"
          ]
        },
        {
          "output_type": "stream",
          "name": "stderr",
          "text": [
            "\n",
            "100%|██████████| 1/1 [00:00<00:00, 65.28it/s]\n"
          ]
        },
        {
          "output_type": "stream",
          "name": "stdout",
          "text": [
            "2023-04-21, 新興    | Ground Truth: -1, Prediction: 0\n",
            "Date 2023-04-20 not found in news_by_date.\n"
          ]
        },
        {
          "output_type": "stream",
          "name": "stderr",
          "text": [
            "\n",
            "100%|██████████| 2/2 [00:00<00:00, 156.51it/s]\n"
          ]
        },
        {
          "output_type": "stream",
          "name": "stdout",
          "text": [
            "Date 2023-04-20 not found in news_by_date.\n"
          ]
        },
        {
          "output_type": "stream",
          "name": "stderr",
          "text": [
            "\n",
            "100%|██████████| 2/2 [00:00<00:00, 175.76it/s]\n"
          ]
        },
        {
          "output_type": "stream",
          "name": "stdout",
          "text": [
            "2023-04-21, 裕民    | Ground Truth: -1, Prediction: -1\n",
            "Date 2023-04-20 not found in news_by_date.\n",
            "Date 2023-04-20 not found in news_by_date.\n",
            "Date 2023-04-20 not found in news_by_date.\n",
            "Date 2023-04-20 not found in news_by_date.\n"
          ]
        },
        {
          "output_type": "stream",
          "name": "stderr",
          "text": [
            "\n",
            "100%|██████████| 2/2 [00:00<00:00, 156.74it/s]\n"
          ]
        },
        {
          "output_type": "stream",
          "name": "stdout",
          "text": [
            "Date 2023-04-20 not found in news_by_date.\n"
          ]
        },
        {
          "output_type": "stream",
          "name": "stderr",
          "text": [
            "\n",
            "100%|██████████| 2/2 [00:00<00:00, 169.66it/s]"
          ]
        },
        {
          "output_type": "stream",
          "name": "stdout",
          "text": [
            "2023-04-21, 華航    | Ground Truth: 0, Prediction: 0\n",
            "Date 2023-04-20 not found in news_by_date.\n",
            "Date 2023-04-20 not found in news_by_date.\n"
          ]
        },
        {
          "output_type": "stream",
          "name": "stderr",
          "text": [
            "\n"
          ]
        },
        {
          "output_type": "stream",
          "name": "stdout",
          "text": [
            "Date 2023-04-20 not found in news_by_date.\n",
            "Date 2023-04-20 not found in news_by_date.\n"
          ]
        },
        {
          "output_type": "stream",
          "name": "stderr",
          "text": [
            "\n",
            "100%|██████████| 2/2 [00:00<00:00, 206.32it/s]\n"
          ]
        },
        {
          "output_type": "stream",
          "name": "stdout",
          "text": [
            "Date 2023-04-20 not found in news_by_date.\n"
          ]
        },
        {
          "output_type": "stream",
          "name": "stderr",
          "text": [
            "\n",
            "100%|██████████| 2/2 [00:00<00:00, 224.06it/s]\n"
          ]
        },
        {
          "output_type": "stream",
          "name": "stdout",
          "text": [
            "2023-04-21, 萬海    | Ground Truth: -1, Prediction: 0\n",
            "Date 2023-04-20 not found in news_by_date.\n"
          ]
        },
        {
          "output_type": "stream",
          "name": "stderr",
          "text": [
            "\n",
            "100%|██████████| 1/1 [00:00<00:00, 234.79it/s]\n"
          ]
        },
        {
          "output_type": "stream",
          "name": "stdout",
          "text": [
            "Date 2023-04-20 not found in news_by_date.\n"
          ]
        },
        {
          "output_type": "stream",
          "name": "stderr",
          "text": [
            "\n",
            "100%|██████████| 1/1 [00:00<00:00, 159.81it/s]\n"
          ]
        },
        {
          "output_type": "stream",
          "name": "stdout",
          "text": [
            "2023-04-21, 台航    | Ground Truth: 0, Prediction: 0\n",
            "Date 2023-04-20 not found in news_by_date.\n",
            "Date 2023-04-20 not found in news_by_date.\n",
            "Date 2023-04-20 not found in news_by_date.\n",
            "Date 2023-04-20 not found in news_by_date.\n"
          ]
        },
        {
          "output_type": "stream",
          "name": "stderr",
          "text": [
            "\n",
            "100%|██████████| 2/2 [00:00<00:00, 153.85it/s]\n"
          ]
        },
        {
          "output_type": "stream",
          "name": "stdout",
          "text": [
            "Date 2023-04-20 not found in news_by_date.\n"
          ]
        },
        {
          "output_type": "stream",
          "name": "stderr",
          "text": [
            "\n",
            "100%|██████████| 2/2 [00:00<00:00, 108.12it/s]"
          ]
        },
        {
          "output_type": "stream",
          "name": "stdout",
          "text": [
            "2023-04-21, 漢翔    | Ground Truth: 1, Prediction: -1\n"
          ]
        },
        {
          "output_type": "stream",
          "name": "stderr",
          "text": [
            "\n"
          ]
        },
        {
          "output_type": "stream",
          "name": "stdout",
          "text": [
            "Date 2023-04-20 not found in news_by_date.\n",
            "Date 2023-04-20 not found in news_by_date.\n",
            "Date 2023-04-20 not found in news_by_date.\n",
            "Date 2023-04-20 not found in news_by_date.\n",
            "Date 2023-04-20 not found in news_by_date.\n",
            "Date 2023-04-20 not found in news_by_date.\n"
          ]
        },
        {
          "output_type": "stream",
          "name": "stderr",
          "text": [
            "\n",
            "100%|██████████| 1/1 [00:00<00:00, 166.76it/s]\n"
          ]
        },
        {
          "output_type": "stream",
          "name": "stdout",
          "text": [
            "Date 2023-04-20 not found in news_by_date.\n"
          ]
        },
        {
          "output_type": "stream",
          "name": "stderr",
          "text": [
            "\n",
            "100%|██████████| 1/1 [00:00<00:00, 160.45it/s]"
          ]
        },
        {
          "output_type": "stream",
          "name": "stdout",
          "text": [
            "2023-04-24, 台船    | Ground Truth: 0, Prediction: 0\n"
          ]
        },
        {
          "output_type": "stream",
          "name": "stderr",
          "text": [
            "\n"
          ]
        },
        {
          "output_type": "stream",
          "name": "stdout",
          "text": [
            "Date 2023-04-20 not found in news_by_date.\n"
          ]
        },
        {
          "output_type": "stream",
          "name": "stderr",
          "text": [
            "\n",
            "100%|██████████| 2/2 [00:00<00:00, 183.59it/s]\n"
          ]
        },
        {
          "output_type": "stream",
          "name": "stdout",
          "text": [
            "Date 2023-04-20 not found in news_by_date.\n"
          ]
        },
        {
          "output_type": "stream",
          "name": "stderr",
          "text": [
            "\n",
            "100%|██████████| 2/2 [00:00<00:00, 145.50it/s]"
          ]
        },
        {
          "output_type": "stream",
          "name": "stdout",
          "text": [
            "2023-04-24, 長榮    | Ground Truth: -1, Prediction: 0\n"
          ]
        },
        {
          "output_type": "stream",
          "name": "stderr",
          "text": [
            "\n"
          ]
        },
        {
          "output_type": "stream",
          "name": "stdout",
          "text": [
            "Date 2023-04-20 not found in news_by_date.\n"
          ]
        },
        {
          "output_type": "stream",
          "name": "stderr",
          "text": [
            "\n",
            "100%|██████████| 5/5 [00:00<00:00, 234.78it/s]\n"
          ]
        },
        {
          "output_type": "stream",
          "name": "stdout",
          "text": [
            "Date 2023-04-20 not found in news_by_date.\n"
          ]
        },
        {
          "output_type": "stream",
          "name": "stderr",
          "text": [
            "\n",
            "100%|██████████| 5/5 [00:00<00:00, 192.86it/s]\n"
          ]
        },
        {
          "output_type": "stream",
          "name": "stdout",
          "text": [
            "2023-04-24, 新興    | Ground Truth: -1, Prediction: -1\n",
            "Date 2023-04-20 not found in news_by_date.\n",
            "Date 2023-04-20 not found in news_by_date.\n",
            "Date 2023-04-20 not found in news_by_date.\n",
            "Date 2023-04-20 not found in news_by_date.\n"
          ]
        },
        {
          "output_type": "stream",
          "name": "stderr",
          "text": [
            "\n",
            "100%|██████████| 2/2 [00:00<00:00, 214.72it/s]\n"
          ]
        },
        {
          "output_type": "stream",
          "name": "stdout",
          "text": [
            "Date 2023-04-20 not found in news_by_date.\n"
          ]
        },
        {
          "output_type": "stream",
          "name": "stderr",
          "text": [
            "\n",
            "100%|██████████| 2/2 [00:00<00:00, 206.71it/s]"
          ]
        },
        {
          "output_type": "stream",
          "name": "stdout",
          "text": [
            "2023-04-24, 陽明    | Ground Truth: -1, Prediction: -1\n"
          ]
        },
        {
          "output_type": "stream",
          "name": "stderr",
          "text": [
            "\n"
          ]
        },
        {
          "output_type": "stream",
          "name": "stdout",
          "text": [
            "Date 2023-04-20 not found in news_by_date.\n"
          ]
        },
        {
          "output_type": "stream",
          "name": "stderr",
          "text": [
            "\n",
            "100%|██████████| 2/2 [00:00<00:00, 182.83it/s]\n"
          ]
        },
        {
          "output_type": "stream",
          "name": "stdout",
          "text": [
            "Date 2023-04-20 not found in news_by_date.\n"
          ]
        },
        {
          "output_type": "stream",
          "name": "stderr",
          "text": [
            "\n",
            "100%|██████████| 2/2 [00:00<00:00, 211.59it/s]\n"
          ]
        },
        {
          "output_type": "stream",
          "name": "stdout",
          "text": [
            "2023-04-24, 華航    | Ground Truth: 0, Prediction: -1\n",
            "Date 2023-04-20 not found in news_by_date.\n",
            "Date 2023-04-20 not found in news_by_date.\n",
            "Date 2023-04-20 not found in news_by_date.\n",
            "Date 2023-04-20 not found in news_by_date.\n"
          ]
        },
        {
          "output_type": "stream",
          "name": "stderr",
          "text": [
            "\n",
            "100%|██████████| 1/1 [00:00<00:00, 169.85it/s]\n"
          ]
        },
        {
          "output_type": "stream",
          "name": "stdout",
          "text": [
            "Date 2023-04-20 not found in news_by_date.\n"
          ]
        },
        {
          "output_type": "stream",
          "name": "stderr",
          "text": [
            "\n",
            "100%|██████████| 1/1 [00:00<00:00, 211.76it/s]"
          ]
        },
        {
          "output_type": "stream",
          "name": "stdout",
          "text": [
            "2023-04-24, 萬海    | Ground Truth: 0, Prediction: 0\n"
          ]
        },
        {
          "output_type": "stream",
          "name": "stderr",
          "text": [
            "\n"
          ]
        },
        {
          "output_type": "stream",
          "name": "stdout",
          "text": [
            "Date 2023-04-20 not found in news_by_date.\n"
          ]
        },
        {
          "output_type": "stream",
          "name": "stderr",
          "text": [
            "\n",
            "100%|██████████| 1/1 [00:00<00:00, 241.16it/s]\n"
          ]
        },
        {
          "output_type": "stream",
          "name": "stdout",
          "text": [
            "Date 2023-04-20 not found in news_by_date.\n"
          ]
        },
        {
          "output_type": "stream",
          "name": "stderr",
          "text": [
            "\n",
            "100%|██████████| 1/1 [00:00<00:00, 119.74it/s]"
          ]
        },
        {
          "output_type": "stream",
          "name": "stdout",
          "text": [
            "2023-04-24, 台航    | Ground Truth: 0, Prediction: 0\n"
          ]
        },
        {
          "output_type": "stream",
          "name": "stderr",
          "text": [
            "\n"
          ]
        },
        {
          "output_type": "stream",
          "name": "stdout",
          "text": [
            "Date 2023-04-20 not found in news_by_date.\n",
            "Date 2023-04-20 not found in news_by_date.\n",
            "Date 2023-04-20 not found in news_by_date.\n",
            "Date 2023-04-20 not found in news_by_date.\n"
          ]
        },
        {
          "output_type": "stream",
          "name": "stderr",
          "text": [
            "\n",
            "100%|██████████| 4/4 [00:00<00:00, 187.30it/s]\n"
          ]
        },
        {
          "output_type": "stream",
          "name": "stdout",
          "text": [
            "Date 2023-04-20 not found in news_by_date.\n"
          ]
        },
        {
          "output_type": "stream",
          "name": "stderr",
          "text": [
            "\n",
            "100%|██████████| 4/4 [00:00<00:00, 198.04it/s]"
          ]
        },
        {
          "output_type": "stream",
          "name": "stdout",
          "text": [
            "2023-04-24, 漢翔    | Ground Truth: 1, Prediction: 0\n",
            "Date 2023-04-20 not found in news_by_date.\n",
            "Date 2023-04-20 not found in news_by_date.\n"
          ]
        },
        {
          "output_type": "stream",
          "name": "stderr",
          "text": [
            "\n"
          ]
        },
        {
          "output_type": "stream",
          "name": "stdout",
          "text": [
            "Date 2023-04-20 not found in news_by_date.\n",
            "Date 2023-04-20 not found in news_by_date.\n",
            "Date 2023-04-20 not found in news_by_date.\n"
          ]
        },
        {
          "output_type": "stream",
          "name": "stderr",
          "text": [
            "\n",
            "100%|██████████| 1/1 [00:00<00:00, 112.69it/s]\n",
            "\n",
            "100%|██████████| 1/1 [00:00<00:00, 174.87it/s]\n"
          ]
        },
        {
          "output_type": "stream",
          "name": "stdout",
          "text": [
            "2023-04-25, 台船    | Ground Truth: 0, Prediction: 0\n"
          ]
        },
        {
          "output_type": "stream",
          "name": "stderr",
          "text": [
            "\n",
            "100%|██████████| 3/3 [00:00<00:00, 164.66it/s]\n",
            "\n",
            "100%|██████████| 3/3 [00:00<00:00, 172.23it/s]\n"
          ]
        },
        {
          "output_type": "stream",
          "name": "stdout",
          "text": [
            "2023-04-25, 長榮    | Ground Truth: -1, Prediction: -1\n"
          ]
        },
        {
          "output_type": "stream",
          "name": "stderr",
          "text": [
            "\n",
            "100%|██████████| 10/10 [00:00<00:00, 198.89it/s]\n",
            "\n",
            "100%|██████████| 10/10 [00:00<00:00, 183.07it/s]\n"
          ]
        },
        {
          "output_type": "stream",
          "name": "stdout",
          "text": [
            "2023-04-25, 新興    | Ground Truth: -1, Prediction: -1\n"
          ]
        },
        {
          "output_type": "stream",
          "name": "stderr",
          "text": [
            "\n",
            "100%|██████████| 2/2 [00:00<00:00, 227.52it/s]\n",
            "\n",
            "100%|██████████| 2/2 [00:00<00:00, 233.69it/s]\n"
          ]
        },
        {
          "output_type": "stream",
          "name": "stdout",
          "text": [
            "2023-04-25, 陽明    | Ground Truth: -1, Prediction: -1\n"
          ]
        },
        {
          "output_type": "stream",
          "name": "stderr",
          "text": [
            "\n",
            "100%|██████████| 7/7 [00:00<00:00, 143.15it/s]\n",
            "\n",
            "100%|██████████| 7/7 [00:00<00:00, 190.17it/s]\n"
          ]
        },
        {
          "output_type": "stream",
          "name": "stdout",
          "text": [
            "2023-04-25, 華航    | Ground Truth: 0, Prediction: -1\n"
          ]
        },
        {
          "output_type": "stream",
          "name": "stderr",
          "text": [
            "\n",
            "100%|██████████| 1/1 [00:00<00:00, 92.81it/s]\n",
            "\n",
            "100%|██████████| 1/1 [00:00<00:00, 141.58it/s]\n"
          ]
        },
        {
          "output_type": "stream",
          "name": "stdout",
          "text": [
            "2023-04-25, 萬海    | Ground Truth: -1, Prediction: 0\n"
          ]
        },
        {
          "output_type": "stream",
          "name": "stderr",
          "text": [
            "\n",
            "100%|██████████| 1/1 [00:00<00:00, 193.21it/s]\n",
            "\n",
            "100%|██████████| 1/1 [00:00<00:00, 211.36it/s]\n"
          ]
        },
        {
          "output_type": "stream",
          "name": "stdout",
          "text": [
            "2023-04-25, 台航    | Ground Truth: -1, Prediction: 0\n"
          ]
        },
        {
          "output_type": "stream",
          "name": "stderr",
          "text": [
            "\n",
            "100%|██████████| 4/4 [00:00<00:00, 207.37it/s]\n",
            "\n",
            "100%|██████████| 4/4 [00:00<00:00, 271.90it/s]\n"
          ]
        },
        {
          "output_type": "stream",
          "name": "stdout",
          "text": [
            "2023-04-25, 漢翔    | Ground Truth: 1, Prediction: 0\n"
          ]
        },
        {
          "output_type": "stream",
          "name": "stderr",
          "text": [
            "\n",
            "100%|██████████| 1/1 [00:00<00:00, 133.79it/s]\n",
            "\n",
            "100%|██████████| 1/1 [00:00<00:00, 166.35it/s]\n"
          ]
        },
        {
          "output_type": "stream",
          "name": "stdout",
          "text": [
            "2023-04-26, 台船    | Ground Truth: -1, Prediction: 0\n"
          ]
        },
        {
          "output_type": "stream",
          "name": "stderr",
          "text": [
            "\n",
            "100%|██████████| 4/4 [00:00<00:00, 146.80it/s]\n",
            "\n",
            "100%|██████████| 4/4 [00:00<00:00, 216.28it/s]\n"
          ]
        },
        {
          "output_type": "stream",
          "name": "stdout",
          "text": [
            "2023-04-26, 長榮    | Ground Truth: -1, Prediction: -1\n"
          ]
        },
        {
          "output_type": "stream",
          "name": "stderr",
          "text": [
            "\n",
            "100%|██████████| 15/15 [00:00<00:00, 182.93it/s]\n",
            "\n",
            "100%|██████████| 15/15 [00:00<00:00, 221.59it/s]\n"
          ]
        },
        {
          "output_type": "stream",
          "name": "stdout",
          "text": [
            "2023-04-26, 新興    | Ground Truth: -1, Prediction: -1\n"
          ]
        },
        {
          "output_type": "stream",
          "name": "stderr",
          "text": [
            "\n",
            "100%|██████████| 3/3 [00:00<00:00, 147.79it/s]\n",
            "\n",
            "100%|██████████| 3/3 [00:00<00:00, 170.94it/s]\n"
          ]
        },
        {
          "output_type": "stream",
          "name": "stdout",
          "text": [
            "2023-04-26, 陽明    | Ground Truth: -1, Prediction: -1\n"
          ]
        },
        {
          "output_type": "stream",
          "name": "stderr",
          "text": [
            "\n",
            "100%|██████████| 9/9 [00:00<00:00, 231.63it/s]\n",
            "\n",
            "100%|██████████| 9/9 [00:00<00:00, 195.00it/s]"
          ]
        },
        {
          "output_type": "stream",
          "name": "stdout",
          "text": [
            "2023-04-26, 華航    | Ground Truth: 0, Prediction: -1\n"
          ]
        },
        {
          "output_type": "stream",
          "name": "stderr",
          "text": [
            "\n",
            "\n",
            "100%|██████████| 3/3 [00:00<00:00, 237.01it/s]\n",
            "\n",
            "100%|██████████| 3/3 [00:00<00:00, 210.63it/s]\n"
          ]
        },
        {
          "output_type": "stream",
          "name": "stdout",
          "text": [
            "2023-04-26, 漢翔    | Ground Truth: 0, Prediction: 0\n"
          ]
        },
        {
          "output_type": "stream",
          "name": "stderr",
          "text": [
            "\n",
            "100%|██████████| 1/1 [00:00<00:00, 121.24it/s]\n",
            "\n",
            "100%|██████████| 1/1 [00:00<00:00, 86.97it/s]\n"
          ]
        },
        {
          "output_type": "stream",
          "name": "stdout",
          "text": [
            "2023-04-26, 建新國際  | Ground Truth: 0, Prediction: 0\n"
          ]
        },
        {
          "output_type": "stream",
          "name": "stderr",
          "text": [
            "\n",
            "100%|██████████| 1/1 [00:00<00:00, 117.49it/s]\n",
            "\n",
            "100%|██████████| 1/1 [00:00<00:00, 172.75it/s]\n"
          ]
        },
        {
          "output_type": "stream",
          "name": "stdout",
          "text": [
            "2023-04-27, 台船    | Ground Truth: -1, Prediction: 0\n"
          ]
        },
        {
          "output_type": "stream",
          "name": "stderr",
          "text": [
            "\n",
            "100%|██████████| 7/7 [00:00<00:00, 219.21it/s]\n",
            "\n",
            "100%|██████████| 7/7 [00:00<00:00, 316.38it/s]\n"
          ]
        },
        {
          "output_type": "stream",
          "name": "stdout",
          "text": [
            "2023-04-27, 長榮    | Ground Truth: -1, Prediction: -1\n"
          ]
        },
        {
          "output_type": "stream",
          "name": "stderr",
          "text": [
            "\n",
            "100%|██████████| 12/12 [00:00<00:00, 256.86it/s]\n",
            "\n",
            "100%|██████████| 12/12 [00:00<00:00, 341.30it/s]\n"
          ]
        },
        {
          "output_type": "stream",
          "name": "stdout",
          "text": [
            "2023-04-27, 新興    | Ground Truth: -1, Prediction: -1\n"
          ]
        },
        {
          "output_type": "stream",
          "name": "stderr",
          "text": [
            "\n",
            "100%|██████████| 4/4 [00:00<00:00, 245.65it/s]\n",
            "\n",
            "100%|██████████| 4/4 [00:00<00:00, 249.82it/s]\n"
          ]
        },
        {
          "output_type": "stream",
          "name": "stdout",
          "text": [
            "2023-04-27, 陽明    | Ground Truth: 0, Prediction: 0\n"
          ]
        },
        {
          "output_type": "stream",
          "name": "stderr",
          "text": [
            "\n",
            "100%|██████████| 8/8 [00:00<00:00, 208.23it/s]\n",
            "\n",
            "100%|██████████| 8/8 [00:00<00:00, 263.15it/s]\n"
          ]
        },
        {
          "output_type": "stream",
          "name": "stdout",
          "text": [
            "2023-04-27, 華航    | Ground Truth: 0, Prediction: -1\n"
          ]
        },
        {
          "output_type": "stream",
          "name": "stderr",
          "text": [
            "\n",
            "100%|██████████| 1/1 [00:00<00:00, 177.62it/s]\n",
            "\n",
            "100%|██████████| 1/1 [00:00<00:00, 203.83it/s]\n"
          ]
        },
        {
          "output_type": "stream",
          "name": "stdout",
          "text": [
            "2023-04-27, 亞航    | Ground Truth: 1, Prediction: 0\n"
          ]
        },
        {
          "output_type": "stream",
          "name": "stderr",
          "text": [
            "\n",
            "100%|██████████| 1/1 [00:00<00:00, 176.38it/s]\n",
            "\n",
            "100%|██████████| 1/1 [00:00<00:00, 173.51it/s]\n"
          ]
        },
        {
          "output_type": "stream",
          "name": "stdout",
          "text": [
            "2023-04-27, 建新國際  | Ground Truth: 0, Prediction: 0\n"
          ]
        },
        {
          "output_type": "stream",
          "name": "stderr",
          "text": [
            "\n",
            "100%|██████████| 1/1 [00:00<00:00, 149.62it/s]\n",
            "\n",
            "100%|██████████| 1/1 [00:00<00:00, 205.44it/s]\n"
          ]
        },
        {
          "output_type": "stream",
          "name": "stdout",
          "text": [
            "2023-04-28, 台船    | Ground Truth: -1, Prediction: 0\n"
          ]
        },
        {
          "output_type": "stream",
          "name": "stderr",
          "text": [
            "\n",
            "100%|██████████| 7/7 [00:00<00:00, 278.86it/s]\n",
            "\n",
            "100%|██████████| 7/7 [00:00<00:00, 389.54it/s]\n"
          ]
        },
        {
          "output_type": "stream",
          "name": "stdout",
          "text": [
            "2023-04-28, 長榮    | Ground Truth: -1, Prediction: 0\n"
          ]
        },
        {
          "output_type": "stream",
          "name": "stderr",
          "text": [
            "\n",
            "100%|██████████| 8/8 [00:00<00:00, 240.71it/s]\n",
            "\n",
            "100%|██████████| 8/8 [00:00<00:00, 367.84it/s]\n"
          ]
        },
        {
          "output_type": "stream",
          "name": "stdout",
          "text": [
            "2023-04-28, 新興    | Ground Truth: -1, Prediction: 0\n"
          ]
        },
        {
          "output_type": "stream",
          "name": "stderr",
          "text": [
            "\n",
            "100%|██████████| 5/5 [00:00<00:00, 300.94it/s]\n",
            "\n",
            "100%|██████████| 5/5 [00:00<00:00, 222.42it/s]\n"
          ]
        },
        {
          "output_type": "stream",
          "name": "stdout",
          "text": [
            "2023-04-28, 陽明    | Ground Truth: -1, Prediction: -1\n"
          ]
        },
        {
          "output_type": "stream",
          "name": "stderr",
          "text": [
            "\n",
            "100%|██████████| 3/3 [00:00<00:00, 188.21it/s]\n",
            "\n",
            "100%|██████████| 3/3 [00:00<00:00, 212.49it/s]\n"
          ]
        },
        {
          "output_type": "stream",
          "name": "stdout",
          "text": [
            "2023-04-28, 華航    | Ground Truth: 0, Prediction: -1\n"
          ]
        },
        {
          "output_type": "stream",
          "name": "stderr",
          "text": [
            "\n",
            "100%|██████████| 1/1 [00:00<00:00, 150.88it/s]\n",
            "\n",
            "100%|██████████| 1/1 [00:00<00:00, 188.01it/s]\n"
          ]
        },
        {
          "output_type": "stream",
          "name": "stdout",
          "text": [
            "2023-04-28, 亞航    | Ground Truth: 1, Prediction: 0\n"
          ]
        },
        {
          "output_type": "stream",
          "name": "stderr",
          "text": [
            "\n",
            "100%|██████████| 1/1 [00:00<00:00, 235.26it/s]\n",
            "\n",
            "100%|██████████| 1/1 [00:00<00:00, 184.13it/s]"
          ]
        },
        {
          "output_type": "stream",
          "name": "stdout",
          "text": [
            "2023-04-28, 建新國際  | Ground Truth: 0, Prediction: 0\n"
          ]
        },
        {
          "output_type": "stream",
          "name": "stderr",
          "text": [
            "\n"
          ]
        }
      ],
      "source": [
        "z_test, z_test_pred = dataset.backtest(stacked_model)"
      ]
    },
    {
      "cell_type": "code",
      "source": [
        "len(z_test)"
      ],
      "metadata": {
        "id": "Kq0PKzMBs5wE"
      },
      "id": "Kq0PKzMBs5wE",
      "execution_count": null,
      "outputs": []
    },
    {
      "cell_type": "code",
      "execution_count": 104,
      "id": "787d1147",
      "metadata": {
        "id": "787d1147",
        "outputId": "350b8123-394c-4cd7-e5d5-2794e8927d62",
        "colab": {
          "base_uri": "https://localhost:8080/",
          "height": 504
        }
      },
      "outputs": [
        {
          "output_type": "stream",
          "name": "stdout",
          "text": [
            "Balanced accuracy: 0.3692\n"
          ]
        },
        {
          "output_type": "display_data",
          "data": {
            "text/plain": [
              "<Figure size 500x500 with 1 Axes>"
            ],
            "image/png": "[encoded data removed]"
          },
          "metadata": {}
        }
      ],
      "source": [
        "accuracy = balanced_accuracy_score(z_test, z_test_pred)\n",
        "print(f\"Balanced accuracy: {accuracy:.4f}\")\n",
        "\n",
        "cm = confusion_matrix(z_test, z_test_pred)\n",
        "class_labels = ['-1', '0', '+1']\n",
        "\n",
        "plt.figure(figsize=(5, 5))\n",
        "sns.heatmap(cm, annot=True, fmt='g', cmap=\"crest\", cbar=False,\n",
        "            xticklabels=class_labels, yticklabels=class_labels)\n",
        "plt.xlabel(\"Predicted price change\")\n",
        "plt.ylabel(\"True price change\")\n",
        "plt.title(\"Confusion Matrix\")\n",
        "plt.show()"
      ]
    },
    {
      "cell_type": "markdown",
      "id": "f29e70cd",
      "metadata": {
        "id": "f29e70cd"
      },
      "source": [
        "## 2. 其他參考方向\n",
        "\n",
        "- 文章分類規則、同時使用新聞及社群討論資訊\n",
        "\n",
        "- 以股價資訊、交易量、技術指標 (TA-Lib) 預測未來價格走勢\n",
        "\n",
        "- 使用籌碼面資訊（e.g., 外資連買）、財報資訊（e.g., 長期而言，EPS 和股價呈正相關）進行綜合評估"
      ]
    },
    {
      "cell_type": "markdown",
      "id": "84a87074-077d-4644-ae0a-dc8dd0c03e67",
      "metadata": {
        "jp-MarkdownHeadingCollapsed": true,
        "id": "84a87074-077d-4644-ae0a-dc8dd0c03e67"
      },
      "source": [
        "## Playground"
      ]
    },
    {
      "cell_type": "code",
      "execution_count": null,
      "id": "18a2cc7b-f679-47a4-87b2-203e1b28e5f7",
      "metadata": {
        "id": "18a2cc7b-f679-47a4-87b2-203e1b28e5f7"
      },
      "outputs": [],
      "source": [
        "print(list(transaction_df['stock_symbol'])[:100])"
      ]
    },
    {
      "cell_type": "code",
      "execution_count": null,
      "id": "c1b18193-a2fe-4235-8220-b9574af6b85b",
      "metadata": {
        "id": "c1b18193-a2fe-4235-8220-b9574af6b85b"
      },
      "outputs": [],
      "source": [
        "print(list(disc_df.columns))\n",
        "print('\\n', disc_df[\"p_type\"].value_counts())\n",
        "print('\\n', disc_df[\"s_name\"].value_counts())\n",
        "print('\\n', disc_df[\"content_type\"].value_counts())"
      ]
    },
    {
      "cell_type": "code",
      "execution_count": null,
      "id": "79c6cf99-a7aa-43bc-be1b-49915924140c",
      "metadata": {
        "id": "79c6cf99-a7aa-43bc-be1b-49915924140c"
      },
      "outputs": [],
      "source": [
        "print(disc_df.loc[disc_df['s_name']==\"Ptt\"].iloc[0])"
      ]
    },
    {
      "cell_type": "code",
      "execution_count": null,
      "id": "fca2bfff-fd6c-49bd-9747-30f305d30e68",
      "metadata": {
        "id": "fca2bfff-fd6c-49bd-9747-30f305d30e68"
      },
      "outputs": [],
      "source": []
    }
  ],
  "metadata": {
    "kernelspec": {
      "display_name": "Python 3 (ipykernel)",
      "language": "python",
      "name": "python3"
    },
    "language_info": {
      "codemirror_mode": {
        "name": "ipython",
        "version": 3
      },
      "file_extension": ".py",
      "mimetype": "text/x-python",
      "name": "python",
      "nbconvert_exporter": "python",
      "pygments_lexer": "ipython3",
      "version": "3.9.0"
    },
    "colab": {
      "provenance": [],
      "toc_visible": true
    }
  },
  "nbformat": 4,
  "nbformat_minor": 5
}