{
 "cells": [
  {
   "cell_type": "code",
   "execution_count": 35,
   "id": "7ddae98c",
   "metadata": {},
   "outputs": [],
   "source": [
    "import scipy.sparse as ss\n",
    "X = ss.load_npz(\"../data/X_chi2.npz\")\n",
    "Y = ss.load_npz(\"../data/Y.npz\")"
   ]
  },
  {
   "cell_type": "code",
   "execution_count": 36,
   "id": "bae790c0",
   "metadata": {},
   "outputs": [],
   "source": [
    "\n",
    "from sklearn.model_selection import train_test_split, GridSearchCV, RandomizedSearchCV\n",
    "from sklearn.svm import SVC\n",
    "from sklearn.ensemble import RandomForestClassifier\n",
    "from xgboost import XGBClassifier\n",
    "from sklearn.metrics import accuracy_score, classification_report\n",
    "from sklearn.ensemble import StackingClassifier\n",
    "from scipy.stats import randint\n",
    "import numpy as np\n",
    "import pandas as pd"
   ]
  },
  {
   "cell_type": "code",
   "execution_count": 37,
   "id": "f98bb569",
   "metadata": {},
   "outputs": [],
   "source": [
    "# 劃分數據集\n",
    "Y = np.ravel(Y.toarray())\n",
    "X_train, X_test, y_train, y_test = train_test_split(X, Y, test_size=0.1, random_state=42)\n",
    "\n",
    "X_train = X_train.toarray()\n",
    "X_test = X_test.toarray()"
   ]
  },
  {
   "cell_type": "code",
   "execution_count": 40,
   "id": "99cde798",
   "metadata": {},
   "outputs": [
    {
     "name": "stdout",
     "output_type": "stream",
     "text": [
      "Best Native Bayes Parameters: {}\n",
      "Native Bayes Accuracy with Best Parameters: 0.6714801444043321\n",
      "Native Bayes Classification Report with Best Parameters:\n",
      "               precision    recall  f1-score   support\n",
      "\n",
      "         0.0       0.60      0.95      0.73       263\n",
      "         1.0       0.90      0.42      0.57       291\n",
      "\n",
      "    accuracy                           0.67       554\n",
      "   macro avg       0.75      0.68      0.65       554\n",
      "weighted avg       0.76      0.67      0.65       554\n",
      "\n",
      "Confusion Matrix:\n",
      "[[250  13]\n",
      " [169 122]]\n"
     ]
    }
   ],
   "source": [
    "from sklearn.naive_bayes import GaussianNB\n",
    "from sklearn.metrics import confusion_matrix\n",
    "from sklearn.model_selection import GridSearchCV, StratifiedKFold\n",
    "from sklearn.metrics import accuracy_score, classification_report\n",
    "\n",
    "# 定義 Native bayes 的參數範圍\n",
    "nb_params = {}\n",
    "\n",
    "# 建立 Native bayes 模型\n",
    "nb_model = GaussianNB()\n",
    "\n",
    "# 定義 K-fold \n",
    "kfold = StratifiedKFold(n_splits=5, shuffle=True, random_state=42)\n",
    "\n",
    "# 使用 GridSearchCV 尋找最佳參數\n",
    "grid_search_nb = GridSearchCV(nb_model, nb_params, cv=kfold, scoring='accuracy')\n",
    "\n",
    "grid_search_nb.fit(X_train, y_train)\n",
    "\n",
    "# 打印最佳參數\n",
    "print(\"Best Native Bayes Parameters:\", grid_search_nb.best_params_)\n",
    "\n",
    "# 使用最佳參數重新訓練模型\n",
    "best_nb_model = grid_search_nb.best_estimator_\n",
    "best_nb_model.fit(X_train, y_train)\n",
    "\n",
    "y_pred_nb = best_nb_model.predict(X_test)\n",
    "print(\"Native Bayes Accuracy with Best Parameters:\", accuracy_score(y_test, y_pred_nb))\n",
    "print(\"Native Bayes Classification Report with Best Parameters:\\n\", classification_report(y_test, y_pred_nb))\n",
    "\n",
    "# 輸出Confusion Matiix\n",
    "conf_matrix_nb = confusion_matrix(y_test, y_pred_nb)\n",
    "print(\"Confusion Matrix:\")\n",
    "print(conf_matrix_nb)\n"
   ]
  },
  {
   "cell_type": "code",
   "execution_count": 8,
   "id": "d2414ef3",
   "metadata": {},
   "outputs": [
    {
     "name": "stdout",
     "output_type": "stream",
     "text": [
      "Best XGBoost Parameters: {'learning_rate': 0.2, 'max_depth': 4, 'n_estimators': 300, 'subsample': 1.0}\n",
      "XGBoost Accuracy with Best Parameters: 0.6624548736462094\n",
      "XGBoost Classification Report with Best Parameters:\n",
      "               precision    recall  f1-score   support\n",
      "\n",
      "         0.0       0.61      0.82      0.70       263\n",
      "         1.0       0.76      0.52      0.62       291\n",
      "\n",
      "    accuracy                           0.66       554\n",
      "   macro avg       0.68      0.67      0.66       554\n",
      "weighted avg       0.69      0.66      0.66       554\n",
      "\n",
      "Confusion Matrix:\n",
      "[[215  48]\n",
      " [139 152]]\n"
     ]
    }
   ],
   "source": [
    "from sklearn.metrics import confusion_matrix\n",
    "from sklearn.model_selection import GridSearchCV, StratifiedKFold\n",
    "from xgboost import XGBClassifier\n",
    "from sklearn.metrics import accuracy_score, classification_report\n",
    "\n",
    "# 定義 XGBoost 參數範圍\n",
    "xgb_params = {\n",
    "    'learning_rate': [0.01, 0.1, 0.2],\n",
    "    'n_estimators': [100, 200, 300],\n",
    "    'max_depth': [3, 4, 5],\n",
    "    'subsample': [0.8, 0.9, 1.0],\n",
    "}\n",
    "\n",
    "# 建立 XGBoost 模型\n",
    "xgb_model = XGBClassifier()\n",
    "\n",
    "# 定義 K-fold 交叉驗證\n",
    "kfold = StratifiedKFold(n_splits=5, shuffle=True, random_state=42)\n",
    "\n",
    "# 使用 GridSearchCV 尋找最佳參數\n",
    "grid_search_xgb = GridSearchCV(xgb_model, xgb_params, cv=kfold, scoring='accuracy')\n",
    "grid_search_xgb.fit(X_train, y_train)\n",
    "\n",
    "# 打印最佳參數\n",
    "print(\"Best XGBoost Parameters:\", grid_search_xgb.best_params_)\n",
    "\n",
    "# 使用最佳參數重新訓練模型\n",
    "best_xgb_model = grid_search_xgb.best_estimator_\n",
    "best_xgb_model.fit(X_train, y_train)\n",
    "\n",
    "y_pred_xgb = best_xgb_model.predict(X_test)\n",
    "print(\"XGBoost Accuracy with Best Parameters:\", accuracy_score(y_test, y_pred_xgb))\n",
    "print(\"XGBoost Classification Report with Best Parameters:\\n\", classification_report(y_test, y_pred_xgb))\n",
    "\n",
    "# 輸出Confusion Matrix\n",
    "conf_matrix = confusion_matrix(y_test, y_pred_xgb)\n",
    "print(\"Confusion Matrix:\")\n",
    "print(conf_matrix)\n"
   ]
  },
  {
   "cell_type": "code",
   "execution_count": 43,
   "id": "62b8246b",
   "metadata": {},
   "outputs": [
    {
     "name": "stdout",
     "output_type": "stream",
     "text": [
      "Best Random Forest Parameters: {'n_estimators': 100, 'min_samples_split': 5, 'min_samples_leaf': 1, 'max_depth': None}\n",
      "Random Forest Accuracy with Best Parameters: 0.6552346570397112\n",
      "Random Forest Classification Report with Best Parameters:\n",
      "               precision    recall  f1-score   support\n",
      "\n",
      "         0.0       0.63      0.68      0.65       263\n",
      "         1.0       0.69      0.63      0.66       291\n",
      "\n",
      "    accuracy                           0.66       554\n",
      "   macro avg       0.66      0.66      0.66       554\n",
      "weighted avg       0.66      0.66      0.66       554\n",
      "\n",
      "Confusion Matrix:\n",
      "[[179  84]\n",
      " [107 184]]\n"
     ]
    }
   ],
   "source": [
    "# 隨機森林參數範圍\n",
    "rf_params = {\n",
    "    'n_estimators': [50, 100, 150],\n",
    "    'max_depth': [None, 10, 20, 30],\n",
    "    'min_samples_split': [2, 5, 10],\n",
    "    'min_samples_leaf': [1, 2, 4]\n",
    "}\n",
    "\n",
    "# 使用 RandomizedSearchCV 尋找最佳參數\n",
    "random_search_rf = RandomizedSearchCV(RandomForestClassifier(), rf_params, n_iter=10, cv=kfold, scoring='accuracy', random_state=42)\n",
    "random_search_rf.fit(X_train, y_train)\n",
    "\n",
    "# 打印最佳參數\n",
    "print(\"Best Random Forest Parameters:\", random_search_rf.best_params_)\n",
    "\n",
    "# 使用最佳參數重新訓練模型\n",
    "best_rf_model = random_search_rf.best_estimator_\n",
    "best_rf_model.fit(X_train, y_train)\n",
    "\n",
    "y_pred_rf = best_rf_model.predict(X_test)\n",
    "print(\"Random Forest Accuracy with Best Parameters:\", accuracy_score(y_test, y_pred_rf))\n",
    "print(\"Random Forest Classification Report with Best Parameters:\\n\", classification_report(y_test, y_pred_rf))\n",
    "\n",
    "# 輸出Confusion Matrix\n",
    "conf_matrix = confusion_matrix(y_test, y_pred_rf)\n",
    "print(\"Confusion Matrix:\")\n",
    "print(conf_matrix)"
   ]
  },
  {
   "cell_type": "code",
   "execution_count": 42,
   "id": "566110a7",
   "metadata": {},
   "outputs": [
    {
     "name": "stdout",
     "output_type": "stream",
     "text": [
      "Best SVM Parameters: {'kernel': 'rbf', 'gamma': 'scale', 'C': 10}\n",
      "SVM Accuracy with Best Parameters: 0.6805054151624549\n",
      "SVM Classification Report with Best Parameters:\n",
      "               precision    recall  f1-score   support\n",
      "\n",
      "         0.0       0.62      0.84      0.71       263\n",
      "         1.0       0.79      0.54      0.64       291\n",
      "\n",
      "    accuracy                           0.68       554\n",
      "   macro avg       0.70      0.69      0.68       554\n",
      "weighted avg       0.71      0.68      0.67       554\n",
      "\n",
      "Confusion Matrix:\n",
      "[[220  43]\n",
      " [134 157]]\n"
     ]
    }
   ],
   "source": [
    "# SVM 參數範圍\n",
    "svm_params = {\n",
    "    'C': [0.1, 1, 10],\n",
    "    'kernel': ['linear', 'rbf', 'poly'],\n",
    "    'gamma': ['scale', 'auto'],\n",
    "}\n",
    "\n",
    "# 使用 RandomizedSearchCV 尋找最佳參數\n",
    "random_search_svm = RandomizedSearchCV(SVC(), svm_params, n_iter=10, cv=kfold, scoring='accuracy', random_state=42)\n",
    "random_search_svm.fit(X_train, y_train)\n",
    "\n",
    "# 打印最佳參數\n",
    "print(\"Best SVM Parameters:\", random_search_svm.best_params_)\n",
    "\n",
    "# 使用最佳參數重新訓練模型\n",
    "best_svm_model = random_search_svm.best_estimator_\n",
    "best_svm_model.fit(X_train, y_train)\n",
    "\n",
    "y_pred_svm = best_svm_model.predict(X_test)\n",
    "print(\"SVM Accuracy with Best Parameters:\", accuracy_score(y_test, y_pred_svm))\n",
    "print(\"SVM Classification Report with Best Parameters:\\n\", classification_report(y_test, y_pred_svm))\n",
    "\n",
    "# 輸出Confusion Matrix\n",
    "conf_matrix = confusion_matrix(y_test, y_pred_svm)\n",
    "print(\"Confusion Matrix:\")\n",
    "print(conf_matrix)"
   ]
  },
  {
   "cell_type": "code",
   "execution_count": 44,
   "id": "ea2dc0b4",
   "metadata": {},
   "outputs": [
    {
     "name": "stdout",
     "output_type": "stream",
     "text": [
      "Stacked Model Accuracy: 0.6805054151624549\n",
      "Stacked Model Classification Report:\n",
      "               precision    recall  f1-score   support\n",
      "\n",
      "         0.0       0.62      0.82      0.71       263\n",
      "         1.0       0.77      0.56      0.65       291\n",
      "\n",
      "    accuracy                           0.68       554\n",
      "   macro avg       0.70      0.69      0.68       554\n",
      "weighted avg       0.70      0.68      0.68       554\n",
      "\n"
     ]
    }
   ],
   "source": [
    "from sklearn.linear_model import LogisticRegression\n",
    "from sklearn.ensemble import StackingClassifier\n",
    "\n",
    "# 定義Stacking模型\n",
    "stacked_model = StackingClassifier(\n",
    "    estimators=[\n",
    "        ('xgboost', best_xgb_model),\n",
    "        ('svm', best_svm_model),\n",
    "        ('random_forest', best_rf_model),\n",
    "        ('naive_bayes', best_nb_model)\n",
    "    ],\n",
    "    final_estimator=LogisticRegression()  \n",
    ")\n",
    "\n",
    "\n",
    "# 訓練Stacking模型\n",
    "stacked_model.fit(X_train, y_train)\n",
    "\n",
    "# 預測和評估Stacking模型\n",
    "stacked_pred = stacked_model.predict(X_test)\n",
    "print(\"Stacked Model Accuracy:\", accuracy_score(y_test, stacked_pred))\n",
    "print(\"Stacked Model Classification Report:\\n\", classification_report(y_test, stacked_pred))\n",
    "\n",
    "\n"
   ]
  },
  {
   "cell_type": "code",
   "execution_count": 45,
   "id": "5235bffc",
   "metadata": {},
   "outputs": [
    {
     "name": "stdout",
     "output_type": "stream",
     "text": [
      "Confusion Matrix:\n",
      "[[215  48]\n",
      " [129 162]]\n"
     ]
    }
   ],
   "source": [
    "# 輸出Confusion Matrix\n",
    "conf_matrix = confusion_matrix(y_test, stacked_pred)\n",
    "print(\"Confusion Matrix:\")\n",
    "print(conf_matrix)"
   ]
  },
  {
   "cell_type": "code",
   "execution_count": 48,
   "id": "b704816a",
   "metadata": {},
   "outputs": [],
   "source": [
    "import pickle\n",
    "\n",
    "# 儲存成pickle檔\n",
    "file_name = 'model.pkl'\n",
    "with open(file_name, 'wb') as f:\n",
    "    pickle.dump(stacked_model, f)"
   ]
  },
  {
   "cell_type": "code",
   "execution_count": 49,
   "id": "d45d2b4f",
   "metadata": {},
   "outputs": [],
   "source": [
    "# 使用範例\n",
    "\n",
    "with open(file_name, 'rb') as f:\n",
    "    model = pickle.load(f)"
   ]
  }
 ],
 "metadata": {
  "kernelspec": {
   "display_name": "Python 3 (ipykernel)",
   "language": "python",
   "name": "python3"
  },
  "language_info": {
   "codemirror_mode": {
    "name": "ipython",
    "version": 3
   },
   "file_extension": ".py",
   "mimetype": "text/x-python",
   "name": "python",
   "nbconvert_exporter": "python",
   "pygments_lexer": "ipython3",
   "version": "3.11.5"
  }
 },
 "nbformat": 4,
 "nbformat_minor": 5
}
