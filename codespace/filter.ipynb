{
 "cells": [
  {
   "cell_type": "markdown",
   "metadata": {},
   "source": [
    "# 篩選航運類股的相關資料，並且存成新的資料集\n",
    "\n",
    "1. 建置航運類股相關的關鍵字\n",
    "    - 參考來源：https://tw.stock.yahoo.com/class-quote?sectorId=20&exchange=TAI"
   ]
  },
  {
   "cell_type": "code",
   "execution_count": 1,
   "metadata": {},
   "outputs": [],
   "source": [
    "stocks_dict = {\n",
    "    \"台船\": \"2208\",\n",
    "    \"長榮\": \"2603\",\n",
    "    \"新興\": \"2605\",\n",
    "    \"裕民\": \"2606\",\n",
    "    \"榮運\": \"2607\",\n",
    "    \"嘉里大榮\": \"2608\",\n",
    "    \"陽明\": \"2609\",\n",
    "    \"華航\": \"2610\",\n",
    "    \"志信\": \"2611\",\n",
    "    \"中航\": \"2612\",\n",
    "    \"中櫃\": \"2613\",\n",
    "    \"萬海\": \"2615\",\n",
    "    \"台航\": \"2617\",\n",
    "    \"長榮航\": \"2618\",\n",
    "    \"亞航\": \"2630\",\n",
    "    \"台灣高鐵\": \"2633\",\n",
    "    \"漢翔\": \"2634\",\n",
    "    \"台驊投控\": \"2636\",\n",
    "    \"慧洋-KY\": \"2637\",\n",
    "    \"宅配通\": \"2642\",\n",
    "    \"長榮航太\": \"2645\",\n",
    "    \"遠雄港\": \"5607\",\n",
    "    \"四維航\": \"5608\",\n",
    "    \"龍德造船\": \"6753\",\n",
    "    \"建新國際\": \"8367\"\n",
    "}"
   ]
  },
  {
   "cell_type": "markdown",
   "metadata": {},
   "source": [
    "2. 篩選標題或內文包含航運類股關鍵字的新聞、討論文章"
   ]
  },
  {
   "cell_type": "code",
   "execution_count": 2,
   "metadata": {},
   "outputs": [],
   "source": [
    "import pandas as pd\n",
    "condition_str = '|'.join(stocks_dict.keys())\n",
    "condition_str += '|航運'\n",
    "condition_str\n",
    "\n",
    "summary_dict = {}"
   ]
  },
  {
   "cell_type": "markdown",
   "metadata": {},
   "source": [
    "- bda2024_202203-202402_內容數據_新聞"
   ]
  },
  {
   "cell_type": "code",
   "execution_count": 3,
   "metadata": {},
   "outputs": [],
   "source": [
    "df_filtered = pd.DataFrame()\n",
    "for i in range(1, 4):\n",
    "    df = pd.read_csv(f'./data/bda2024_202203-202402_內容數據_新聞{i}.csv')\n",
    "    df_filtered_tmp = df[(df['title'].str.contains(condition_str))]  \n",
    "    df_filtered = pd.concat([df_filtered, df_filtered_tmp])\n",
    "\n",
    "df_filtered.to_csv('./data_new/news_filtered.csv', index=False)\n",
    "summary_dict['news_filtered'] = df_filtered.shape[0]"
   ]
  },
  {
   "cell_type": "markdown",
   "metadata": {},
   "source": [
    "- bda2024_202203-202402_討論數據_dcard"
   ]
  },
  {
   "cell_type": "code",
   "execution_count": 4,
   "metadata": {},
   "outputs": [],
   "source": [
    "df = pd.read_csv('./data/bda2024_202203-202402_討論數據_dcard.csv')\n",
    "df_filtered = df[(df['title'].str.contains(condition_str))]\n",
    "df_filtered.to_csv('./data_new/dcard_filtered.csv', index=False)\n",
    "summary_dict['dcard_filtered'] = df_filtered.shape[0]"
   ]
  },
  {
   "cell_type": "markdown",
   "metadata": {},
   "source": [
    "- bda2024_202203-202402_討論數據_mobile01"
   ]
  },
  {
   "cell_type": "code",
   "execution_count": 5,
   "metadata": {},
   "outputs": [],
   "source": [
    "df_filtered = pd.DataFrame()\n",
    "for i in range(1, 3):\n",
    "    df = pd.read_csv(f'./data/bda2024_202203-202402_討論數據_mobile01-{i}.csv')\n",
    "    df_filtered_tmp = df[(df['title'].str.contains(condition_str))]\n",
    "    df_filtered = pd.concat([df_filtered, df_filtered_tmp]) \n",
    "\n",
    "df_filtered.to_csv('./data_new/mobile01_filtered.csv', index=False)\n",
    "summary_dict['mobile01_filtered'] = df_filtered.shape[0]"
   ]
  },
  {
   "cell_type": "markdown",
   "metadata": {},
   "source": [
    "- bda2024_202203-202402_討論數據_ptt"
   ]
  },
  {
   "cell_type": "code",
   "execution_count": 6,
   "metadata": {},
   "outputs": [],
   "source": [
    "df_filtered = pd.DataFrame()    \n",
    "df = pd.read_csv('./data/bda2024_202203-202402_討論數據_ptt.csv')\n",
    "df_filtered = df[(df['title'].str.contains(condition_str))]\n",
    "df_filtered.to_csv('./data_new/ptt_filtered.csv', index=False)\n",
    "summary_dict['ptt_filtered'] = df_filtered.shape[0]"
   ]
  },
  {
   "cell_type": "markdown",
   "metadata": {},
   "source": [
    "- Summary"
   ]
  },
  {
   "cell_type": "code",
   "execution_count": 10,
   "metadata": {},
   "outputs": [
    {
     "name": "stdout",
     "output_type": "stream",
     "text": [
      "{'news_filtered': 8617, 'dcard_filtered': 6665, 'mobile01_filtered': 683, 'ptt_filtered': 2013}\n"
     ]
    }
   ],
   "source": [
    "print(summary_dict)"
   ]
  },
  {
   "cell_type": "markdown",
   "metadata": {},
   "source": [
    "3. 篩選航運類股的交易數據\n",
    "   "
   ]
  },
  {
   "cell_type": "code",
   "execution_count": 21,
   "metadata": {},
   "outputs": [
    {
     "name": "stderr",
     "output_type": "stream",
     "text": [
      "/var/folders/ss/9b82800n1bq54s_0p7_m551c0000gn/T/ipykernel_70935/973143896.py:3: DtypeWarning: Columns (1) have mixed types. Specify dtype option on import or set low_memory=False.\n",
      "  df = pd.read_csv(f'./data/{file}.csv')\n",
      "/var/folders/ss/9b82800n1bq54s_0p7_m551c0000gn/T/ipykernel_70935/973143896.py:3: DtypeWarning: Columns (1) have mixed types. Specify dtype option on import or set low_memory=False.\n",
      "  df = pd.read_csv(f'./data/{file}.csv')\n"
     ]
    }
   ],
   "source": [
    "list_to_filter = ['bda2024_微股力_個股交易數據-2年', 'bda2024_微股力_社群PKTD-2年', 'bda2024_微股力_籌碼數據-2年', 'bda2024_微股力_財報數據-2年']\n",
    "for file in list_to_filter:\n",
    "    df = pd.read_csv(f'./data/{file}.csv')\n",
    "    df['stock_symbol'] = df['stock_symbol'].astype(str)\n",
    "    df_filtered = df[df['stock_symbol'].str.contains('|'.join(stocks_dict.values()))]\n",
    "    df_filtered.to_csv(f'./data_new/{file[12:]}_filtered.csv', index=False)\n",
    "    summary_dict[file] = df_filtered.shape[0]"
   ]
  }
 ],
 "metadata": {
  "kernelspec": {
   "display_name": "Python 3",
   "language": "python",
   "name": "python3"
  },
  "language_info": {
   "codemirror_mode": {
    "name": "ipython",
    "version": 3
   },
   "file_extension": ".py",
   "mimetype": "text/x-python",
   "name": "python",
   "nbconvert_exporter": "python",
   "pygments_lexer": "ipython3",
   "version": "3.9.13"
  }
 },
 "nbformat": 4,
 "nbformat_minor": 2
}
