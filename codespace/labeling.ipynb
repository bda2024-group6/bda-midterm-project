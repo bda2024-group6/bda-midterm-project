{
 "cells": [
  {
   "cell_type": "code",
   "execution_count": 1,
   "metadata": {},
   "outputs": [],
   "source": [
    "import os\n",
    "import pickle\n",
    "from datetime import datetime, timedelta\n",
    "from collections import Counter\n",
    "from tqdm import tqdm\n",
    "\n",
    "import numpy as np\n",
    "import pandas as pd"
   ]
  },
  {
   "cell_type": "markdown",
   "metadata": {},
   "source": [
    "## function"
   ]
  },
  {
   "cell_type": "code",
   "execution_count": 12,
   "metadata": {},
   "outputs": [],
   "source": [
    "#前處理\n",
    "def label_preprocessing(data_list, transaction):\n",
    "    \n",
    "    transaction['date'] = pd.to_datetime(transaction['date'])\n",
    "    transaction['date'] = pd.to_datetime(transaction['date'].dt.date)\n",
    "    for data in data_list:\n",
    "        data['post_time'] = pd.to_datetime(data['post_time'])\n",
    "        data[\"date\"] = pd.to_datetime(data['post_time'].dt.date)\n",
    "\n",
    "    sorted_trans = transaction.sort_values(by=[\"date\",\"stock_name\"]).reset_index(drop=True)\n",
    "\n",
    "    return data_list, sorted_trans\n",
    "    "
   ]
  },
  {
   "cell_type": "code",
   "execution_count": 3,
   "metadata": {},
   "outputs": [],
   "source": [
    "#回傳一個兩欄的list，標註每個交易日股票是漲、跌或持平。\n",
    "def calculate_score(sorted_trans,companylist,company_share):\n",
    "    #初始值\n",
    "    lastday_close = {}\n",
    "    for company in companylist:\n",
    "        lastday_close[company] = 0\n",
    "\n",
    "    old_date = \"2022-03-01\"\n",
    "\n",
    "    for index, row in sorted_trans.iterrows():\n",
    "\n",
    "        #特殊情況：股票頭一次紀錄，全部設為0、紀錄收盤價\n",
    "        if lastday_close[row[\"stock_name\"]] == 0:\n",
    "            sorted_trans.loc[index,\"change\"] = 0\n",
    "            sorted_trans.loc[index,\"partition\"] = 0\n",
    "            sorted_trans.loc[index,\"score\"] = 0\n",
    "            lastday_close[row[\"stock_name\"]] = row[\"close\"]\n",
    "            continue\n",
    "\n",
    "        #新的一天，重新計算總市值\n",
    "        if row[\"date\"] != old_date:\n",
    "            old_date = row[\"date\"]\n",
    "            today_data = sorted_trans[sorted_trans[\"date\"] == row[\"date\"]]\n",
    "            totalMarketValue = 0\n",
    "            #print(row[\"date\"])\n",
    "            if pd.to_datetime(row[\"date\"]) < pd.to_datetime(\"2022-09-19\"):\n",
    "                for index_today, row_today in today_data.iterrows():\n",
    "                    totalMarketValue += row_today[\"close\"] * company_share[0][row_today[\"stock_name\"]]\n",
    "            else:\n",
    "                for index_today, row_today in today_data.iterrows():\n",
    "                    totalMarketValue += row_today[\"close\"] * company_share[1][row_today[\"stock_name\"]]\n",
    "        \n",
    "        #計算漲幅\n",
    "        else:\n",
    "            today_close = row[\"close\"]                             \n",
    "            change = (today_close - lastday_close[row[\"stock_name\"]]) / lastday_close[row[\"stock_name\"]]    #print(change)\n",
    "            sorted_trans.loc[index,\"change\"] = change\n",
    "\n",
    "\n",
    "        #當日該股票市值佔總市值比例\n",
    "        if pd.to_datetime(row[\"date\"]) < pd.to_datetime(\"2022-09-16\"):\n",
    "            for index_today, row_today in today_data.iterrows():\n",
    "                sorted_trans.loc[index,\"partition\"] = row[\"close\"] * company_share[0][row[\"stock_name\"]]/ totalMarketValue\n",
    "        else:\n",
    "            for index_today, row_today in today_data.iterrows():\n",
    "                sorted_trans.loc[index,\"partition\"] = row[\"close\"] * company_share[1][row[\"stock_name\"]]/ totalMarketValue\n",
    "                \n",
    "\n",
    "        #加權分數 (漲幅*市值佔比)\n",
    "        sorted_trans.loc[index,\"score\"] = sorted_trans.loc[index,\"change\"] * sorted_trans.loc[index,\"partition\"]\n",
    "\n",
    "        #收盤價更新\n",
    "        lastday_close[row[\"stock_name\"]] = row[\"close\"]\n",
    "    \n",
    "\n",
    "\n",
    "    #每日類股漲跌總平均 (按日期把score加總)\n",
    "    date_score = pd.pivot_table(\n",
    "                                        data = sorted_trans,\n",
    "                                        values = \"score\",\n",
    "                                        index = \"date\",\n",
    "                                        aggfunc = \"sum\"\n",
    "                                    ).reset_index()\n",
    "\n",
    "    #根據敘述統計，以總漲幅/跌幅0.9%為區分，中間約50%資料為持平，不會納入機器學習(-1)\n",
    "    date_score[\"rise_fall\"] = np.where(date_score['score'] >= 0.009, 1, np.where(date_score['score'] <= -0.009, 0, -1))\n",
    "        \n",
    "    return date_score"
   ]
  },
  {
   "cell_type": "code",
   "execution_count": 4,
   "metadata": {},
   "outputs": [],
   "source": [
    "#資料標籤\n",
    "def text_label(data_list,date_score):\n",
    "        \n",
    "    #共五種label，設為討論發生後1-5天\n",
    "    day_option = [1,2,3,4,5]\n",
    "    #開市日\n",
    "    open_dates =date_score[\"date\"].unique()\n",
    "\n",
    "    for data in data_list:\n",
    "        for day_after in day_option:\n",
    "            new_col = \"label_day\" + str(day_after)\n",
    "\n",
    "            for index, row in data.iterrows():\n",
    "                \n",
    "                #date_to_find為討論日+day_after\n",
    "                date_to_find = pd.to_datetime(row[\"date\"]) + pd.Timedelta(days= day_after) #print(index,\"today\",row[\"date\"], \"find\", date_to_find)\n",
    "                \n",
    "                #當日有開市\n",
    "                if date_to_find in open_dates:\n",
    "                    data.loc[index,new_col] = date_score.loc[date_score[\"date\"] == date_to_find,\"rise_fall\"].iloc[0] #print(\"found,\", data.loc[index,new_col])\n",
    "                \n",
    "                #當日無開市->延後到下一個開市日\n",
    "                #最後面的一些討論日期比市場數據晚，無法驗證故標為-1\n",
    "                else:\n",
    "                    next_date = date_score[date_score['date'] > date_to_find]['date'].min()\n",
    "                    if not pd.isnull(next_date):\n",
    "                        data.loc[index,new_col] = date_score.loc[date_score[\"date\"] == next_date, \"rise_fall\"].iloc[0] #print(\"not found, use \", next_date, data.loc[index,new_col])\n",
    "                    else:\n",
    "                        data.loc[index,new_col] = -1 #print(\"out of range, label as -1\")\n",
    "\n",
    "\n",
    "    return data_list"
   ]
  },
  {
   "cell_type": "code",
   "execution_count": 5,
   "metadata": {},
   "outputs": [],
   "source": [
    "#sample code裡面就有給\n",
    "def load_df(filepath, preview=True):\n",
    "    print(f\"\\n----- Loading {filepath}... -----\")\n",
    "    df = pd.read_csv(filepath)\n",
    "    print(f\"Size of dataframe: {df.shape}\")\n",
    "    print(f\"Columns: {list(df.columns)}\")\n",
    "    if preview:\n",
    "        print(df.head())\n",
    "    return df"
   ]
  },
  {
   "cell_type": "code",
   "execution_count": 6,
   "metadata": {},
   "outputs": [],
   "source": [
    "#總函數，回傳標籤好的datalist\n",
    "def labeling_all(init_data_list,transaction):\n",
    "\n",
    "    companylist = ['長榮航太', '台灣高鐵', '龍德造船', '亞航', '宅配通', '建新國際', '台船', '台驊投控', '漢翔',\n",
    "    '慧洋-KY', '遠雄港', '志信', '華航', '裕民', '新興', '陽明', '台航', '中櫃', '嘉里大榮',\n",
    "    '四維航', '萬海', '長榮航', '榮運', '長榮', '中航']\n",
    "\n",
    "    company_share = [{'長榮航太':352806962, '台灣高鐵':5628293058, '龍德造船':80000000, '亞航':150300385, '宅配通':95467000, '建新國際':81131938,\n",
    "                '台船':931787296, '台驊投控':144752230, '漢翔':941867101,'慧洋-KY':746409199, '遠雄港':229979100, '志信':171820247, \n",
    "                '華航':5740484368, '裕民':845055712, '新興':585353297, '陽明':3492104270, '台航':417294487, '中櫃':148423458, \n",
    "                '嘉里大榮':467000498,'四維航':279267090, '萬海':2440127212, '長榮航':5138538667, '榮運':1067141094, '長榮':5290848436, \n",
    "                '中航':197484593},\n",
    "                {'長榮航太':352806962, '台灣高鐵':5628293058, '龍德造船':98000000, '亞航':161928530, '宅配通':87731938, '建新國際':81131938,\n",
    "                '台船':931787296, '台驊投控':143391230, '漢翔':941867101,'慧洋-KY':746409199, '遠雄港':254979100, '志信':189002272, \n",
    "                '華航':6013537444, '裕民':845055712, '新興':585353297, '陽明':3492104270, '台航':417294487, '中櫃':148423458, \n",
    "                '嘉里大榮':467000498,'四維航':329267090, '萬海':2806146293, '長榮航':5346225996, '榮運':1067141094, '長榮':2116420082, \n",
    "                '中航':197484593}]\n",
    "\n",
    "    data_list, sorted_trans = label_preprocessing(init_data_list,transaction)\n",
    "    date_score = calculate_score(sorted_trans,companylist,company_share)\n",
    "    labeled_data_list = text_label(data_list,date_score)\n",
    "    return labeled_data_list"
   ]
  },
  {
   "cell_type": "markdown",
   "metadata": {},
   "source": [
    "## main"
   ]
  },
  {
   "cell_type": "code",
   "execution_count": 7,
   "metadata": {},
   "outputs": [
    {
     "name": "stdout",
     "output_type": "stream",
     "text": [
      "当前工作目录为 c:\\Users\\d1073\\OneDrive\\桌面\\bda\\bda-midterm-project\\data\n",
      "\n"
     ]
    }
   ],
   "source": [
    "os.chdir(\"./bda-midterm-project/data\")\n",
    "retval = os.getcwd()\n",
    "print(\"当前工作目录为 %s\" % retval + \"\\n\")"
   ]
  },
  {
   "cell_type": "code",
   "execution_count": 8,
   "metadata": {},
   "outputs": [
    {
     "name": "stdout",
     "output_type": "stream",
     "text": [
      "\n",
      "----- Loading news_filtered.csv... -----\n",
      "Size of dataframe: (8617, 9)\n",
      "Columns: ['id', 'p_type', 's_name', 's_area_name', 'post_time', 'title', 'author', 'content', 'page_url']\n",
      "\n",
      "----- Loading mobile01_filtered.csv... -----\n",
      "Size of dataframe: (683, 10)\n",
      "Columns: ['id', 'p_type', 's_name', 's_area_name', 'post_time', 'title', 'author', 'content', 'page_url', 'content_type']\n",
      "\n",
      "----- Loading dcard_filtered.csv... -----\n",
      "Size of dataframe: (6665, 10)\n",
      "Columns: ['id', 'forum', 's_name', 's_area_name', 'post_time', 'title', 'author', 'content', 'page_url', 'content_type']\n",
      "\n",
      "----- Loading ptt_filtered.csv... -----\n",
      "Size of dataframe: (2013, 9)\n",
      "Columns: ['id', 'p_type', 's_name', 's_area_name', 'post_time', 'title', 'author', 'content', 'page_url']\n",
      "\n",
      "----- Loading 個股交易數據-2年_filtered.csv... -----\n",
      "Size of dataframe: (11614, 8)\n",
      "Columns: ['stock_name', 'stock_symbol', 'open', 'high', 'low', 'close', 'volume', 'date']\n",
      "  stock_name  stock_symbol  open  high   low  close  volume  \\\n",
      "0       長榮航太          2645  91.9  94.7  89.5   89.5    8434   \n",
      "1       長榮航太          2645  90.3  91.5  88.5   89.5    4004   \n",
      "2       長榮航太          2645  88.6  88.7  84.1   84.7    3228   \n",
      "3       長榮航太          2645  85.4  90.2  85.4   89.9    3584   \n",
      "4       長榮航太          2645  89.1  91.4  88.1   90.8    2509   \n",
      "\n",
      "                  date  \n",
      "0  2023-03-14 00:00:00  \n",
      "1  2023-03-15 00:00:00  \n",
      "2  2023-03-16 00:00:00  \n",
      "3  2023-03-17 00:00:00  \n",
      "4  2023-03-20 00:00:00  \n"
     ]
    }
   ],
   "source": [
    "news = load_df(\"news_filtered.csv\", preview=False)\n",
    "mobile01 = load_df(\"mobile01_filtered.csv\", preview=False)\n",
    "dcard = load_df(\"dcard_filtered.csv\", preview=False)\n",
    "ptt = load_df(\"ptt_filtered.csv\", preview=False)\n",
    "\n",
    "transaction = load_df(\"個股交易數據-2年_filtered.csv\", preview=True)"
   ]
  },
  {
   "cell_type": "code",
   "execution_count": 9,
   "metadata": {},
   "outputs": [],
   "source": [
    "#將4個dataset 放入 list\n",
    "init_data_list = []\n",
    "init_data_list.append(news)\n",
    "init_data_list.append(mobile01)\n",
    "init_data_list.append(dcard)\n",
    "init_data_list.append(ptt)"
   ]
  },
  {
   "cell_type": "code",
   "execution_count": 13,
   "metadata": {},
   "outputs": [],
   "source": [
    "labeled_data_list = labeling_all(init_data_list,transaction)"
   ]
  },
  {
   "cell_type": "code",
   "execution_count": 14,
   "metadata": {},
   "outputs": [],
   "source": [
    "'''\n",
    "labeled_data_list[0].to_csv('news_filtered_labeled.csv')\n",
    "labeled_data_list[1].to_csv('mobile01_filtered_labeled.csv')\n",
    "labeled_data_list[2].to_csv('dcard_filtered_labeled.csv')\n",
    "labeled_data_list[3].to_csv('ptt_filtered_labeled.csv')\n",
    "'''"
   ]
  }
 ],
 "metadata": {
  "kernelspec": {
   "display_name": "Python 3",
   "language": "python",
   "name": "python3"
  },
  "language_info": {
   "codemirror_mode": {
    "name": "ipython",
    "version": 3
   },
   "file_extension": ".py",
   "mimetype": "text/x-python",
   "name": "python",
   "nbconvert_exporter": "python",
   "pygments_lexer": "ipython3",
   "version": "3.12.1"
  }
 },
 "nbformat": 4,
 "nbformat_minor": 2
}
